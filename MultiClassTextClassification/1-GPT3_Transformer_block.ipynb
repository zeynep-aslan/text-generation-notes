{
 "cells": [
  {
   "cell_type": "markdown",
   "metadata": {
    "id": "D5SVGTJ3BsQ3"
   },
   "source": [
    "# Multi-Class Text Classification Part B: Using a GPT3 Transformer block: An End-to-End Example\n",
    "\n",
    "\n",
    "**Author:** [Murat Karakaya & Cansen Çağlayan](https://www.linkedin.com/in/muratkarakaya/)<br>\n",
    "**Date created:** 05 Oct 2021<br>\n",
    "**Last modified:** 19 Oct 2021<br>\n",
    "**Description:** This tutorial has 2 parts as explained below.\n",
    "\n",
    "**Accessible on:**\n",
    "* YouTube in English:\n",
    "\n",
    "[Part A](https://youtu.be/ky_Dlfnsk9M)\n",
    "\n",
    "[Part B](https://youtu.be/KnSeSdXMX_Q)\n",
    "\n",
    "[Controllable Text Generation with Transformer Structure (GPT3) playlist](https://www.youtube.com/playlist?list=PLQflnv_s49v8Eo2idw9Ju5Qq3JTEF-OFW)\n",
    "\n",
    "[Classification with Keras / Tensorflow playlist](https://www.youtube.com/playlist?list=PLQflnv_s49v-RGv6jb_sFOb_of9VOEpKG)\n",
    "\n",
    "\n",
    "* [Medium](https://kmkarakaya.medium.com/multi-class-text-classification-end-to-end-example-e32133a2d3cc)\n",
    "* [Github pages](https://kmkarakaya.github.io/Deep-Learning-Tutorials/)\n",
    "* [Github Repo](https://github.com/kmkarakaya/Deep-Learning-Tutorials)\n",
    "* [Google Colab](https://colab.research.google.com/drive/1BHL_jaEVuTy6cfYBk8n-8iYvSeJICo12?usp=sharing)\n",
    "\n",
    "\n",
    "\n",
    "**Part A: Data Analysis & Text Preprocessing**\n",
    "\n",
    "Changes made according to the suggestions after the Research Meeting.\n",
    "\n",
    "All preprocess operations to be applied to text data are included in the custom_standardization function. Thus, the text vectorization layer will use these operations as standardized and apply it to every given text data.\n",
    "\n",
    "The changes that have been made :\n",
    "\n",
    "1.   The process of removing numbers from text data is included in the custom_standardization function.\n",
    "2.   The process of removing punctuation from text data is included in the custom_standardization function.\n",
    "3.   Removing **\"Devamını oku (Read more)\"** from text data is included in the custom_standardization function.\n",
    "4.   Changing the Turkish characters (ç,ğ,ı,ö,ş,ü) in the text data as (c,g,i,o,s,u) has been added to the custom_standardization function.\n",
    "5.   Added **encoding='utf-8'** to lowercase function.\n",
    "\n",
    "You can **watch** the Part A [on the Murat Karakaya Akademi YouTube channel](https://youtu.be/ky_Dlfnsk9M).\n",
    "\n"
   ]
  },
  {
   "cell_type": "markdown",
   "metadata": {
    "id": "e7Ku0Xu1M4Om"
   },
   "source": [
    "**Part B: Text Classiffication**\n",
    "\n",
    "**Multi-Class Classification Metrics**\n",
    "\n",
    "*   confusion_matrix :  Compute confusion matrix to evaluate the accuracy of a classification.\n",
    "\n",
    "https://scikit-learn.org/stable/modules/generated/sklearn.metrics.confusion_matrix.html#sklearn.metrics.confusion_matrix\n",
    "\n",
    "*   balanced_accuracy_score : The balanced accuracy in binary and multiclass classification problems to deal with imbalanced datasets. It is defined as the average of recall obtained on each class.\n",
    "\n",
    "https://scikit-learn.org/stable/modules/generated/sklearn.metrics.balanced_accuracy_score.html#sklearn.metrics.balanced_accuracy_score\n",
    "\n",
    "*   matthews_corrcoef : The Matthews correlation coefficient is used in machine learning as a measure of the quality of binary and multiclass classifications. It takes into account true and false positives and negatives and is generally regarded as a balanced measure which can be used even if the classes are of very different sizes.\n",
    "\n",
    "https://scikit-learn.org/stable/modules/generated/sklearn.metrics.matthews_corrcoef.html#sklearn.metrics.matthews_corrcoef\n",
    "\n",
    "*   f1_score :  The F1 score can be interpreted as a weighted average of the precision and recall\n",
    "\n",
    "https://scikit-learn.org/stable/modules/generated/sklearn.metrics.f1_score.html?highlight=f1#sklearn.metrics.f1_score\n",
    "\n",
    "\n",
    "You can **watch** the Part B [on the Murat Karakaya Akademi YouTube channel](https://youtu.be/KnSeSdXMX_Q).\n",
    "\n",
    "\n",
    "\n",
    "\n",
    "\n"
   ]
  },
  {
   "cell_type": "markdown",
   "metadata": {
    "id": "xXJMRRgp-8fg"
   },
   "source": [
    "# References\n",
    "\n",
    "You can ***watch*** all the tutorials on the  **Murat Karakaya Akademi YouTube channel**:\n",
    "\n",
    "[Controllable Text Generation with Transformer Structure (GPT3) playlist](https://www.youtube.com/playlist?list=PLQflnv_s49v8Eo2idw9Ju5Qq3JTEF-OFW)\n",
    "\n",
    "[Classification with Keras / Tensorflow playlist](https://www.youtube.com/playlist?list=PLQflnv_s49v-RGv6jb_sFOb_of9VOEpKG)\n",
    "\n",
    "<br>\n",
    "\n",
    "\n",
    "https://stackoverflow.com/questions/62591306/applying-k-fold-validation-for-text-classification\n",
    "\n",
    "https://stackoverflow.com/questions/65103526/how-to-save-textvectorization-to-disk-in-tensorflow\n",
    "\n",
    "https://www.kaggle.com/selener/multi-class-text-classification-tfidf#Text-classification-(multiclass)\n",
    "\n",
    "https://scikit-learn.org/stable/modules/model_evaluation.html\n",
    "\n",
    "https://keras.io/examples/nlp/text_classification_with_transformer/\n",
    "\n",
    "https://www.youtube.com/watch?v=F--_SOlufpE&t=28s\n",
    "\n",
    "https://www.kaggle.com/selener/multi-class-text-classification-tfidf\n",
    "\n",
    "https://www.kaggle.com/darkcore/multi-class-text-classification-with-cnn"
   ]
  },
  {
   "cell_type": "markdown",
   "metadata": {
    "id": "onY0VMQRBzkb"
   },
   "source": [
    "# Import Libraries"
   ]
  },
  {
   "cell_type": "code",
   "execution_count": null,
   "metadata": {
    "colab": {
     "base_uri": "https://localhost:8080/"
    },
    "id": "GqseRalJZNBd",
    "outputId": "fccad605-ad83-4799-f554-b99e85b21eab"
   },
   "outputs": [
    {
     "name": "stdout",
     "output_type": "stream",
     "text": [
      "Requirement already satisfied: scikit-learn in /usr/local/lib/python3.7/dist-packages (1.0)\n",
      "Requirement already satisfied: numpy>=1.14.6 in /usr/local/lib/python3.7/dist-packages (from scikit-learn) (1.19.5)\n",
      "Requirement already satisfied: threadpoolctl>=2.0.0 in /usr/local/lib/python3.7/dist-packages (from scikit-learn) (3.0.0)\n",
      "Requirement already satisfied: joblib>=0.11 in /usr/local/lib/python3.7/dist-packages (from scikit-learn) (1.0.1)\n",
      "Requirement already satisfied: scipy>=1.1.0 in /usr/local/lib/python3.7/dist-packages (from scikit-learn) (1.4.1)\n"
     ]
    }
   ],
   "source": [
    "!pip install --upgrade scikit-learn"
   ]
  },
  {
   "cell_type": "code",
   "execution_count": null,
   "metadata": {
    "id": "wZLnlgwIBcE8"
   },
   "outputs": [],
   "source": [
    "import numpy as np \n",
    "import pandas as pd \n",
    "import matplotlib.pyplot as plt\n",
    "import os\n",
    "import pickle\n",
    "\n",
    "import tensorflow as tf\n",
    "from tensorflow import keras\n",
    "from tensorflow.keras import layers\n",
    "from tensorflow.keras.layers.experimental.preprocessing import TextVectorization\n",
    "import re\n",
    "import string\n",
    "import random\n",
    "from sklearn.model_selection import train_test_split\n",
    "from collections import Counter\n",
    "import seaborn as sns\n",
    "from io import StringIO\n",
    "from sklearn.feature_extraction.text import TfidfVectorizer\n",
    "from sklearn.feature_selection import chi2\n",
    "from IPython.display import display\n",
    "from sklearn.feature_extraction.text import TfidfTransformer\n",
    "from sklearn.model_selection import cross_val_score\n",
    "from sklearn import metrics\n",
    "from sklearn.metrics import confusion_matrix\n",
    "import matplotlib.pyplot as plt\n",
    "from sklearn.metrics import roc_auc_score\n",
    "from sklearn.metrics import balanced_accuracy_score\n",
    "from sklearn.model_selection import KFold\n",
    "from sklearn.metrics import accuracy_score\n",
    "from sklearn.metrics import top_k_accuracy_score\n",
    "from sklearn.metrics import f1_score\n",
    "from sklearn.metrics import matthews_corrcoef\n",
    "from sklearn.metrics import mean_squared_error"
   ]
  },
  {
   "cell_type": "code",
   "execution_count": null,
   "metadata": {
    "colab": {
     "base_uri": "https://localhost:8080/"
    },
    "id": "xvDKzDcmB9BC",
    "outputId": "382abbd1-6c04-4a70-e874-6ff0a42f55c9"
   },
   "outputs": [
    {
     "name": "stdout",
     "output_type": "stream",
     "text": [
      "Requirement already satisfied: ipython-autotime in /usr/local/lib/python3.7/dist-packages (0.3.1)\n",
      "Requirement already satisfied: ipython in /usr/local/lib/python3.7/dist-packages (from ipython-autotime) (5.5.0)\n",
      "Requirement already satisfied: pexpect in /usr/local/lib/python3.7/dist-packages (from ipython->ipython-autotime) (4.8.0)\n",
      "Requirement already satisfied: decorator in /usr/local/lib/python3.7/dist-packages (from ipython->ipython-autotime) (4.4.2)\n",
      "Requirement already satisfied: prompt-toolkit<2.0.0,>=1.0.4 in /usr/local/lib/python3.7/dist-packages (from ipython->ipython-autotime) (1.0.18)\n",
      "Requirement already satisfied: pickleshare in /usr/local/lib/python3.7/dist-packages (from ipython->ipython-autotime) (0.7.5)\n",
      "Requirement already satisfied: pygments in /usr/local/lib/python3.7/dist-packages (from ipython->ipython-autotime) (2.6.1)\n",
      "Requirement already satisfied: traitlets>=4.2 in /usr/local/lib/python3.7/dist-packages (from ipython->ipython-autotime) (5.1.0)\n",
      "Requirement already satisfied: setuptools>=18.5 in /usr/local/lib/python3.7/dist-packages (from ipython->ipython-autotime) (57.4.0)\n",
      "Requirement already satisfied: simplegeneric>0.8 in /usr/local/lib/python3.7/dist-packages (from ipython->ipython-autotime) (0.8.1)\n",
      "Requirement already satisfied: six>=1.9.0 in /usr/local/lib/python3.7/dist-packages (from prompt-toolkit<2.0.0,>=1.0.4->ipython->ipython-autotime) (1.15.0)\n",
      "Requirement already satisfied: wcwidth in /usr/local/lib/python3.7/dist-packages (from prompt-toolkit<2.0.0,>=1.0.4->ipython->ipython-autotime) (0.2.5)\n",
      "Requirement already satisfied: ptyprocess>=0.5 in /usr/local/lib/python3.7/dist-packages (from pexpect->ipython->ipython-autotime) (0.7.0)\n",
      "time: 660 µs (started: 2021-10-18 20:23:41 +00:00)\n"
     ]
    }
   ],
   "source": [
    "#@title Record Each Cell's Execution Time\n",
    "!pip install ipython-autotime\n",
    "\n",
    "%load_ext autotime"
   ]
  },
  {
   "cell_type": "markdown",
   "metadata": {
    "id": "k2K8SW2LCAdP"
   },
   "source": [
    "# Download Kaggle Dataset into Google Colab\n",
    "\n",
    "[The Kaggle Dataset is here.](https://www.kaggle.com/savasy/multiclass-classification-data-for-turkish-tc32?select=ticaret-yorum.csv)"
   ]
  },
  {
   "cell_type": "code",
   "execution_count": null,
   "metadata": {
    "colab": {
     "base_uri": "https://localhost:8080/"
    },
    "id": "ykrOFK0YCA7Q",
    "outputId": "e9a82c67-25af-4b6d-9279-fb999999102b"
   },
   "outputs": [
    {
     "name": "stdout",
     "output_type": "stream",
     "text": [
      "Drive already mounted at /content/gdrive; to attempt to forcibly remount, call drive.mount(\"/content/gdrive\", force_remount=True).\n",
      "time: 7.19 ms (started: 2021-10-18 20:23:41 +00:00)\n"
     ]
    }
   ],
   "source": [
    "from google.colab import drive\n",
    "drive.mount('/content/gdrive')"
   ]
  },
  {
   "cell_type": "code",
   "execution_count": null,
   "metadata": {
    "colab": {
     "base_uri": "https://localhost:8080/"
    },
    "id": "Efd3KxwCCCdy",
    "outputId": "4e7546bd-3b65-4ac7-87b1-8dea65d746e5"
   },
   "outputs": [
    {
     "name": "stdout",
     "output_type": "stream",
     "text": [
      "gdrive\tsample_data\n",
      "time: 135 ms (started: 2021-10-18 20:23:41 +00:00)\n"
     ]
    }
   ],
   "source": [
    "!ls"
   ]
  },
  {
   "cell_type": "code",
   "execution_count": null,
   "metadata": {
    "colab": {
     "base_uri": "https://localhost:8080/"
    },
    "id": "eehsffjeCDjO",
    "outputId": "9f2c579d-7efd-4f91-ea07-cd7e2bbf8da6"
   },
   "outputs": [
    {
     "name": "stdout",
     "output_type": "stream",
     "text": [
      "time: 3.24 ms (started: 2021-10-18 20:23:41 +00:00)\n"
     ]
    }
   ],
   "source": [
    "os.environ['KAGGLE_CONFIG_DIR'] = \"/content/gdrive/MyDrive/Kaggle\""
   ]
  },
  {
   "cell_type": "code",
   "execution_count": null,
   "metadata": {
    "colab": {
     "base_uri": "https://localhost:8080/"
    },
    "id": "yEhpBigXCF5A",
    "outputId": "c0c9e025-d83d-433e-92a5-14042d43209a"
   },
   "outputs": [
    {
     "name": "stdout",
     "output_type": "stream",
     "text": [
      "/content/gdrive/My Drive/Kaggle\n",
      "time: 11 ms (started: 2021-10-18 20:23:41 +00:00)\n"
     ]
    }
   ],
   "source": [
    "#changing the working directory\n",
    "%cd /content/gdrive/My Drive/Kaggle"
   ]
  },
  {
   "cell_type": "code",
   "execution_count": null,
   "metadata": {
    "colab": {
     "base_uri": "https://localhost:8080/"
    },
    "id": "bmFMTqS4CHCr",
    "outputId": "69dc63a8-408a-4863-c751-a02ddffa8f77"
   },
   "outputs": [
    {
     "name": "stdout",
     "output_type": "stream",
     "text": [
      "/content/gdrive/My Drive/Kaggle\n",
      "time: 121 ms (started: 2021-10-18 20:23:41 +00:00)\n"
     ]
    }
   ],
   "source": [
    "#Check the present working directory using pwd command\n",
    "!pwd"
   ]
  },
  {
   "cell_type": "code",
   "execution_count": null,
   "metadata": {
    "colab": {
     "base_uri": "https://localhost:8080/"
    },
    "id": "tTPtdy8vCIek",
    "outputId": "ce03502d-a784-4194-be45-e278ae79dfff"
   },
   "outputs": [
    {
     "name": "stdout",
     "output_type": "stream",
     "text": [
      "time: 1.81 ms (started: 2021-10-18 20:23:41 +00:00)\n"
     ]
    }
   ],
   "source": [
    "#!kaggle datasets download -d savasy/multiclass-classification-data-for-turkish-tc32"
   ]
  },
  {
   "cell_type": "code",
   "execution_count": null,
   "metadata": {
    "colab": {
     "base_uri": "https://localhost:8080/"
    },
    "id": "KFTthXaICJyh",
    "outputId": "f678eef7-f601-489b-f302-437ab505d962"
   },
   "outputs": [
    {
     "name": "stdout",
     "output_type": "stream",
     "text": [
      "kaggle.json  ticaret-yorum.csv\n",
      "time: 137 ms (started: 2021-10-18 20:23:41 +00:00)\n"
     ]
    }
   ],
   "source": [
    "# check the downloaded zip file\n",
    "!ls "
   ]
  },
  {
   "cell_type": "code",
   "execution_count": null,
   "metadata": {
    "colab": {
     "base_uri": "https://localhost:8080/"
    },
    "id": "if78Y88ICLFu",
    "outputId": "2033891b-6605-4c9b-b48b-71a2a908e138"
   },
   "outputs": [
    {
     "name": "stdout",
     "output_type": "stream",
     "text": [
      "time: 982 µs (started: 2021-10-18 20:23:41 +00:00)\n"
     ]
    }
   ],
   "source": [
    "# unzipping the zip files and deleting the zip files\n",
    "#!unzip \\*.zip  && rm *.zip"
   ]
  },
  {
   "cell_type": "code",
   "execution_count": null,
   "metadata": {
    "colab": {
     "base_uri": "https://localhost:8080/"
    },
    "id": "lMHBA8GeCLv7",
    "outputId": "1dfc9326-d7b7-47ef-97ab-90a196f75f34"
   },
   "outputs": [
    {
     "name": "stdout",
     "output_type": "stream",
     "text": [
      "kaggle.json  ticaret-yorum.csv\n",
      "time: 122 ms (started: 2021-10-18 20:23:41 +00:00)\n"
     ]
    }
   ],
   "source": [
    "# check the downloaded csv file\n",
    "!ls "
   ]
  },
  {
   "cell_type": "code",
   "execution_count": null,
   "metadata": {
    "colab": {
     "base_uri": "https://localhost:8080/"
    },
    "id": "gi02VgZKCOKp",
    "outputId": "c57d16f4-ae24-4ab5-9d9a-b60c80968983"
   },
   "outputs": [
    {
     "name": "stdout",
     "output_type": "stream",
     "text": [
      "time: 7.33 s (started: 2021-10-18 20:23:42 +00:00)\n"
     ]
    }
   ],
   "source": [
    "data = pd.read_csv('ticaret-yorum.csv')\n",
    "pd.set_option('max_colwidth', 400)"
   ]
  },
  {
   "cell_type": "markdown",
   "metadata": {
    "id": "JRIfhLWSCQs3"
   },
   "source": [
    "# Explore the Dataset"
   ]
  },
  {
   "cell_type": "code",
   "execution_count": null,
   "metadata": {
    "colab": {
     "base_uri": "https://localhost:8080/"
    },
    "id": "9GVAT_kZCNA9",
    "outputId": "234cd1c4-2ded-4a89-eda8-fac7c64d8c57"
   },
   "outputs": [
    {
     "name": "stdout",
     "output_type": "stream",
     "text": [
      "<class 'pandas.core.frame.DataFrame'>\n",
      "RangeIndex: 431306 entries, 0 to 431305\n",
      "Data columns (total 2 columns):\n",
      " #   Column    Non-Null Count   Dtype \n",
      "---  ------    --------------   ----- \n",
      " 0   category  431306 non-null  object\n",
      " 1   text      431306 non-null  object\n",
      "dtypes: object(2)\n",
      "memory usage: 6.6+ MB\n",
      "time: 170 ms (started: 2021-10-18 20:22:13 +00:00)\n"
     ]
    }
   ],
   "source": [
    "data.info()"
   ]
  },
  {
   "cell_type": "code",
   "execution_count": null,
   "metadata": {
    "colab": {
     "base_uri": "https://localhost:8080/",
     "height": 304
    },
    "id": "FQwDfjWPCS8X",
    "outputId": "f27426f8-adaa-44b6-83af-f5d62f2f83d2"
   },
   "outputs": [
    {
     "data": {
      "text/html": [
       "<div>\n",
       "<style scoped>\n",
       "    .dataframe tbody tr th:only-of-type {\n",
       "        vertical-align: middle;\n",
       "    }\n",
       "\n",
       "    .dataframe tbody tr th {\n",
       "        vertical-align: top;\n",
       "    }\n",
       "\n",
       "    .dataframe thead th {\n",
       "        text-align: right;\n",
       "    }\n",
       "</style>\n",
       "<table border=\"1\" class=\"dataframe\">\n",
       "  <thead>\n",
       "    <tr style=\"text-align: right;\">\n",
       "      <th></th>\n",
       "      <th>category</th>\n",
       "      <th>text</th>\n",
       "    </tr>\n",
       "  </thead>\n",
       "  <tbody>\n",
       "    <tr>\n",
       "      <th>0</th>\n",
       "      <td>alisveris</td>\n",
       "      <td>Altus Hırdavat Yapı Malzemeleri Drone Diye Kargodan Lastik Ayakkabı Çıktı,\"Instagram'da dolanırken sponsorlu bir bağlantı gördüm. Drone satışı yapılıyor. Normalde böyle şeylere inanmam ancak takipçi sayısının fazla olması, numaralarının olması, ödemeyi peşin değil karşı ödemeli ödenmesi, fotoğraflara yapılan yorumlar vs... Az da olsa güvenerek ben de sipariş vermek istedim...Devamını oku\"</td>\n",
       "    </tr>\n",
       "    <tr>\n",
       "      <th>1</th>\n",
       "      <td>alisveris</td>\n",
       "      <td>Albay Bilgisayar Garanti Yalanı İle Yanılttı,Garanti kapsamında yer alan  Casper bilgisayarım garanti belgesi ile birlikte İzmit Casper bilgisayar yetkili servisine albay bilgisayara bıraktım. Önce almak istemedi uzun ikna cabası ve uğraş sonunda zorla garanti dahiline bıraktım bilgisayar açılmıyordu. Sonrasında ertesi gün bilgisayarın yapıldı...Devamını oku</td>\n",
       "    </tr>\n",
       "    <tr>\n",
       "      <th>2</th>\n",
       "      <td>alisveris</td>\n",
       "      <td>Okyanus Petshop Ürün İade Sorunu!,Satıcıdan GittiGidiyor üzerinden 385 TL tutarında Frolicat Interactive Kedi Lazer oyuncağı satın aldım. Ürünü açıp bir kez çalıştırdığımda çok gürültü çıkardığını fark ettim ve ürünü iade etmeye karar verdim. Hatam iade sürecinin 14 gün içinde olması gerektiğini bilmemekti. Ürünü teslim aldıktan son...Devamını oku</td>\n",
       "    </tr>\n",
       "    <tr>\n",
       "      <th>3</th>\n",
       "      <td>alisveris</td>\n",
       "      <td>Anda İhtiyaç Ve Tüketim Maddeleri Knee Tork Dizlik Esnemiyor!,Anda ihtiyaç ve tüketim maddeleri pazarlama san. Lim. Şti. Den 139 TL kapıda teslim knee tork adlı ürünü satın aldım. Ürün 0815774588452 takip no... İle Aras Kargo tarafından tarafıma teslim edildi. Ürün kargoya firma tarafından 26.05.2020 tarihinde kargoya verilmiş. Ürünün üst dizlik bedeni bacağım...Devamını oku</td>\n",
       "    </tr>\n",
       "    <tr>\n",
       "      <th>4</th>\n",
       "      <td>alisveris</td>\n",
       "      <td>BB Kargo Dağıtım'dan Aldığım Ürün Bozuk Çıktı Ve Muhatap Bulamıyorum!,Fotoğrafını göndermiş olduğum ürünün kablosunda temassızlık var ve ne fatura ne numara sadece gönderen kargonun adı var ve onlara da ulaşamıyorum ayrıca kargo daha bugün elime geçti Denizli Marmaris gezmiş ürün. Beni arayan numarayı buldum ona da ulaşılamıyor.Devamını oku</td>\n",
       "    </tr>\n",
       "  </tbody>\n",
       "</table>\n",
       "</div>"
      ],
      "text/plain": [
       "    category                                                                                                                                                                                                                                                                                                                                                                                                     text\n",
       "0  alisveris  Altus Hırdavat Yapı Malzemeleri Drone Diye Kargodan Lastik Ayakkabı Çıktı,\"Instagram'da dolanırken sponsorlu bir bağlantı gördüm. Drone satışı yapılıyor. Normalde böyle şeylere inanmam ancak takipçi sayısının fazla olması, numaralarının olması, ödemeyi peşin değil karşı ödemeli ödenmesi, fotoğraflara yapılan yorumlar vs... Az da olsa güvenerek ben de sipariş vermek istedim...Devamını oku\"\n",
       "1  alisveris                                 Albay Bilgisayar Garanti Yalanı İle Yanılttı,Garanti kapsamında yer alan  Casper bilgisayarım garanti belgesi ile birlikte İzmit Casper bilgisayar yetkili servisine albay bilgisayara bıraktım. Önce almak istemedi uzun ikna cabası ve uğraş sonunda zorla garanti dahiline bıraktım bilgisayar açılmıyordu. Sonrasında ertesi gün bilgisayarın yapıldı...Devamını oku\n",
       "2  alisveris                                            Okyanus Petshop Ürün İade Sorunu!,Satıcıdan GittiGidiyor üzerinden 385 TL tutarında Frolicat Interactive Kedi Lazer oyuncağı satın aldım. Ürünü açıp bir kez çalıştırdığımda çok gürültü çıkardığını fark ettim ve ürünü iade etmeye karar verdim. Hatam iade sürecinin 14 gün içinde olması gerektiğini bilmemekti. Ürünü teslim aldıktan son...Devamını oku\n",
       "3  alisveris                Anda İhtiyaç Ve Tüketim Maddeleri Knee Tork Dizlik Esnemiyor!,Anda ihtiyaç ve tüketim maddeleri pazarlama san. Lim. Şti. Den 139 TL kapıda teslim knee tork adlı ürünü satın aldım. Ürün 0815774588452 takip no... İle Aras Kargo tarafından tarafıma teslim edildi. Ürün kargoya firma tarafından 26.05.2020 tarihinde kargoya verilmiş. Ürünün üst dizlik bedeni bacağım...Devamını oku\n",
       "4  alisveris                                                   BB Kargo Dağıtım'dan Aldığım Ürün Bozuk Çıktı Ve Muhatap Bulamıyorum!,Fotoğrafını göndermiş olduğum ürünün kablosunda temassızlık var ve ne fatura ne numara sadece gönderen kargonun adı var ve onlara da ulaşamıyorum ayrıca kargo daha bugün elime geçti Denizli Marmaris gezmiş ürün. Beni arayan numarayı buldum ona da ulaşılamıyor.Devamını oku"
      ]
     },
     "execution_count": 13,
     "metadata": {},
     "output_type": "execute_result"
    },
    {
     "name": "stdout",
     "output_type": "stream",
     "text": [
      "time: 90.4 ms (started: 2021-10-18 20:22:16 +00:00)\n"
     ]
    }
   ],
   "source": [
    "data.head(5)"
   ]
  },
  {
   "cell_type": "code",
   "execution_count": null,
   "metadata": {
    "colab": {
     "base_uri": "https://localhost:8080/",
     "height": 206
    },
    "id": "nPCbg7p0CUZP",
    "outputId": "e0e77600-f438-4e10-8dde-e487cc3ee256"
   },
   "outputs": [
    {
     "data": {
      "text/html": [
       "<div>\n",
       "<style scoped>\n",
       "    .dataframe tbody tr th:only-of-type {\n",
       "        vertical-align: middle;\n",
       "    }\n",
       "\n",
       "    .dataframe tbody tr th {\n",
       "        vertical-align: top;\n",
       "    }\n",
       "\n",
       "    .dataframe thead th {\n",
       "        text-align: right;\n",
       "    }\n",
       "</style>\n",
       "<table border=\"1\" class=\"dataframe\">\n",
       "  <thead>\n",
       "    <tr style=\"text-align: right;\">\n",
       "      <th></th>\n",
       "      <th>category</th>\n",
       "      <th>text</th>\n",
       "    </tr>\n",
       "  </thead>\n",
       "  <tbody>\n",
       "    <tr>\n",
       "      <th>count</th>\n",
       "      <td>431306</td>\n",
       "      <td>431306</td>\n",
       "    </tr>\n",
       "    <tr>\n",
       "      <th>unique</th>\n",
       "      <td>32</td>\n",
       "      <td>427231</td>\n",
       "    </tr>\n",
       "    <tr>\n",
       "      <th>top</th>\n",
       "      <td>kamu-hizmetleri</td>\n",
       "      <td>Ferhunde Hanım Kına Konağı Yerimi Başkasına Verdiler,Kına için opsiyonladığım yeri başkasına verdiler normalde o günün boş olduğunu söylemişlerdi. Biliyordum da daha sonra orada sözleşme vardı. İptal edilmedi tarzı konuşup aptal yerine koydular. Mağdur etmekten başka bir şey değil. Oraya güvenip başka bir yerle anlaşmamıştım. Birkaç gün öncesinde de d...Devamını oku</td>\n",
       "    </tr>\n",
       "    <tr>\n",
       "      <th>freq</th>\n",
       "      <td>14009</td>\n",
       "      <td>154</td>\n",
       "    </tr>\n",
       "  </tbody>\n",
       "</table>\n",
       "</div>"
      ],
      "text/plain": [
       "               category                                                                                                                                                                                                                                                                                                                                                                              text\n",
       "count            431306                                                                                                                                                                                                                                                                                                                                                                            431306\n",
       "unique               32                                                                                                                                                                                                                                                                                                                                                                            427231\n",
       "top     kamu-hizmetleri  Ferhunde Hanım Kına Konağı Yerimi Başkasına Verdiler,Kına için opsiyonladığım yeri başkasına verdiler normalde o günün boş olduğunu söylemişlerdi. Biliyordum da daha sonra orada sözleşme vardı. İptal edilmedi tarzı konuşup aptal yerine koydular. Mağdur etmekten başka bir şey değil. Oraya güvenip başka bir yerle anlaşmamıştım. Birkaç gün öncesinde de d...Devamını oku\n",
       "freq              14009                                                                                                                                                                                                                                                                                                                                                                               154"
      ]
     },
     "execution_count": 14,
     "metadata": {},
     "output_type": "execute_result"
    },
    {
     "name": "stdout",
     "output_type": "stream",
     "text": [
      "time: 2.07 s (started: 2021-10-18 20:22:17 +00:00)\n"
     ]
    }
   ],
   "source": [
    "data.describe()"
   ]
  },
  {
   "cell_type": "markdown",
   "metadata": {
    "id": "V8t5cjSeCXyh"
   },
   "source": [
    "## Remove Duplications"
   ]
  },
  {
   "cell_type": "code",
   "execution_count": null,
   "metadata": {
    "colab": {
     "base_uri": "https://localhost:8080/"
    },
    "id": "t1IsW59uCYF9",
    "outputId": "80d7f4f7-fd2c-4e21-832e-af55df2fd6e0"
   },
   "outputs": [
    {
     "data": {
      "text/plain": [
       "False    427231\n",
       "True       4075\n",
       "Name: text, dtype: int64"
      ]
     },
     "execution_count": 14,
     "metadata": {},
     "output_type": "execute_result"
    },
    {
     "name": "stdout",
     "output_type": "stream",
     "text": [
      "time: 1.2 s (started: 2021-10-18 20:23:49 +00:00)\n"
     ]
    }
   ],
   "source": [
    "data.text.duplicated(keep=\"first\").value_counts()"
   ]
  },
  {
   "cell_type": "code",
   "execution_count": null,
   "metadata": {
    "colab": {
     "base_uri": "https://localhost:8080/",
     "height": 206
    },
    "id": "rl3LJpFTCaj8",
    "outputId": "864c2707-c230-4f18-9845-01c6ceb2a275"
   },
   "outputs": [
    {
     "data": {
      "text/html": [
       "<div>\n",
       "<style scoped>\n",
       "    .dataframe tbody tr th:only-of-type {\n",
       "        vertical-align: middle;\n",
       "    }\n",
       "\n",
       "    .dataframe tbody tr th {\n",
       "        vertical-align: top;\n",
       "    }\n",
       "\n",
       "    .dataframe thead th {\n",
       "        text-align: right;\n",
       "    }\n",
       "</style>\n",
       "<table border=\"1\" class=\"dataframe\">\n",
       "  <thead>\n",
       "    <tr style=\"text-align: right;\">\n",
       "      <th></th>\n",
       "      <th>category</th>\n",
       "      <th>text</th>\n",
       "    </tr>\n",
       "  </thead>\n",
       "  <tbody>\n",
       "    <tr>\n",
       "      <th>count</th>\n",
       "      <td>427231</td>\n",
       "      <td>427231</td>\n",
       "    </tr>\n",
       "    <tr>\n",
       "      <th>unique</th>\n",
       "      <td>32</td>\n",
       "      <td>427231</td>\n",
       "    </tr>\n",
       "    <tr>\n",
       "      <th>top</th>\n",
       "      <td>kamu-hizmetleri</td>\n",
       "      <td>Tefal Titanium Tava Ve Tencerelerde Kanser İhtimali,\"Henüz alalı bir yıl bile olmadan iki adet tava ve bir adet tenceremizin iç kaplamalarının neredeyse yarısı \"\"su toplamış deri\"\" gibi büyük baloncuklar halinde şişti.</td>\n",
       "    </tr>\n",
       "    <tr>\n",
       "      <th>freq</th>\n",
       "      <td>13998</td>\n",
       "      <td>1</td>\n",
       "    </tr>\n",
       "  </tbody>\n",
       "</table>\n",
       "</div>"
      ],
      "text/plain": [
       "               category                                                                                                                                                                                                                        text\n",
       "count            427231                                                                                                                                                                                                                      427231\n",
       "unique               32                                                                                                                                                                                                                      427231\n",
       "top     kamu-hizmetleri  Tefal Titanium Tava Ve Tencerelerde Kanser İhtimali,\"Henüz alalı bir yıl bile olmadan iki adet tava ve bir adet tenceremizin iç kaplamalarının neredeyse yarısı \"\"su toplamış deri\"\" gibi büyük baloncuklar halinde şişti.\n",
       "freq              13998                                                                                                                                                                                                                           1"
      ]
     },
     "execution_count": 15,
     "metadata": {},
     "output_type": "execute_result"
    },
    {
     "name": "stdout",
     "output_type": "stream",
     "text": [
      "time: 2.56 s (started: 2021-10-18 20:23:50 +00:00)\n"
     ]
    }
   ],
   "source": [
    "data.drop_duplicates(subset=\"text\",keep=\"first\",inplace=True,ignore_index=True)\n",
    "data.describe()"
   ]
  },
  {
   "cell_type": "markdown",
   "metadata": {
    "id": "faxqc6SG_cOU"
   },
   "source": [
    "# Data Analysis\n",
    "  * The number of reviews of each category:"
   ]
  },
  {
   "cell_type": "code",
   "execution_count": null,
   "metadata": {
    "colab": {
     "base_uri": "https://localhost:8080/"
    },
    "id": "CvDx3Xe9_hnU",
    "outputId": "4771969a-477a-426f-ac33-e8f9a9ab8675"
   },
   "outputs": [
    {
     "data": {
      "text/plain": [
       "kamu-hizmetleri              13998\n",
       "cep-telefon-kategori         13975\n",
       "enerji                       13968\n",
       "finans                       13958\n",
       "ulasim                       13943\n",
       "medya                        13908\n",
       "kargo-nakliyat               13877\n",
       "mutfak-arac-gerec            13867\n",
       "alisveris                    13816\n",
       "mekan-ve-eglence             13807\n",
       "elektronik                   13770\n",
       "beyaz-esya                   13761\n",
       "kucuk-ev-aletleri            13732\n",
       "giyim                        13676\n",
       "internet                     13657\n",
       "icecek                       13564\n",
       "saglik                       13559\n",
       "sigortacilik                 13486\n",
       "spor                         13448\n",
       "mobilya-ev-tekstili          13434\n",
       "otomotiv                     13377\n",
       "turizm                       13317\n",
       "egitim                       13264\n",
       "gida                         13150\n",
       "temizlik                     13111\n",
       "mucevher-saat-gozluk         12964\n",
       "bilgisayar                   12963\n",
       "kisisel-bakim-ve-kozmetik    12657\n",
       "anne-bebek                   12381\n",
       "emlak-ve-insaat              12024\n",
       "hizmet-sektoru               11463\n",
       "etkinlik-ve-organizasyon     11356\n",
       "Name: category, dtype: int64"
      ]
     },
     "execution_count": 17,
     "metadata": {},
     "output_type": "execute_result"
    },
    {
     "name": "stdout",
     "output_type": "stream",
     "text": [
      "time: 76.2 ms (started: 2021-10-18 20:22:23 +00:00)\n"
     ]
    }
   ],
   "source": [
    "data.category.value_counts()"
   ]
  },
  {
   "cell_type": "code",
   "execution_count": null,
   "metadata": {
    "colab": {
     "base_uri": "https://localhost:8080/",
     "height": 524
    },
    "id": "wgXtI-pH_jOM",
    "outputId": "b94d7953-f499-47ee-a378-847a1d710cdc"
   },
   "outputs": [
    {
     "data": {
      "image/png": "[encoded data removed]",
      "text/plain": [
       "<Figure size 576x432 with 1 Axes>"
      ]
     },
     "metadata": {
      "needs_background": "light"
     },
     "output_type": "display_data"
    },
    {
     "name": "stdout",
     "output_type": "stream",
     "text": [
      "time: 1.01 s (started: 2021-10-18 20:22:23 +00:00)\n"
     ]
    }
   ],
   "source": [
    "fig = plt.figure(figsize=(8,6))\n",
    "data.groupby('category').text.count().plot.bar(ylim=0)\n",
    "plt.show()"
   ]
  },
  {
   "cell_type": "markdown",
   "metadata": {
    "id": "VQQl6zmP_klQ"
   },
   "source": [
    "* The number of words of each review:"
   ]
  },
  {
   "cell_type": "code",
   "execution_count": null,
   "metadata": {
    "colab": {
     "base_uri": "https://localhost:8080/"
    },
    "id": "26wibVwW_mLj",
    "outputId": "773fab66-cb8b-4cb7-98be-5ccadc92b22f"
   },
   "outputs": [
    {
     "name": "stdout",
     "output_type": "stream",
     "text": [
      "time: 4.03 s (started: 2021-10-18 20:22:24 +00:00)\n"
     ]
    }
   ],
   "source": [
    "data['words'] = [len(x.split()) for x in data['text'].tolist()]"
   ]
  },
  {
   "cell_type": "code",
   "execution_count": null,
   "metadata": {
    "colab": {
     "base_uri": "https://localhost:8080/",
     "height": 304
    },
    "id": "d-EPO_cX_nhP",
    "outputId": "18827ba0-8322-439c-8b13-7ba43a33b32d"
   },
   "outputs": [
    {
     "data": {
      "text/html": [
       "<div>\n",
       "<style scoped>\n",
       "    .dataframe tbody tr th:only-of-type {\n",
       "        vertical-align: middle;\n",
       "    }\n",
       "\n",
       "    .dataframe tbody tr th {\n",
       "        vertical-align: top;\n",
       "    }\n",
       "\n",
       "    .dataframe thead th {\n",
       "        text-align: right;\n",
       "    }\n",
       "</style>\n",
       "<table border=\"1\" class=\"dataframe\">\n",
       "  <thead>\n",
       "    <tr style=\"text-align: right;\">\n",
       "      <th></th>\n",
       "      <th>category</th>\n",
       "      <th>text</th>\n",
       "      <th>words</th>\n",
       "    </tr>\n",
       "  </thead>\n",
       "  <tbody>\n",
       "    <tr>\n",
       "      <th>427226</th>\n",
       "      <td>ulasim</td>\n",
       "      <td>Pegasus Kabin Boyu Bagajım İçin 20 Euro Aldılar,Arkadaşlarımla Prag'dan İstanbul'a dönüş seferinde ilk defa Pegasus hava yollarını kullandım ve çok kötü  bir havayolu. Pegasus'un kuralları gereği ekstra bagaj parası ödememek için valiziniz kabin içi valizi olmalı kuralına uyarak sürekli kabin içine aldığım 7.8 kg'lik valizimi aldım. Her uçağa sığ...Devamını oku</td>\n",
       "      <td>50</td>\n",
       "    </tr>\n",
       "    <tr>\n",
       "      <th>427227</th>\n",
       "      <td>ulasim</td>\n",
       "      <td>Pegasus Sefer Saat Değişikliği,\"05.02.2020 tarihinde Amsterdam'dan 16:25'de kalkması planlanan uçuşumuz, 3 kişinin ölümüyle sonuçlanan kaza sebebiyle pistin kapatılması sonucu 23:00'da kalkıp İstanbul Yeni Havalimanına saat 04:00'da iniş yapmıştır. Bu süre zarfında tarafımıza hiçbir bilgi verilmemiş, kabin bagajlarımızı uçaktan al...Devamını oku\"</td>\n",
       "      <td>40</td>\n",
       "    </tr>\n",
       "    <tr>\n",
       "      <th>427228</th>\n",
       "      <td>ulasim</td>\n",
       "      <td>THY Saygısız Müşteri Temsilcisi!,\"THY'den bileti aldığım biletin isteğe bağlı iptal iade ve değişiklik yapılmasını istedim, AMA buna istinaden ödediğim paranın sadece sağlık siğortası olduğunu iddia ettiler.</td>\n",
       "      <td>26</td>\n",
       "    </tr>\n",
       "    <tr>\n",
       "      <th>427229</th>\n",
       "      <td>ulasim</td>\n",
       "      <td>KLM Havayolları Bilgisizlikleri,Kraliyet firması imiş bizim Topkapı Sultançiftliği dolmuş hattı bile daha iyi hizmet veriyor biletim değişiyor ne T** nin haberi var ne de Klm ye ulaşabiliyorum. Aslında ulaştım ingilizce devam edelim diyen adama ben türkçe biliyorum dedim. Adam Türkçe için 10 dakika sonra arayın dedi. Ama çok bekle...Devamını oku</td>\n",
       "      <td>50</td>\n",
       "    </tr>\n",
       "    <tr>\n",
       "      <th>427230</th>\n",
       "      <td>ulasim</td>\n",
       "      <td>Pegasus Çağrı Merkezi,\"Pegasus internet sayfasından aldığım biletime evcil hayvanımı ekletmek için 0850 250 67 02, 0888 228 12 12 numaralı hatlarını en az 5 kere aradım her birinde ortalama 20 dk bekledim dakikası 1,5 TL den faturalandırıldığı bilgisi paylaşıyorlar. Ben böyle bir şey görmedim uçuşuma saatler kaldı ve ben ...Devamını oku\"</td>\n",
       "      <td>51</td>\n",
       "    </tr>\n",
       "  </tbody>\n",
       "</table>\n",
       "</div>"
      ],
      "text/plain": [
       "       category  ... words\n",
       "427226   ulasim  ...    50\n",
       "427227   ulasim  ...    40\n",
       "427228   ulasim  ...    26\n",
       "427229   ulasim  ...    50\n",
       "427230   ulasim  ...    51\n",
       "\n",
       "[5 rows x 3 columns]"
      ]
     },
     "execution_count": 20,
     "metadata": {},
     "output_type": "execute_result"
    },
    {
     "name": "stdout",
     "output_type": "stream",
     "text": [
      "time: 51.3 ms (started: 2021-10-18 20:22:28 +00:00)\n"
     ]
    }
   ],
   "source": [
    "data.tail()"
   ]
  },
  {
   "cell_type": "code",
   "execution_count": null,
   "metadata": {
    "colab": {
     "base_uri": "https://localhost:8080/"
    },
    "id": "zELQHQor_pdV",
    "outputId": "374cabbc-7447-41cb-ea8a-0171972e64b7"
   },
   "outputs": [
    {
     "data": {
      "text/plain": [
       "count    427231.000000\n",
       "mean         44.408624\n",
       "std           8.108499\n",
       "min           2.000000\n",
       "25%          42.000000\n",
       "50%          46.000000\n",
       "75%          49.000000\n",
       "max         183.000000\n",
       "Name: words, dtype: float64"
      ]
     },
     "execution_count": 21,
     "metadata": {},
     "output_type": "execute_result"
    },
    {
     "name": "stdout",
     "output_type": "stream",
     "text": [
      "time: 42.7 ms (started: 2021-10-18 20:22:28 +00:00)\n"
     ]
    }
   ],
   "source": [
    "data['words'].describe()"
   ]
  },
  {
   "cell_type": "code",
   "execution_count": null,
   "metadata": {
    "colab": {
     "base_uri": "https://localhost:8080/",
     "height": 298
    },
    "id": "ZrUOfJYb_rIL",
    "outputId": "290891ec-5243-46e8-dfb8-20502c354326"
   },
   "outputs": [
    {
     "data": {
      "text/plain": [
       "<matplotlib.axes._subplots.AxesSubplot at 0x7f6162dd5dd0>"
      ]
     },
     "execution_count": 22,
     "metadata": {},
     "output_type": "execute_result"
    },
    {
     "data": {
      "image/png": "[encoded data removed]",
      "text/plain": [
       "<Figure size 432x288 with 1 Axes>"
      ]
     },
     "metadata": {
      "needs_background": "light"
     },
     "output_type": "display_data"
    },
    {
     "name": "stdout",
     "output_type": "stream",
     "text": [
      "time: 9.02 s (started: 2021-10-18 20:22:28 +00:00)\n"
     ]
    }
   ],
   "source": [
    "# Distribution of words in each review\n",
    "data.text.str.split().\\\n",
    "    map(lambda x: len(x)).\\\n",
    "    hist()"
   ]
  },
  {
   "cell_type": "markdown",
   "metadata": {
    "id": "Ab-PGCF5_sud"
   },
   "source": [
    "* Longest Review"
   ]
  },
  {
   "cell_type": "code",
   "execution_count": null,
   "metadata": {
    "colab": {
     "base_uri": "https://localhost:8080/"
    },
    "id": "x95fuXgh_tER",
    "outputId": "ae399962-5132-4a73-db8c-17555351e10a"
   },
   "outputs": [
    {
     "name": "stdout",
     "output_type": "stream",
     "text": [
      "İgdaş  Gecen Ay 313₺ Gelen Faturam\n",
      "122813;enerji;Armagaz Kombi Çalışmadığı Halde 2 Aydır Faturalar Yüksek,20 gündür kombi çalışmadı buna rağmen faturam yüksek geliyor bu konuyla ilgilenmenizi istiyorum buradaki komşularımın hepsi düşük geliyor benim yüksek kombi bakımlarını yaptırmama rağmen bir şey değişmedi bu konuyla ilgili arkadaşların ilgilenmesini rica ediyorum. İsmet paşa Mahallesi albayrak sokak...Devamını oku\n",
      "122814;enerji;İgdaş Fatura Tutarı Yüksek Gelmesi,500102988257 sözleşme hesap numaralı hattımda 18/05/2020 tarihli faturan havaların sıcak olduğundan doğalgazı kullanmadığım halde 44 okuma günü baza alınarak 328 TL gelmiş keza 4 ay faturamda aynı şekilde. Neye göre bu faturalandırmalar yapıldı? Faturaların ve sayacımın incelenmesi ödeme hesabımdan ...Devamını oku\n",
      "122815;enerji;İgdaş Çok Fazla Fatura Geldi,Faturam 473 TL gelmiş. Kapalı olmasına rağmen böyle bir faturayı göndermek nedir ya? Günahtır. 5 katı fatura göndermek insanlık midir? Lütfen bir şey yapılsın. Ceza verilsin İgdaş'a günahtır bu zamanda. İnsanlar neyle ödesin 475 TL nedir ya?Devamını oku\n",
      "122816;enerji;Palgaz Yüksek Fatura Tutarı Nedir?,1808201003 tesisat numaralı Gebze'de bulunan evime 16.03.2020 - 29.04.2020 tarihleri arasında 657 TL fatura geldi. Bir ay önceki fatura 662 TL. Az yakmamıza rağmen önceki dönemle aynı fatura geldi. Bir aylık bir süre geçmiş, bu kadar yüksek gelmiş fatura.\n",
      "time: 114 ms (started: 2021-10-18 20:22:37 +00:00)\n"
     ]
    }
   ],
   "source": [
    "print(max(data['text'], key=len))"
   ]
  },
  {
   "cell_type": "markdown",
   "metadata": {
    "id": "RjeP0-G6_urB"
   },
   "source": [
    "* Shortest Review"
   ]
  },
  {
   "cell_type": "code",
   "execution_count": null,
   "metadata": {
    "colab": {
     "base_uri": "https://localhost:8080/"
    },
    "id": "FYFGxSZZ_wGT",
    "outputId": "1a37d4d3-c90a-4e23-977d-f9e6d66c5e9c"
   },
   "outputs": [
    {
     "name": "stdout",
     "output_type": "stream",
     "text": [
      "Gümüş İnşaat -,\"Merhaba\n",
      "time: 120 ms (started: 2021-10-18 20:22:37 +00:00)\n"
     ]
    }
   ],
   "source": [
    "print(min(data['text'], key=len))"
   ]
  },
  {
   "cell_type": "markdown",
   "metadata": {
    "id": "cQi0mLWOCdgN"
   },
   "source": [
    "# Adding Category Id"
   ]
  },
  {
   "cell_type": "code",
   "execution_count": null,
   "metadata": {
    "colab": {
     "base_uri": "https://localhost:8080/"
    },
    "id": "0ANie5SECfIl",
    "outputId": "6bcc16f7-dab4-4459-a6f1-1fe4552ce5cc"
   },
   "outputs": [
    {
     "data": {
      "text/plain": [
       "0         Altus Hırdavat Yapı Malzemeleri Drone Diye Kargodan Lastik Ayakkabı Çıktı,\"Instagram'da dolanırken sponsorlu bir bağlantı gördüm. Drone satışı yapılıyor. Normalde böyle şeylere inanmam ancak takipçi sayısının fazla olması, numaralarının olması, ödemeyi peşin değil karşı ödemeli ödenmesi, fotoğraflara yapılan yorumlar vs... Az da olsa güvenerek ben de sipariş vermek istedim...Devamını oku\"\n",
       "1                                        Albay Bilgisayar Garanti Yalanı İle Yanılttı,Garanti kapsamında yer alan  Casper bilgisayarım garanti belgesi ile birlikte İzmit Casper bilgisayar yetkili servisine albay bilgisayara bıraktım. Önce almak istemedi uzun ikna cabası ve uğraş sonunda zorla garanti dahiline bıraktım bilgisayar açılmıyordu. Sonrasında ertesi gün bilgisayarın yapıldı...Devamını oku\n",
       "2                                                   Okyanus Petshop Ürün İade Sorunu!,Satıcıdan GittiGidiyor üzerinden 385 TL tutarında Frolicat Interactive Kedi Lazer oyuncağı satın aldım. Ürünü açıp bir kez çalıştırdığımda çok gürültü çıkardığını fark ettim ve ürünü iade etmeye karar verdim. Hatam iade sürecinin 14 gün içinde olması gerektiğini bilmemekti. Ürünü teslim aldıktan son...Devamını oku\n",
       "3                       Anda İhtiyaç Ve Tüketim Maddeleri Knee Tork Dizlik Esnemiyor!,Anda ihtiyaç ve tüketim maddeleri pazarlama san. Lim. Şti. Den 139 TL kapıda teslim knee tork adlı ürünü satın aldım. Ürün 0815774588452 takip no... İle Aras Kargo tarafından tarafıma teslim edildi. Ürün kargoya firma tarafından 26.05.2020 tarihinde kargoya verilmiş. Ürünün üst dizlik bedeni bacağım...Devamını oku\n",
       "4                                                          BB Kargo Dağıtım'dan Aldığım Ürün Bozuk Çıktı Ve Muhatap Bulamıyorum!,Fotoğrafını göndermiş olduğum ürünün kablosunda temassızlık var ve ne fatura ne numara sadece gönderen kargonun adı var ve onlara da ulaşamıyorum ayrıca kargo daha bugün elime geçti Denizli Marmaris gezmiş ürün. Beni arayan numarayı buldum ona da ulaşılamıyor.Devamını oku\n",
       "                                                                                                                                                                                                           ...                                                                                                                                                                                                   \n",
       "427226                                Pegasus Kabin Boyu Bagajım İçin 20 Euro Aldılar,Arkadaşlarımla Prag'dan İstanbul'a dönüş seferinde ilk defa Pegasus hava yollarını kullandım ve çok kötü  bir havayolu. Pegasus'un kuralları gereği ekstra bagaj parası ödememek için valiziniz kabin içi valizi olmalı kuralına uyarak sürekli kabin içine aldığım 7.8 kg'lik valizimi aldım. Her uçağa sığ...Devamını oku\n",
       "427227                                               Pegasus Sefer Saat Değişikliği,\"05.02.2020 tarihinde Amsterdam'dan 16:25'de kalkması planlanan uçuşumuz, 3 kişinin ölümüyle sonuçlanan kaza sebebiyle pistin kapatılması sonucu 23:00'da kalkıp İstanbul Yeni Havalimanına saat 04:00'da iniş yapmıştır. Bu süre zarfında tarafımıza hiçbir bilgi verilmemiş, kabin bagajlarımızı uçaktan al...Devamını oku\"\n",
       "427228                                                                                                                                                                                            THY Saygısız Müşteri Temsilcisi!,\"THY'den bileti aldığım biletin isteğe bağlı iptal iade ve değişiklik yapılmasını istedim, AMA buna istinaden ödediğim paranın sadece sağlık siğortası olduğunu iddia ettiler.\n",
       "427229                                                KLM Havayolları Bilgisizlikleri,Kraliyet firması imiş bizim Topkapı Sultançiftliği dolmuş hattı bile daha iyi hizmet veriyor biletim değişiyor ne T** nin haberi var ne de Klm ye ulaşabiliyorum. Aslında ulaştım ingilizce devam edelim diyen adama ben türkçe biliyorum dedim. Adam Türkçe için 10 dakika sonra arayın dedi. Ama çok bekle...Devamını oku\n",
       "427230                                                        Pegasus Çağrı Merkezi,\"Pegasus internet sayfasından aldığım biletime evcil hayvanımı ekletmek için 0850 250 67 02, 0888 228 12 12 numaralı hatlarını en az 5 kere aradım her birinde ortalama 20 dk bekledim dakikası 1,5 TL den faturalandırıldığı bilgisi paylaşıyorlar. Ben böyle bir şey görmedim uçuşuma saatler kaldı ve ben ...Devamını oku\"\n",
       "Name: text, Length: 427231, dtype: object"
      ]
     },
     "execution_count": 16,
     "metadata": {},
     "output_type": "execute_result"
    },
    {
     "name": "stdout",
     "output_type": "stream",
     "text": [
      "time: 7.04 ms (started: 2021-10-18 20:23:53 +00:00)\n"
     ]
    }
   ],
   "source": [
    "data[\"text\"]"
   ]
  },
  {
   "cell_type": "code",
   "execution_count": null,
   "metadata": {
    "colab": {
     "base_uri": "https://localhost:8080/"
    },
    "id": "tg9nsEpiCgsj",
    "outputId": "19d3b0a1-5be8-4664-93b4-8f583a26f9f5"
   },
   "outputs": [
    {
     "data": {
      "text/plain": [
       "0         alisveris\n",
       "1         alisveris\n",
       "2         alisveris\n",
       "3         alisveris\n",
       "4         alisveris\n",
       "            ...    \n",
       "427226       ulasim\n",
       "427227       ulasim\n",
       "427228       ulasim\n",
       "427229       ulasim\n",
       "427230       ulasim\n",
       "Name: category, Length: 427231, dtype: object"
      ]
     },
     "execution_count": 17,
     "metadata": {},
     "output_type": "execute_result"
    },
    {
     "name": "stdout",
     "output_type": "stream",
     "text": [
      "time: 8.98 ms (started: 2021-10-18 20:23:53 +00:00)\n"
     ]
    }
   ],
   "source": [
    "data[\"category\"]"
   ]
  },
  {
   "cell_type": "code",
   "execution_count": null,
   "metadata": {
    "colab": {
     "base_uri": "https://localhost:8080/"
    },
    "id": "Yc6pgsbUCnLj",
    "outputId": "347ad5cb-7178-41b9-916b-eab6ccce5e91"
   },
   "outputs": [
    {
     "data": {
      "text/plain": [
       "category    category\n",
       "text          object\n",
       "dtype: object"
      ]
     },
     "execution_count": 18,
     "metadata": {},
     "output_type": "execute_result"
    },
    {
     "name": "stdout",
     "output_type": "stream",
     "text": [
      "time: 61.4 ms (started: 2021-10-18 20:23:53 +00:00)\n"
     ]
    }
   ],
   "source": [
    "data[\"category\"] = data[\"category\"].astype('category') #By converting an existing Series or column to a category dtype\n",
    "data.dtypes"
   ]
  },
  {
   "cell_type": "code",
   "execution_count": null,
   "metadata": {
    "colab": {
     "base_uri": "https://localhost:8080/",
     "height": 304
    },
    "id": "iIcycvniCopf",
    "outputId": "37f1c8ff-441a-4eda-d926-19d79070e3a5"
   },
   "outputs": [
    {
     "data": {
      "text/html": [
       "<div>\n",
       "<style scoped>\n",
       "    .dataframe tbody tr th:only-of-type {\n",
       "        vertical-align: middle;\n",
       "    }\n",
       "\n",
       "    .dataframe tbody tr th {\n",
       "        vertical-align: top;\n",
       "    }\n",
       "\n",
       "    .dataframe thead th {\n",
       "        text-align: right;\n",
       "    }\n",
       "</style>\n",
       "<table border=\"1\" class=\"dataframe\">\n",
       "  <thead>\n",
       "    <tr style=\"text-align: right;\">\n",
       "      <th></th>\n",
       "      <th>category</th>\n",
       "      <th>text</th>\n",
       "      <th>category_id</th>\n",
       "    </tr>\n",
       "  </thead>\n",
       "  <tbody>\n",
       "    <tr>\n",
       "      <th>427226</th>\n",
       "      <td>ulasim</td>\n",
       "      <td>Pegasus Kabin Boyu Bagajım İçin 20 Euro Aldılar,Arkadaşlarımla Prag'dan İstanbul'a dönüş seferinde ilk defa Pegasus hava yollarını kullandım ve çok kötü  bir havayolu. Pegasus'un kuralları gereği ekstra bagaj parası ödememek için valiziniz kabin içi valizi olmalı kuralına uyarak sürekli kabin içine aldığım 7.8 kg'lik valizimi aldım. Her uçağa sığ...Devamını oku</td>\n",
       "      <td>31</td>\n",
       "    </tr>\n",
       "    <tr>\n",
       "      <th>427227</th>\n",
       "      <td>ulasim</td>\n",
       "      <td>Pegasus Sefer Saat Değişikliği,\"05.02.2020 tarihinde Amsterdam'dan 16:25'de kalkması planlanan uçuşumuz, 3 kişinin ölümüyle sonuçlanan kaza sebebiyle pistin kapatılması sonucu 23:00'da kalkıp İstanbul Yeni Havalimanına saat 04:00'da iniş yapmıştır. Bu süre zarfında tarafımıza hiçbir bilgi verilmemiş, kabin bagajlarımızı uçaktan al...Devamını oku\"</td>\n",
       "      <td>31</td>\n",
       "    </tr>\n",
       "    <tr>\n",
       "      <th>427228</th>\n",
       "      <td>ulasim</td>\n",
       "      <td>THY Saygısız Müşteri Temsilcisi!,\"THY'den bileti aldığım biletin isteğe bağlı iptal iade ve değişiklik yapılmasını istedim, AMA buna istinaden ödediğim paranın sadece sağlık siğortası olduğunu iddia ettiler.</td>\n",
       "      <td>31</td>\n",
       "    </tr>\n",
       "    <tr>\n",
       "      <th>427229</th>\n",
       "      <td>ulasim</td>\n",
       "      <td>KLM Havayolları Bilgisizlikleri,Kraliyet firması imiş bizim Topkapı Sultançiftliği dolmuş hattı bile daha iyi hizmet veriyor biletim değişiyor ne T** nin haberi var ne de Klm ye ulaşabiliyorum. Aslında ulaştım ingilizce devam edelim diyen adama ben türkçe biliyorum dedim. Adam Türkçe için 10 dakika sonra arayın dedi. Ama çok bekle...Devamını oku</td>\n",
       "      <td>31</td>\n",
       "    </tr>\n",
       "    <tr>\n",
       "      <th>427230</th>\n",
       "      <td>ulasim</td>\n",
       "      <td>Pegasus Çağrı Merkezi,\"Pegasus internet sayfasından aldığım biletime evcil hayvanımı ekletmek için 0850 250 67 02, 0888 228 12 12 numaralı hatlarını en az 5 kere aradım her birinde ortalama 20 dk bekledim dakikası 1,5 TL den faturalandırıldığı bilgisi paylaşıyorlar. Ben böyle bir şey görmedim uçuşuma saatler kaldı ve ben ...Devamını oku\"</td>\n",
       "      <td>31</td>\n",
       "    </tr>\n",
       "  </tbody>\n",
       "</table>\n",
       "</div>"
      ],
      "text/plain": [
       "       category  ... category_id\n",
       "427226   ulasim  ...          31\n",
       "427227   ulasim  ...          31\n",
       "427228   ulasim  ...          31\n",
       "427229   ulasim  ...          31\n",
       "427230   ulasim  ...          31\n",
       "\n",
       "[5 rows x 3 columns]"
      ]
     },
     "execution_count": 19,
     "metadata": {},
     "output_type": "execute_result"
    },
    {
     "name": "stdout",
     "output_type": "stream",
     "text": [
      "time: 31 ms (started: 2021-10-18 20:23:53 +00:00)\n"
     ]
    }
   ],
   "source": [
    "data[\"category_id\"] = data[\"category\"].cat.codes\n",
    "data.tail()"
   ]
  },
  {
   "cell_type": "code",
   "execution_count": null,
   "metadata": {
    "colab": {
     "base_uri": "https://localhost:8080/"
    },
    "id": "9LpqhPhTCqVc",
    "outputId": "ede06e03-de82-47a4-da42-8b4a6fcb6dd5"
   },
   "outputs": [
    {
     "data": {
      "text/plain": [
       "category       category\n",
       "text             object\n",
       "words             int64\n",
       "category_id        int8\n",
       "dtype: object"
      ]
     },
     "execution_count": 29,
     "metadata": {},
     "output_type": "execute_result"
    },
    {
     "name": "stdout",
     "output_type": "stream",
     "text": [
      "time: 9.1 ms (started: 2021-10-18 20:22:38 +00:00)\n"
     ]
    }
   ],
   "source": [
    "data.dtypes"
   ]
  },
  {
   "cell_type": "markdown",
   "metadata": {
    "id": "s_EcQR1yCwzU"
   },
   "source": [
    "##Dictionaries for future use"
   ]
  },
  {
   "cell_type": "code",
   "execution_count": null,
   "metadata": {
    "colab": {
     "base_uri": "https://localhost:8080/"
    },
    "id": "a4f8ahk9CsSR",
    "outputId": "6d9dd28a-c47f-4d8c-8ca4-e166c710f09c"
   },
   "outputs": [
    {
     "data": {
      "text/plain": [
       "{0: 'alisveris',\n",
       " 1: 'anne-bebek',\n",
       " 2: 'beyaz-esya',\n",
       " 3: 'bilgisayar',\n",
       " 4: 'cep-telefon-kategori',\n",
       " 5: 'egitim',\n",
       " 6: 'elektronik',\n",
       " 7: 'emlak-ve-insaat',\n",
       " 8: 'enerji',\n",
       " 9: 'etkinlik-ve-organizasyon',\n",
       " 10: 'finans',\n",
       " 11: 'gida',\n",
       " 12: 'giyim',\n",
       " 13: 'hizmet-sektoru',\n",
       " 14: 'icecek',\n",
       " 15: 'internet',\n",
       " 16: 'kamu-hizmetleri',\n",
       " 17: 'kargo-nakliyat',\n",
       " 18: 'kisisel-bakim-ve-kozmetik',\n",
       " 19: 'kucuk-ev-aletleri',\n",
       " 20: 'medya',\n",
       " 21: 'mekan-ve-eglence',\n",
       " 22: 'mobilya-ev-tekstili',\n",
       " 23: 'mucevher-saat-gozluk',\n",
       " 24: 'mutfak-arac-gerec',\n",
       " 25: 'otomotiv',\n",
       " 26: 'saglik',\n",
       " 27: 'sigortacilik',\n",
       " 28: 'spor',\n",
       " 29: 'temizlik',\n",
       " 30: 'turizm',\n",
       " 31: 'ulasim'}"
      ]
     },
     "execution_count": 20,
     "metadata": {},
     "output_type": "execute_result"
    },
    {
     "name": "stdout",
     "output_type": "stream",
     "text": [
      "time: 112 ms (started: 2021-10-18 20:23:53 +00:00)\n"
     ]
    }
   ],
   "source": [
    "id_to_category = pd.Series(data.category.values,index=data.category_id).to_dict()\n",
    "id_to_category"
   ]
  },
  {
   "cell_type": "code",
   "execution_count": null,
   "metadata": {
    "colab": {
     "base_uri": "https://localhost:8080/"
    },
    "id": "gIpM-ChlCtdJ",
    "outputId": "eefdd459-8771-4e93-f97b-2fd09874037e"
   },
   "outputs": [
    {
     "data": {
      "text/plain": [
       "{'alisveris': 0,\n",
       " 'anne-bebek': 1,\n",
       " 'beyaz-esya': 2,\n",
       " 'bilgisayar': 3,\n",
       " 'cep-telefon-kategori': 4,\n",
       " 'egitim': 5,\n",
       " 'elektronik': 6,\n",
       " 'emlak-ve-insaat': 7,\n",
       " 'enerji': 8,\n",
       " 'etkinlik-ve-organizasyon': 9,\n",
       " 'finans': 10,\n",
       " 'gida': 11,\n",
       " 'giyim': 12,\n",
       " 'hizmet-sektoru': 13,\n",
       " 'icecek': 14,\n",
       " 'internet': 15,\n",
       " 'kamu-hizmetleri': 16,\n",
       " 'kargo-nakliyat': 17,\n",
       " 'kisisel-bakim-ve-kozmetik': 18,\n",
       " 'kucuk-ev-aletleri': 19,\n",
       " 'medya': 20,\n",
       " 'mekan-ve-eglence': 21,\n",
       " 'mobilya-ev-tekstili': 22,\n",
       " 'mucevher-saat-gozluk': 23,\n",
       " 'mutfak-arac-gerec': 24,\n",
       " 'otomotiv': 25,\n",
       " 'saglik': 26,\n",
       " 'sigortacilik': 27,\n",
       " 'spor': 28,\n",
       " 'temizlik': 29,\n",
       " 'turizm': 30,\n",
       " 'ulasim': 31}"
      ]
     },
     "execution_count": 21,
     "metadata": {},
     "output_type": "execute_result"
    },
    {
     "name": "stdout",
     "output_type": "stream",
     "text": [
      "time: 6.35 ms (started: 2021-10-18 20:23:53 +00:00)\n"
     ]
    }
   ],
   "source": [
    "category_to_id= {v:k for k,v in id_to_category.items()}\n",
    "category_to_id"
   ]
  },
  {
   "cell_type": "code",
   "execution_count": null,
   "metadata": {
    "colab": {
     "base_uri": "https://localhost:8080/"
    },
    "id": "UMU5OCn-CwO4",
    "outputId": "20fb9770-3624-44f1-8d6d-a6999f0d6b28"
   },
   "outputs": [
    {
     "data": {
      "text/plain": [
       "(0, 'alisveris')"
      ]
     },
     "execution_count": 22,
     "metadata": {},
     "output_type": "execute_result"
    },
    {
     "name": "stdout",
     "output_type": "stream",
     "text": [
      "time: 19.3 ms (started: 2021-10-18 20:23:53 +00:00)\n"
     ]
    }
   ],
   "source": [
    "category_to_id[\"alisveris\"], id_to_category[0]"
   ]
  },
  {
   "cell_type": "code",
   "execution_count": null,
   "metadata": {
    "colab": {
     "base_uri": "https://localhost:8080/"
    },
    "id": "tRhvio4FC4De",
    "outputId": "8464d26a-068c-4682-8d94-257a98e18efb"
   },
   "outputs": [
    {
     "data": {
      "text/plain": [
       "32"
      ]
     },
     "execution_count": 23,
     "metadata": {},
     "output_type": "execute_result"
    },
    {
     "name": "stdout",
     "output_type": "stream",
     "text": [
      "time: 4.24 ms (started: 2021-10-18 20:23:53 +00:00)\n"
     ]
    }
   ],
   "source": [
    "number_of_categories = len(category_to_id)\n",
    "number_of_categories"
   ]
  },
  {
   "cell_type": "markdown",
   "metadata": {
    "id": "BDU7Q_TgAEE9"
   },
   "source": [
    "# Most Commonly Used Words in the Reviews"
   ]
  },
  {
   "cell_type": "markdown",
   "metadata": {
    "id": "n6Euy_LUAFgn"
   },
   "source": [
    "* The 20 most mentioned words in all reviews"
   ]
  },
  {
   "cell_type": "code",
   "execution_count": null,
   "metadata": {
    "colab": {
     "base_uri": "https://localhost:8080/"
    },
    "id": "iHZSvSQiAIeQ",
    "outputId": "25543593-ce8b-4686-c378-c7222c65a18b"
   },
   "outputs": [
    {
     "name": "stdout",
     "output_type": "stream",
     "text": [
      "time: 45.2 s (started: 2021-10-18 20:17:03 +00:00)\n"
     ]
    }
   ],
   "source": [
    "wordList = list()\n",
    "for i in range(len(data)):\n",
    "    temp = data.text[i].split()\n",
    "    for k in temp:\n",
    "        k = re.sub(\"[^a-zA-ZğĞüÜşŞıİöÖçÇ]\",\"\",k)\n",
    "        if k != \"\":\n",
    "            wordList.append(k)"
   ]
  },
  {
   "cell_type": "code",
   "execution_count": null,
   "metadata": {
    "colab": {
     "base_uri": "https://localhost:8080/"
    },
    "id": "L2PJrJNCAJrx",
    "outputId": "d654caf1-0a50-4b91-bea8-b3b5b697cff2"
   },
   "outputs": [
    {
     "name": "stdout",
     "output_type": "stream",
     "text": [
      "Most Used 20 Words\n",
      "oku : 382925\n",
      "bir : 290203\n",
      "ve : 254437\n",
      "için : 134568\n",
      "bu : 123079\n",
      "de : 111211\n",
      "da : 88801\n",
      "ama : 70306\n",
      "yok : 67821\n",
      "ile : 67620\n",
      "gün : 67342\n",
      "aldım : 65740\n",
      "sonra : 64183\n",
      "ne : 62723\n",
      "rağmen : 61891\n",
      "TL : 59720\n",
      "önce : 58567\n",
      "tarihinde : 57490\n",
      "çok : 56586\n",
      "kadar : 55290\n",
      "time: 6.21 s (started: 2021-10-18 20:17:48 +00:00)\n"
     ]
    }
   ],
   "source": [
    "wordCount = Counter(wordList)\n",
    "countedWordDict = dict(wordCount)\n",
    "sortedWordDict = sorted(countedWordDict.items(),key = lambda x : x[1],reverse=True)\n",
    "\n",
    "print(\"Most Used 20 Words\")\n",
    "for word,counted in sortedWordDict[0:20]:\n",
    "    print(\"{} : {}\".format(word,counted))"
   ]
  },
  {
   "cell_type": "markdown",
   "metadata": {
    "id": "RJMyLGJBALT4"
   },
   "source": [
    "* Why is **\"oku\"** the most common word?"
   ]
  },
  {
   "cell_type": "code",
   "execution_count": null,
   "metadata": {
    "colab": {
     "base_uri": "https://localhost:8080/"
    },
    "id": "wSgsAbk2AM2n",
    "outputId": "90c8f922-28f1-4e23-bfe2-820c867fc965"
   },
   "outputs": [
    {
     "name": "stdout",
     "output_type": "stream",
     "text": [
      "Pekdemir Çiftliği AVM Avm Ye Alınmadık,20 55te AVM ye alınmadık Alaşehir camialtı şubesi. Mağdur edildik. Yani son kapanış saati 21 00. Fakat mağazayı 55 geçe kapatıyorlar. Gerçekten böyle bir şey olamaz. Bir de tavırları çok kötü çalışanların. Lütfen bu konuya bir çare bulun. Müşteri hizmetlerini aradık fakat telefona kimse çıkmadı bizd...Devamını oku\n",
      "********************\n",
      "Teknosa Kargom Hareket Etmedi,\"2251****96 numaralı siparişimdeki Aras Kargo 8218****4300 gönderi numaralı, gönderim 08/06/2020 tarihinde Orhanlı kurumsal şubesinden Teknosa tarafından kargoya verildi, ancak 2 gündür hiç hareket etmedi ayrıca da şubenin ve Aras Kargo genel müdürlüğünün telefonlarına ulaşamıyorum. Bu konunun çözülm...Devamını oku\"\n",
      "********************\n",
      "Confident AVM Eksik Ürün Gönderimi,\"03.05.2020 tarihinde confident Çerkezköy şubesinden aldığım altis break koşu bandının kullanım kılavuzu, emniyet anahtarı, garanti belgesi ve kurulumda kullanılan gerekli aparatlar ürünle beraber gönderilmedi. Mağazayı hem arayıp hem de bizzat gidip kendim görüşmeme rağmen her seferinde aynı yalanı ...Devamını oku\"\n",
      "********************\n",
      "time: 2.05 ms (started: 2021-10-18 20:17:55 +00:00)\n"
     ]
    }
   ],
   "source": [
    "for i in data[\"text\"][7:10]:\n",
    "    if \"oku\" in i:\n",
    "        print(i)\n",
    "        print(\"*\"*20)"
   ]
  },
  {
   "cell_type": "code",
   "execution_count": null,
   "metadata": {
    "colab": {
     "base_uri": "https://localhost:8080/",
     "height": 477
    },
    "id": "ja67uCD6AOYi",
    "outputId": "8b535a1e-db85-47fc-9c76-2083d5b5036b"
   },
   "outputs": [
    {
     "data": {
      "image/png": "[encoded data removed]",
      "text/plain": [
       "<Figure size 720x1080 with 1 Axes>"
      ]
     },
     "metadata": {
      "needs_background": "light"
     },
     "output_type": "display_data"
    }
   ],
   "source": [
    "# Let us take a look at the most frequently used word in the reviews\n",
    "from wordcloud import WordCloud\n",
    "word_cloud = WordCloud(width = 1000,\n",
    "                       height = 800,\n",
    "                       colormap = 'Blues', \n",
    "                       margin = 0,\n",
    "                       max_words = 183,  \n",
    "                       max_font_size = 120, min_font_size = 15,  \n",
    "                       background_color = \"white\").generate(\" \".join(data['text']))\n",
    "\n",
    "plt.figure(figsize = (10, 15))\n",
    "plt.imshow(word_cloud, interpolation = \"gaussian\")\n",
    "plt.axis(\"off\")\n",
    "plt.show()"
   ]
  },
  {
   "cell_type": "markdown",
   "metadata": {
    "id": "hWlIIoHSAQ5-"
   },
   "source": [
    "* It means we should remove the \"**Devamını oku** (Read More)\" when preparing the train data."
   ]
  },
  {
   "cell_type": "markdown",
   "metadata": {
    "id": "wMSJd2YQAXVP"
   },
   "source": [
    "# Most used words for each category"
   ]
  },
  {
   "cell_type": "markdown",
   "metadata": {
    "id": "XAgk0R8aAfb5"
   },
   "source": [
    "* Taking a sample from raw data only for the tfidf analysis."
   ]
  },
  {
   "cell_type": "code",
   "execution_count": null,
   "metadata": {
    "colab": {
     "base_uri": "https://localhost:8080/"
    },
    "id": "9DfAHrVTAP1I",
    "outputId": "cd469b06-42a9-4de5-9755-7f61e59b2fed"
   },
   "outputs": [
    {
     "name": "stdout",
     "output_type": "stream",
     "text": [
      "time: 61.8 ms (started: 2021-10-18 20:22:41 +00:00)\n"
     ]
    }
   ],
   "source": [
    "df2 = data.sample(100000, random_state=1).copy()"
   ]
  },
  {
   "cell_type": "code",
   "execution_count": null,
   "metadata": {
    "id": "EU2TgZonAi47"
   },
   "outputs": [],
   "source": [
    "tfidf = TfidfVectorizer(sublinear_tf=True, min_df=5,\n",
    "                        ngram_range=(1,1))\n",
    "\n",
    "# We transform each review into a vector\n",
    "df2_features = tfidf.fit_transform(df2.text).toarray()\n",
    "\n",
    "df2_labels = df2.category_id\n",
    "\n",
    "print(\"Each of the %d reviews is represented by %d features (TF-IDF score of unigrams and bigrams)\" %(df2_features.shape))"
   ]
  },
  {
   "cell_type": "code",
   "execution_count": null,
   "metadata": {
    "id": "y83xLiVsAj47"
   },
   "outputs": [],
   "source": [
    "df2_features.shape"
   ]
  },
  {
   "cell_type": "markdown",
   "metadata": {
    "id": "vCqJ_iEgAp-D"
   },
   "source": [
    "Chi-2 feature selection on a TF-IDF vector representation."
   ]
  },
  {
   "cell_type": "code",
   "execution_count": null,
   "metadata": {
    "id": "l0l7gSMdArMT"
   },
   "outputs": [],
   "source": [
    "# Finding the three most correlated terms with each of the categories\n",
    "N = 20\n",
    "for category, category_id in sorted(category_to_id.items()):\n",
    "  features_chi2 = chi2(df2_features, df2_labels == category_id)\n",
    "  indices = np.argsort(features_chi2[0])\n",
    "  feature_names = np.array(tfidf.get_feature_names())[indices]\n",
    "  unigrams = [v for v in feature_names if len(v.split(' ')) == 1]\n",
    "  bigrams = [v for v in feature_names if len(v.split(' ')) == 2]\n",
    "  print(\"\\n==> %s:\" %(category))\n",
    "  print(\"  * Most Correlated Unigrams are: %s\" %(', '.join(unigrams[-N:])))\n",
    "  print(\"  * Most Correlated Bigrams are: %s\" %(', '.join(bigrams[-N:])))"
   ]
  },
  {
   "cell_type": "markdown",
   "metadata": {
    "id": "mtMmzrMwDGoC"
   },
   "source": [
    "## Some necessary variables"
   ]
  },
  {
   "cell_type": "code",
   "execution_count": null,
   "metadata": {
    "colab": {
     "base_uri": "https://localhost:8080/"
    },
    "id": "3VZgFvQzC__J",
    "outputId": "6cdb6910-e041-4493-d765-ed165f2d6806"
   },
   "outputs": [
    {
     "name": "stdout",
     "output_type": "stream",
     "text": [
      "time: 1.47 ms (started: 2021-10-18 20:23:53 +00:00)\n"
     ]
    }
   ],
   "source": [
    "#limit the number of samples to be used in code runs\n",
    "data_size= 427230"
   ]
  },
  {
   "cell_type": "code",
   "execution_count": null,
   "metadata": {
    "colab": {
     "base_uri": "https://localhost:8080/"
    },
    "id": "XLFiy-nMDF8V",
    "outputId": "2d1e2e8f-e421-4e1b-9928-0eef7f66e265"
   },
   "outputs": [
    {
     "name": "stdout",
     "output_type": "stream",
     "text": [
      "time: 1.95 ms (started: 2021-10-18 20:23:54 +00:00)\n"
     ]
    }
   ],
   "source": [
    "vocab_size = 90000  # Only consider the top 90k words\n",
    "maxlen = 50  # Max sequence size"
   ]
  },
  {
   "cell_type": "code",
   "execution_count": null,
   "metadata": {
    "colab": {
     "base_uri": "https://localhost:8080/"
    },
    "id": "zVdcILoqDB_k",
    "outputId": "40a372a8-f521-42d1-b562-df1ec9809eec"
   },
   "outputs": [
    {
     "name": "stdout",
     "output_type": "stream",
     "text": [
      "time: 1.36 ms (started: 2021-10-18 20:23:54 +00:00)\n"
     ]
    }
   ],
   "source": [
    "# save features and targets from the 'data' (raw data)\n",
    "features, targets = data['text'], data['category_id']"
   ]
  },
  {
   "cell_type": "markdown",
   "metadata": {
    "id": "NeblYWT9AtdA"
   },
   "source": [
    "# Spliting the data into train and test sets"
   ]
  },
  {
   "cell_type": "markdown",
   "metadata": {
    "id": "M7YaGx7FAv4i"
   },
   "source": [
    "* We should split the data before the preprocessing. \n",
    "\n",
    "* In order to avoid data leaks, some preprocesses should not be applied on the test set."
   ]
  },
  {
   "cell_type": "code",
   "execution_count": null,
   "metadata": {
    "colab": {
     "base_uri": "https://localhost:8080/"
    },
    "id": "_ddrweMRqGbh",
    "outputId": "7ce989f8-3c42-4f66-93c3-c2858caafeb2"
   },
   "outputs": [
    {
     "name": "stdout",
     "output_type": "stream",
     "text": [
      "time: 277 ms (started: 2021-10-18 20:23:56 +00:00)\n"
     ]
    }
   ],
   "source": [
    "train_features, test_features, train_targets, test_targets = train_test_split(\n",
    "        features, targets,\n",
    "        train_size=0.8,\n",
    "        test_size=0.2,\n",
    "        # random but same for all run, also accurancy depends on the\n",
    "        # selection of data e.g. if we put 10 then accuracy will be 1.0\n",
    "        # in this example\n",
    "        random_state=23,\n",
    "        # keep same proportion of 'target' in test and target data\n",
    "        stratify=targets\n",
    "    )"
   ]
  },
  {
   "cell_type": "markdown",
   "metadata": {
    "id": "Vp10BnTqDR19"
   },
   "source": [
    "# Preprocessing the Data"
   ]
  },
  {
   "cell_type": "code",
   "execution_count": null,
   "metadata": {
    "colab": {
     "base_uri": "https://localhost:8080/"
    },
    "id": "RRQIwvT0DP8C",
    "outputId": "ceec8d94-d0e8-409d-d62f-84a813342027"
   },
   "outputs": [
    {
     "name": "stdout",
     "output_type": "stream",
     "text": [
      "time: 28.2 ms (started: 2021-10-18 20:23:59 +00:00)\n"
     ]
    }
   ],
   "source": [
    "def custom_standardization(input_string): \n",
    "    first_input = tf.strings.regex_replace(input_string, \"İ\", \"I\")\n",
    "    lowercased = tf.strings.lower(first_input, encoding='utf-8') #Turn to lower case\n",
    "    stripped_html = tf.strings.regex_replace(lowercased, \"<br />\", \" \") #Remove html line-break tags\n",
    "    no_numbers = tf.strings.regex_replace(stripped_html, \"\\w*\\d\\w*\",\" \") #Remove numbers\n",
    "    no_punctuation = tf.strings.regex_replace(no_numbers,'[%s]' % re.escape(string.punctuation),'') #Remove punctuations\n",
    "    no_turkish_character = tf.strings.regex_replace(no_punctuation, \"ç\", \"c\") #Replace turkish characters\n",
    "    no_turkish_character = tf.strings.regex_replace(no_turkish_character, \"ğ\", \"g\")\n",
    "    no_turkish_character = tf.strings.regex_replace(no_turkish_character, \"ı\", \"i\")\n",
    "    no_turkish_character = tf.strings.regex_replace(no_turkish_character, \"ö\", \"o\")\n",
    "    no_turkish_character = tf.strings.regex_replace(no_turkish_character, \"ş\", \"s\")\n",
    "    no_turkish_character = tf.strings.regex_replace(no_turkish_character, \"ü\", \"u\")\n",
    "    no_read_more = tf.strings.regex_replace(no_turkish_character, \"...devamini oku\", \" \") #Remove \"Read More\"\n",
    "    return no_read_more"
   ]
  },
  {
   "cell_type": "code",
   "execution_count": null,
   "metadata": {
    "colab": {
     "base_uri": "https://localhost:8080/"
    },
    "id": "ohEflJftDkSS",
    "outputId": "198c58d7-6171-41d4-8b2f-4773f66090fe"
   },
   "outputs": [
    {
     "name": "stdout",
     "output_type": "stream",
     "text": [
      "tf.Tensor(b'pijamali ilginc otobus cikip oldu gozleri', shape=(), dtype=string)\n",
      "time: 5.71 s (started: 2021-10-18 20:24:00 +00:00)\n"
     ]
    }
   ],
   "source": [
    "output = custom_standardization('Pijamalı İlginç Otobüs Çıkıp Öldü Gözleri')\n",
    "print(output)"
   ]
  },
  {
   "cell_type": "code",
   "execution_count": null,
   "metadata": {
    "colab": {
     "base_uri": "https://localhost:8080/"
    },
    "id": "6k8ZiIGXDleH",
    "outputId": "4df3fa9d-1549-4037-cfaf-38be71c40606"
   },
   "outputs": [
    {
     "name": "stdout",
     "output_type": "stream",
     "text": [
      "time: 86 ms (started: 2021-10-18 20:24:06 +00:00)\n"
     ]
    }
   ],
   "source": [
    "# Create a vectorization layer and adapt it to the text\n",
    "vectorize_layer = TextVectorization(\n",
    "    standardize=custom_standardization,\n",
    "    max_tokens=vocab_size - 1,\n",
    "    output_mode=\"int\",\n",
    "    output_sequence_length=maxlen,\n",
    ")"
   ]
  },
  {
   "cell_type": "code",
   "execution_count": null,
   "metadata": {
    "colab": {
     "base_uri": "https://localhost:8080/"
    },
    "id": "171RpHCjDm3O",
    "outputId": "f50f870d-a24d-43f3-f5b8-2e1f3e8d57d0"
   },
   "outputs": [
    {
     "name": "stdout",
     "output_type": "stream",
     "text": [
      "time: 1min 23s (started: 2021-10-18 20:24:06 +00:00)\n"
     ]
    }
   ],
   "source": [
    "vectorize_layer.adapt(train_features)\n",
    "vocab = vectorize_layer.get_vocabulary() "
   ]
  },
  {
   "cell_type": "code",
   "execution_count": null,
   "metadata": {
    "colab": {
     "base_uri": "https://localhost:8080/"
    },
    "id": "KHleb0f7AoXm",
    "outputId": "22a8005a-ec35-4dc3-f472-f5ae6270f727"
   },
   "outputs": [
    {
     "name": "stdout",
     "output_type": "stream",
     "text": [
      "vocab has the  89999  entries\n",
      "vocab has the following first 10 entries\n",
      "0  represents the word:  \n",
      "1  represents the word:  [UNK]\n",
      "2  represents the word:  bir\n",
      "3  represents the word:  ve\n",
      "4  represents the word:  bu\n",
      "5  represents the word:  icin\n",
      "6  represents the word:  de\n",
      "7  represents the word:  da\n",
      "8  represents the word:  ama\n",
      "9  represents the word:  ne\n",
      "time: 4.74 ms (started: 2021-10-18 20:25:29 +00:00)\n"
     ]
    }
   ],
   "source": [
    "print(\"vocab has the \", len(vocab),\" entries\")\n",
    "print(\"vocab has the following first 10 entries\")\n",
    "for word in range(10):\n",
    "  print(word, \" represents the word: \", vocab[word])"
   ]
  },
  {
   "cell_type": "markdown",
   "metadata": {
    "id": "Mzc5IDOpZ4tq"
   },
   "source": [
    "# Saving Dictionary and Reusing - Shape problem"
   ]
  },
  {
   "cell_type": "code",
   "execution_count": null,
   "metadata": {
    "colab": {
     "base_uri": "https://localhost:8080/"
    },
    "id": "wH0jsLlCZ6xV",
    "outputId": "60f4f5fe-b898-4089-da0b-3bc78471f254"
   },
   "outputs": [
    {
     "name": "stdout",
     "output_type": "stream",
     "text": [
      "tf.Tensor(\n",
      "[4 0 0 0 0 0 0 0 0 0 0 0 0 0 0 0 0 0 0 0 0 0 0 0 0 0 0 0 0 0 0 0 0 0 0 0 0\n",
      " 0 0 0 0 0 0 0 0 0 0 0 0 0], shape=(50,), dtype=int64)\n",
      "time: 152 ms (started: 2021-10-18 20:25:29 +00:00)\n"
     ]
    }
   ],
   "source": [
    "# Vector for word \"bu\"\n",
    "print(vectorize_layer(\"bu\"))"
   ]
  },
  {
   "cell_type": "code",
   "execution_count": null,
   "metadata": {
    "colab": {
     "base_uri": "https://localhost:8080/"
    },
    "id": "s39lOthZETYV",
    "outputId": "e0e8fe90-54c7-437a-b511-4d1edf96855c"
   },
   "outputs": [
    {
     "name": "stdout",
     "output_type": "stream",
     "text": [
      "tf.Tensor(\n",
      "[  4 396  11   0   0   0   0   0   0   0   0   0   0   0   0   0   0   0\n",
      "   0   0   0   0   0   0   0   0   0   0   0   0   0   0   0   0   0   0\n",
      "   0   0   0   0   0   0   0   0   0   0   0   0   0   0], shape=(50,), dtype=int64)\n",
      "time: 24.8 ms (started: 2021-10-18 20:25:29 +00:00)\n"
     ]
    }
   ],
   "source": [
    "# Vector for word \"bu güzel gün\"\n",
    "print(vectorize_layer(\"bu güzel gün\"))"
   ]
  },
  {
   "cell_type": "code",
   "execution_count": null,
   "metadata": {
    "colab": {
     "base_uri": "https://localhost:8080/"
    },
    "id": "knN17HGLZ8b1",
    "outputId": "3ae24704-34c0-4b6b-a31f-8f341b1c5e5e"
   },
   "outputs": [
    {
     "name": "stdout",
     "output_type": "stream",
     "text": [
      "time: 777 ms (started: 2021-09-27 09:07:59 +00:00)\n"
     ]
    }
   ],
   "source": [
    "# Pickle the config and weights\n",
    "pickle.dump({'config': vectorize_layer.get_config(),\n",
    "             'weights': vectorize_layer.get_weights()}\n",
    "            , open(\"tv_layer.pkl\", \"wb\"))\n",
    "\n",
    "# Later you can unpickle and use \n",
    "# `config` to create object and \n",
    "# `weights` to load the trained weights. \n"
   ]
  },
  {
   "cell_type": "code",
   "execution_count": null,
   "metadata": {
    "colab": {
     "base_uri": "https://localhost:8080/"
    },
    "id": "DoD7SeadaFO6",
    "outputId": "d9b3a6b4-921d-4bb8-ea20-a7f53b03bc9d"
   },
   "outputs": [
    {
     "name": "stdout",
     "output_type": "stream",
     "text": [
      "time: 154 ms (started: 2021-09-27 09:08:00 +00:00)\n"
     ]
    }
   ],
   "source": [
    "from_disk = pickle.load(open(\"tv_layer.pkl\", \"rb\"))\n",
    "new_vectorize_layer = TextVectorization.from_config(from_disk['config'])\n",
    "# You have to call `adapt` with some dummy data (BUG in Keras)\n",
    "new_vectorize_layer.adapt(tf.data.Dataset.from_tensor_slices([\"xyz\"]))\n",
    "new_vectorize_layer.set_weights(from_disk['weights'])"
   ]
  },
  {
   "cell_type": "code",
   "execution_count": null,
   "metadata": {
    "colab": {
     "base_uri": "https://localhost:8080/"
    },
    "id": "P5c_DJc5aF6U",
    "outputId": "d0dd5143-cf24-4319-ed13-73d13be95b98"
   },
   "outputs": [
    {
     "name": "stdout",
     "output_type": "stream",
     "text": [
      "tf.Tensor([4], shape=(1,), dtype=int64)\n",
      "time: 18.3 ms (started: 2021-09-27 09:08:01 +00:00)\n"
     ]
    }
   ],
   "source": [
    "# Vector for word \"bu\"\n",
    "print(new_vectorize_layer(\"bu\"))"
   ]
  },
  {
   "cell_type": "code",
   "execution_count": null,
   "metadata": {
    "colab": {
     "base_uri": "https://localhost:8080/"
    },
    "id": "g3pDwr_pEPb2",
    "outputId": "980b79c0-1b38-4c71-ac4d-eba326aaac0a"
   },
   "outputs": [
    {
     "name": "stdout",
     "output_type": "stream",
     "text": [
      "tf.Tensor([  4 401  11], shape=(3,), dtype=int64)\n",
      "time: 16.6 ms (started: 2021-09-27 09:08:03 +00:00)\n"
     ]
    }
   ],
   "source": [
    "# Vector for word \"bu güzel gün\"\n",
    "print(new_vectorize_layer(\"bu güzel gün\"))"
   ]
  },
  {
   "cell_type": "code",
   "execution_count": null,
   "metadata": {
    "colab": {
     "base_uri": "https://localhost:8080/"
    },
    "id": "o7pjSbeIhFEI",
    "outputId": "2754c86e-8386-42c0-f106-a5ea467b88a0"
   },
   "outputs": [
    {
     "name": "stdout",
     "output_type": "stream",
     "text": [
      "tf.Tensor(\n",
      "[  4 401  11   4 401  11   4 401  11   4 401  11   4 401  11   4 401  11\n",
      "   4 401  11   4 401  11   4 401  11   4 401  11   4 401  11   4 401  11\n",
      "   4 401  11   4 401  11   4 401  11   4 401  11   4 401  11   4 401  11\n",
      "   4 401  11   4 401  11   4 401  11   4 401  11   4 401  11   4 401  11], shape=(72,), dtype=int64)\n",
      "time: 16.2 ms (started: 2021-09-27 09:12:07 +00:00)\n"
     ]
    }
   ],
   "source": [
    "# Vector for word \"bu güzel gün\"\n",
    "print(new_vectorize_layer(\"bu güzel gün bu güzel gün bu güzel gün bu güzel gün bu güzel gün bu güzel gün bu güzel gün bu güzel gün bu güzel gün bu güzel gün bu güzel gün bu güzel gün bu güzel gün bu güzel gün bu güzel gün bu güzel gün bu güzel gün bu güzel gün bu güzel gün bu güzel gün bu güzel gün bu güzel gün bu güzel gün bu güzel gün\"))"
   ]
  },
  {
   "cell_type": "markdown",
   "metadata": {
    "id": "DPd5aAJmDtpn"
   },
   "source": [
    "# Model"
   ]
  },
  {
   "cell_type": "code",
   "execution_count": null,
   "metadata": {
    "colab": {
     "base_uri": "https://localhost:8080/"
    },
    "id": "Yc9_90UfDvKY",
    "outputId": "eb846947-fd05-43a9-9bc6-8371361f8089"
   },
   "outputs": [
    {
     "name": "stdout",
     "output_type": "stream",
     "text": [
      "time: 73.1 ms (started: 2021-10-18 20:29:35 +00:00)\n"
     ]
    }
   ],
   "source": [
    "def causal_attention_mask(batch_size, n_dest, n_src, dtype):\n",
    "    \"\"\"\n",
    "    Mask the upper half of the dot product matrix in self attention.\n",
    "    This prevents flow of information from future tokens to current token.\n",
    "    1's in the lower triangle, counting from the lower right corner.\n",
    "    \"\"\"\n",
    "    i = tf.range(n_dest)[:, None]\n",
    "    j = tf.range(n_src)\n",
    "    m = i >= j - n_src + n_dest\n",
    "    mask = tf.cast(m, dtype)\n",
    "    mask = tf.reshape(mask, [1, n_dest, n_src])\n",
    "    mult = tf.concat(\n",
    "        [tf.expand_dims(batch_size, -1), tf.constant([1, 1], dtype=tf.int32)], 0\n",
    "    )\n",
    "    return tf.tile(mask, mult)\n",
    "\n",
    "\n",
    "class TransformerBlock(layers.Layer):\n",
    "    def __init__(self, embed_dim, num_heads, ff_dim, rate=0.1, **kwargs):\n",
    "        super(TransformerBlock, self).__init__()\n",
    "        self.embed_dim=embed_dim\n",
    "        self.num_heads = num_heads\n",
    "        self.ff_dim =ff_dim\n",
    "        self.att = layers.MultiHeadAttention(num_heads, embed_dim)\n",
    "        self.ffn = keras.Sequential(\n",
    "            [layers.Dense(ff_dim, activation=\"relu\"), layers.Dense(embed_dim),]\n",
    "        )\n",
    "        self.layernorm1 = layers.LayerNormalization(epsilon=1e-6)\n",
    "        self.layernorm2 = layers.LayerNormalization(epsilon=1e-6)\n",
    "        self.dropout1 = layers.Dropout(rate)\n",
    "        self.dropout2 = layers.Dropout(rate)\n",
    "\n",
    "    def call(self, inputs):\n",
    "        input_shape = tf.shape(inputs)\n",
    "        batch_size = input_shape[0]\n",
    "        seq_len = input_shape[1]\n",
    "        # for masked-self attention add the mask:\n",
    "        # causal_mask = causal_attention_mask(batch_size, seq_len, seq_len, tf.bool)\n",
    "        # attention_output = self.att(inputs, inputs,attention_mask=causal_mask)\n",
    "        \n",
    "        attention_output = self.att(inputs, inputs) \n",
    "        \n",
    "        attention_output = self.dropout1(attention_output)\n",
    "        out1 = self.layernorm1(inputs + attention_output)\n",
    "        ffn_output = self.ffn(out1)\n",
    "        ffn_output = self.dropout2(ffn_output)\n",
    "        return self.layernorm2(out1 + ffn_output)\n",
    "    \n",
    "    # https://newbedev.com/saving-keras-models-with-custom-layers\n",
    "    def get_config(self):\n",
    "        config = super(TransformerBlock, self).get_config()\n",
    "        config.update({\n",
    "            'att': self.att,\n",
    "            'ffn': self.ffn,\n",
    "            'layernorm1': self.layernorm1,\n",
    "            'layernorm2':self.layernorm2,\n",
    "            'dropout1':self.dropout1,\n",
    "            'dropout2':self.dropout2,\n",
    "            'embed_dim': self.embed_dim,\n",
    "            'num_heads':self.num_heads,\n",
    "            'ff_dim':self.ff_dim \n",
    "\n",
    "        })\n",
    "        return config\n",
    "        #tf.keras.models.save_model(model, 'model.h5')\n",
    "        #new_model = tf.keras.models.load_model('model.h5', custom_objects={'CustomLayer': CustomLayer})\n"
   ]
  },
  {
   "cell_type": "code",
   "execution_count": null,
   "metadata": {
    "colab": {
     "base_uri": "https://localhost:8080/"
    },
    "id": "JsmbAa7mDxHy",
    "outputId": "57ea00cd-0ebc-4263-afe7-e5796a38db4d"
   },
   "outputs": [
    {
     "name": "stdout",
     "output_type": "stream",
     "text": [
      "time: 26.4 ms (started: 2021-10-18 20:29:37 +00:00)\n"
     ]
    }
   ],
   "source": [
    "class TokenPositionEmbedding(layers.Layer):\n",
    "    def __init__(self, maxlen, vocab_size,  embed_dim, **kwargs):\n",
    "        super(TokenPositionEmbedding, self).__init__()\n",
    "        self.maxlen = maxlen\n",
    "        self.vocab_size = vocab_size\n",
    "        self.embed_dim = embed_dim\n",
    "        self.token_emb = layers.Embedding(input_dim=vocab_size, output_dim=embed_dim)\n",
    "        self.pos_emb = layers.Embedding(input_dim=maxlen, output_dim=embed_dim)\n",
    "\n",
    "    def call(self, X):\n",
    "        maxlen = tf.shape(X)[-1]\n",
    "        positions = tf.range(start=0, limit=maxlen, delta=1)\n",
    "        positions = self.pos_emb(positions)\n",
    "        X = self.token_emb(X)\n",
    "        return X + positions \n",
    "        \n",
    "    # https://newbedev.com/saving-keras-models-with-custom-layers\n",
    "    def get_config(self):\n",
    "        config = super(TokenPositionEmbedding, self).get_config()\n",
    "        config.update({\n",
    "            'token_emb': self.token_emb,\n",
    "            'pos_emb': self.pos_emb,\n",
    "            'maxlen': self.maxlen,\n",
    "            'vocab_size': self.vocab_size,\n",
    "            'embed_dim': self.embed_dim\n",
    "        })\n",
    "        return config\n",
    "        #tf.keras.models.save_model(model, 'model.h5')\n",
    "        #new_model = tf.keras.models.load_model('model.h5', custom_objects={'CustomLayer': CustomLayer})\n",
    "        "
   ]
  },
  {
   "cell_type": "code",
   "execution_count": null,
   "metadata": {
    "colab": {
     "base_uri": "https://localhost:8080/"
    },
    "id": "g5pVNUymDy4q",
    "outputId": "0e49c57a-f955-4edf-968a-d37e27c4bd78"
   },
   "outputs": [
    {
     "name": "stdout",
     "output_type": "stream",
     "text": [
      "time: 800 ms (started: 2021-10-18 20:29:38 +00:00)\n"
     ]
    }
   ],
   "source": [
    "embed_dim = 256  # Embedding size for each token\n",
    "num_heads = 2  # Number of attention heads\n",
    "feed_forward_dim = 256  # Hidden layer size in feed forward network inside transformer\n",
    "\n",
    "\n",
    "def create_model():\n",
    "    inputs_tokens = layers.Input(shape=(maxlen,), dtype=tf.int32)\n",
    "    embedding_layer = TokenPositionEmbedding(maxlen, vocab_size, embed_dim)\n",
    "    x = embedding_layer(inputs_tokens)\n",
    "    transformer_block1 = TransformerBlock(embed_dim, num_heads, feed_forward_dim)\n",
    "    transformer_block2 = TransformerBlock(embed_dim, num_heads, feed_forward_dim)\n",
    "    x = transformer_block1(x)\n",
    "    x = transformer_block2(x)\n",
    "    x = layers.Flatten()(x)\n",
    "    outputs = layers.Dense(number_of_categories)(x)\n",
    "    model = keras.Model(inputs=inputs_tokens, outputs=outputs)\n",
    "    loss_fn = tf.keras.losses.SparseCategoricalCrossentropy(from_logits=True)\n",
    "    metric_fn  = tf.keras.metrics.SparseCategoricalAccuracy()\n",
    "    model.compile(optimizer=\"adam\", loss=loss_fn, metrics=metric_fn)  \n",
    "    \n",
    "    return model\n",
    "my_model=create_model()"
   ]
  },
  {
   "cell_type": "code",
   "execution_count": null,
   "metadata": {
    "colab": {
     "base_uri": "https://localhost:8080/"
    },
    "id": "ZFC3ZbWvD1mK",
    "outputId": "9c9b75e0-d84f-4660-8747-0a7ac7abe7b9"
   },
   "outputs": [
    {
     "name": "stdout",
     "output_type": "stream",
     "text": [
      "Model: \"model\"\n",
      "_________________________________________________________________\n",
      "Layer (type)                 Output Shape              Param #   \n",
      "=================================================================\n",
      "input_1 (InputLayer)         [(None, 50)]              0         \n",
      "_________________________________________________________________\n",
      "token_position_embedding (To (None, 50, 256)           23052800  \n",
      "_________________________________________________________________\n",
      "transformer_block (Transform (None, 50, 256)           658688    \n",
      "_________________________________________________________________\n",
      "transformer_block_1 (Transfo (None, 50, 256)           658688    \n",
      "_________________________________________________________________\n",
      "flatten (Flatten)            (None, 12800)             0         \n",
      "_________________________________________________________________\n",
      "dense_4 (Dense)              (None, 32)                409632    \n",
      "=================================================================\n",
      "Total params: 24,779,808\n",
      "Trainable params: 24,779,808\n",
      "Non-trainable params: 0\n",
      "_________________________________________________________________\n",
      "time: 17.6 ms (started: 2021-10-18 20:29:39 +00:00)\n"
     ]
    }
   ],
   "source": [
    "my_model.summary()"
   ]
  },
  {
   "cell_type": "code",
   "execution_count": null,
   "metadata": {
    "colab": {
     "base_uri": "https://localhost:8080/",
     "height": 661
    },
    "id": "CCja2KoCD3Fd",
    "outputId": "18787645-43fd-473b-f9da-fd8dca23895b"
   },
   "outputs": [
    {
     "data": {
      "image/png": "[encoded data removed]",
      "text/plain": [
       "<IPython.core.display.Image object>"
      ]
     },
     "execution_count": 39,
     "metadata": {},
     "output_type": "execute_result"
    },
    {
     "name": "stdout",
     "output_type": "stream",
     "text": [
      "time: 404 ms (started: 2021-10-18 20:29:41 +00:00)\n"
     ]
    }
   ],
   "source": [
    "tf.keras.utils.plot_model(my_model,show_shapes=True)"
   ]
  },
  {
   "cell_type": "code",
   "execution_count": null,
   "metadata": {
    "colab": {
     "base_uri": "https://localhost:8080/",
     "height": 69
    },
    "id": "yRy2E-DhD4sw",
    "outputId": "43a0f090-0de1-4a29-cf70-1f80d82b1eed"
   },
   "outputs": [
    {
     "name": "stdout",
     "output_type": "stream",
     "text": [
      "[Errno 2] No such file or directory: '/content/gdrive/My Drive/Colab Notebooks/models'\n",
      "/content/gdrive/My Drive/Kaggle\n"
     ]
    },
    {
     "data": {
      "application/vnd.google.colaboratory.intrinsic+json": {
       "type": "string"
      },
      "text/plain": [
       "'/content/gdrive/My Drive/Kaggle'"
      ]
     },
     "execution_count": 40,
     "metadata": {},
     "output_type": "execute_result"
    },
    {
     "name": "stdout",
     "output_type": "stream",
     "text": [
      "time: 11.8 ms (started: 2021-10-18 20:29:42 +00:00)\n"
     ]
    }
   ],
   "source": [
    "%cd /content/gdrive/My Drive/Colab Notebooks/models\n",
    "%pwd"
   ]
  },
  {
   "cell_type": "code",
   "execution_count": null,
   "metadata": {
    "colab": {
     "base_uri": "https://localhost:8080/"
    },
    "id": "7FUiGv5hD6D8",
    "outputId": "5917ab2f-b377-45ce-aaf8-6e49fe37ef25"
   },
   "outputs": [
    {
     "name": "stdout",
     "output_type": "stream",
     "text": [
      "time: 1.44 ms (started: 2021-10-18 20:29:43 +00:00)\n"
     ]
    }
   ],
   "source": [
    "checkpoint_filepath = './checkpoint'\n",
    "model_checkpoint_callback = tf.keras.callbacks.ModelCheckpoint(\n",
    "    filepath=checkpoint_filepath,\n",
    "    save_weights_only=False)"
   ]
  },
  {
   "cell_type": "code",
   "execution_count": null,
   "metadata": {
    "colab": {
     "base_uri": "https://localhost:8080/"
    },
    "id": "BD-ZGPCTD8Ms",
    "outputId": "919ad391-e6f5-45da-f50f-d9146b965fc6"
   },
   "outputs": [
    {
     "name": "stdout",
     "output_type": "stream",
     "text": [
      "8545/8545 [==============================] - 442s 51ms/step - loss: 0.4181 - sparse_categorical_accuracy: 0.9056\n"
     ]
    },
    {
     "name": "stderr",
     "output_type": "stream",
     "text": [
      "WARNING:absl:Found untraced functions such as embedding_layer_call_and_return_conditional_losses, embedding_layer_call_fn, embedding_1_layer_call_and_return_conditional_losses, embedding_1_layer_call_fn, multi_head_attention_layer_call_and_return_conditional_losses while saving (showing 5 of 120). These functions will not be directly callable after loading.\n"
     ]
    },
    {
     "name": "stdout",
     "output_type": "stream",
     "text": [
      "INFO:tensorflow:Assets written to: ./checkpoint/assets\n"
     ]
    },
    {
     "name": "stderr",
     "output_type": "stream",
     "text": [
      "INFO:tensorflow:Assets written to: ./checkpoint/assets\n"
     ]
    },
    {
     "name": "stdout",
     "output_type": "stream",
     "text": [
      "8545/8545 [==============================] - 411s 48ms/step - loss: 0.1319 - sparse_categorical_accuracy: 0.9663\n"
     ]
    },
    {
     "name": "stderr",
     "output_type": "stream",
     "text": [
      "WARNING:absl:Found untraced functions such as embedding_layer_call_and_return_conditional_losses, embedding_layer_call_fn, embedding_1_layer_call_and_return_conditional_losses, embedding_1_layer_call_fn, multi_head_attention_layer_call_and_return_conditional_losses while saving (showing 5 of 120). These functions will not be directly callable after loading.\n"
     ]
    },
    {
     "name": "stdout",
     "output_type": "stream",
     "text": [
      "INFO:tensorflow:Assets written to: ./checkpoint/assets\n"
     ]
    },
    {
     "name": "stderr",
     "output_type": "stream",
     "text": [
      "INFO:tensorflow:Assets written to: ./checkpoint/assets\n"
     ]
    },
    {
     "name": "stdout",
     "output_type": "stream",
     "text": [
      "8545/8545 [==============================] - 405s 47ms/step - loss: 0.0792 - sparse_categorical_accuracy: 0.9792\n"
     ]
    },
    {
     "name": "stderr",
     "output_type": "stream",
     "text": [
      "WARNING:absl:Found untraced functions such as embedding_layer_call_and_return_conditional_losses, embedding_layer_call_fn, embedding_1_layer_call_and_return_conditional_losses, embedding_1_layer_call_fn, multi_head_attention_layer_call_and_return_conditional_losses while saving (showing 5 of 120). These functions will not be directly callable after loading.\n"
     ]
    },
    {
     "name": "stdout",
     "output_type": "stream",
     "text": [
      "INFO:tensorflow:Assets written to: ./checkpoint/assets\n"
     ]
    },
    {
     "name": "stderr",
     "output_type": "stream",
     "text": [
      "INFO:tensorflow:Assets written to: ./checkpoint/assets\n"
     ]
    },
    {
     "name": "stdout",
     "output_type": "stream",
     "text": [
      "8545/8545 [==============================] - 403s 47ms/step - loss: 0.0505 - sparse_categorical_accuracy: 0.9866\n"
     ]
    },
    {
     "name": "stderr",
     "output_type": "stream",
     "text": [
      "WARNING:absl:Found untraced functions such as embedding_layer_call_and_return_conditional_losses, embedding_layer_call_fn, embedding_1_layer_call_and_return_conditional_losses, embedding_1_layer_call_fn, multi_head_attention_layer_call_and_return_conditional_losses while saving (showing 5 of 120). These functions will not be directly callable after loading.\n"
     ]
    },
    {
     "name": "stdout",
     "output_type": "stream",
     "text": [
      "INFO:tensorflow:Assets written to: ./checkpoint/assets\n"
     ]
    },
    {
     "name": "stderr",
     "output_type": "stream",
     "text": [
      "INFO:tensorflow:Assets written to: ./checkpoint/assets\n"
     ]
    },
    {
     "name": "stdout",
     "output_type": "stream",
     "text": [
      "8545/8545 [==============================] - 404s 47ms/step - loss: 0.0344 - sparse_categorical_accuracy: 0.9908\n"
     ]
    },
    {
     "name": "stderr",
     "output_type": "stream",
     "text": [
      "WARNING:absl:Found untraced functions such as embedding_layer_call_and_return_conditional_losses, embedding_layer_call_fn, embedding_1_layer_call_and_return_conditional_losses, embedding_1_layer_call_fn, multi_head_attention_layer_call_and_return_conditional_losses while saving (showing 5 of 120). These functions will not be directly callable after loading.\n"
     ]
    },
    {
     "name": "stdout",
     "output_type": "stream",
     "text": [
      "INFO:tensorflow:Assets written to: ./checkpoint/assets\n"
     ]
    },
    {
     "name": "stderr",
     "output_type": "stream",
     "text": [
      "INFO:tensorflow:Assets written to: ./checkpoint/assets\n"
     ]
    },
    {
     "name": "stdout",
     "output_type": "stream",
     "text": [
      "time: 40min 52s (started: 2021-10-18 20:29:49 +00:00)\n"
     ]
    }
   ],
   "source": [
    "X,y = train_features,train_targets\n",
    "\n",
    "balanced_accuracy_scores = []\n",
    "matthews_corrcoef_scores = []\n",
    "f1_scores = []\n",
    "conf_matrix_list_of_arrays = []\n",
    "\n",
    "# prepare cross validation\n",
    "n=5\n",
    "seed=1\n",
    "k_fold = KFold(n_splits=n, random_state=seed, shuffle=True)\n",
    "\n",
    "for train_index, test_index in k_fold.split(X,y):\n",
    "  X_train, X_test = X.iloc[train_index], X.iloc[test_index]\n",
    "  y_train, y_test = y.iloc[train_index], y.iloc[test_index]\n",
    "\n",
    "  X_train_dtm = vectorize_layer(X_train)\n",
    "  X_test_dtm = vectorize_layer(X_test)\n",
    "  history = my_model.fit(X_train_dtm, y_train, verbose=1, epochs=1, callbacks=[model_checkpoint_callback])\n",
    "  y_pred_class = my_model.predict(X_test_dtm)\n",
    "\n",
    "  y_pred_class = np.argmax(y_pred_class,axis=1)\n",
    "  \n",
    "  conf_matrix = confusion_matrix(y_test, y_pred_class)\n",
    "  conf_matrix_list_of_arrays.append(conf_matrix)\n",
    "  \n",
    "  balanced_accuracy_scores.append(balanced_accuracy_score(y_test, y_pred_class))\n",
    "  matthews_corrcoef_scores.append(matthews_corrcoef(y_test, y_pred_class))\n",
    "  f1_scores.append(f1_score(y_test, y_pred_class, average='weighted'))"
   ]
  },
  {
   "cell_type": "markdown",
   "metadata": {
    "id": "6mH6mpIPOXvP"
   },
   "source": [
    "Average sparse_categorical_accuracy: 0.9643"
   ]
  },
  {
   "cell_type": "code",
   "execution_count": null,
   "metadata": {
    "colab": {
     "base_uri": "https://localhost:8080/"
    },
    "id": "XFPR3PThyHvC",
    "outputId": "213f5e2e-0d53-439a-e93e-9f74f7622710"
   },
   "outputs": [
    {
     "name": "stdout",
     "output_type": "stream",
     "text": [
      "Mean of conf_matrix:  [[2.0634e+03 1.6000e+00 7.8000e+00 ... 5.0000e+00 4.0000e-01 8.0000e-01]\n",
      " [3.0000e+00 1.9208e+03 8.0000e-01 ... 2.4000e+00 0.0000e+00 0.0000e+00]\n",
      " [1.2000e+00 0.0000e+00 2.1388e+03 ... 1.6000e+00 2.0000e-01 2.0000e-01]\n",
      " ...\n",
      " [4.0000e-01 4.0000e-01 1.2000e+00 ... 2.0694e+03 2.0000e-01 0.0000e+00]\n",
      " [2.0000e-01 0.0000e+00 2.0000e-01 ... 1.4000e+00 2.1082e+03 5.6000e+00]\n",
      " [2.0000e-01 0.0000e+00 2.0000e-01 ... 4.0000e-01 4.4000e+00 2.2172e+03]]\n",
      "time: 6.62 ms (started: 2021-10-18 21:10:43 +00:00)\n"
     ]
    }
   ],
   "source": [
    "mean_of_conf_matrix_arrays = np.mean(conf_matrix_list_of_arrays, axis=0)\n",
    "print('Mean of conf_matrix: ', mean_of_conf_matrix_arrays)"
   ]
  },
  {
   "cell_type": "code",
   "execution_count": null,
   "metadata": {
    "colab": {
     "base_uri": "https://localhost:8080/"
    },
    "id": "HcyGIkIH9bqZ",
    "outputId": "d0775def-e8b3-4ab5-c7c9-42c7f1746dfa"
   },
   "outputs": [
    {
     "name": "stdout",
     "output_type": "stream",
     "text": [
      "time: 1.13 ms (started: 2021-10-18 21:10:43 +00:00)\n"
     ]
    }
   ],
   "source": [
    "conf_mat = mean_of_conf_matrix_arrays.astype(int)"
   ]
  },
  {
   "cell_type": "code",
   "execution_count": null,
   "metadata": {
    "colab": {
     "base_uri": "https://localhost:8080/"
    },
    "id": "aPGoOqhKP2IJ",
    "outputId": "7c7cb4ca-7ea5-4279-c364-f5b505ed8167"
   },
   "outputs": [
    {
     "name": "stdout",
     "output_type": "stream",
     "text": [
      "time: 39.2 ms (started: 2021-10-18 21:12:12 +00:00)\n"
     ]
    }
   ],
   "source": [
    "category_id_df = data[['category', 'category_id']].drop_duplicates()"
   ]
  },
  {
   "cell_type": "code",
   "execution_count": null,
   "metadata": {
    "colab": {
     "base_uri": "https://localhost:8080/",
     "height": 668
    },
    "id": "3P-_eylb7_Yk",
    "outputId": "d7a2b706-7963-430c-c0f1-e4f77c32c727"
   },
   "outputs": [
    {
     "data": {
      "image/png": "[encoded data removed]",
      "text/plain": [
       "<Figure size 576x576 with 2 Axes>"
      ]
     },
     "metadata": {
      "needs_background": "light"
     },
     "output_type": "display_data"
    },
    {
     "name": "stdout",
     "output_type": "stream",
     "text": [
      "time: 9.72 s (started: 2021-10-18 21:12:13 +00:00)\n"
     ]
    }
   ],
   "source": [
    "fig, ax = plt.subplots(figsize=(8,8))\n",
    "sns.heatmap(conf_mat, annot=True, cmap=\"Blues\", fmt='d',\n",
    "            xticklabels=category_id_df.category.values, \n",
    "            yticklabels=category_id_df.category.values)\n",
    "plt.ylabel('Actual')\n",
    "plt.xlabel('Predicted')\n",
    "plt.title(\"CONFUSION MATRIX \\n\", size=16);"
   ]
  },
  {
   "cell_type": "markdown",
   "metadata": {
    "id": "dLqVBl5VLTI3"
   },
   "source": [
    "# Metrics"
   ]
  },
  {
   "cell_type": "code",
   "execution_count": null,
   "metadata": {
    "colab": {
     "base_uri": "https://localhost:8080/"
    },
    "id": "e9vseM-HY6IA",
    "outputId": "e7da6a34-82b2-4c14-e149-6455d109cb05"
   },
   "outputs": [
    {
     "name": "stdout",
     "output_type": "stream",
     "text": [
      "Mean of balanced_accuracy_scores:  0.9769549599981706\n",
      "time: 1.63 ms (started: 2021-10-18 21:12:26 +00:00)\n"
     ]
    }
   ],
   "source": [
    "balanced_accuracy_scores = np.array(balanced_accuracy_scores)\n",
    "print('Mean of balanced_accuracy_scores: ', np.mean(balanced_accuracy_scores, axis=0))"
   ]
  },
  {
   "cell_type": "code",
   "execution_count": null,
   "metadata": {
    "colab": {
     "base_uri": "https://localhost:8080/"
    },
    "id": "d9Vq_tdhY6h8",
    "outputId": "77c2ef2b-9035-4958-b409-7be324229f3b"
   },
   "outputs": [
    {
     "name": "stdout",
     "output_type": "stream",
     "text": [
      "Mean of matthews_corrcoef_scores:  0.976322044613503\n",
      "time: 1.78 ms (started: 2021-10-18 21:12:27 +00:00)\n"
     ]
    }
   ],
   "source": [
    "matthews_corrcoef_scores = np.array(matthews_corrcoef_scores)\n",
    "print('Mean of matthews_corrcoef_scores: ', np.mean(matthews_corrcoef_scores, axis=0))"
   ]
  },
  {
   "cell_type": "code",
   "execution_count": null,
   "metadata": {
    "colab": {
     "base_uri": "https://localhost:8080/"
    },
    "id": "Q52Whq2tomXJ",
    "outputId": "e30b7cbe-2222-4b6b-a050-92d3d0b725d7"
   },
   "outputs": [
    {
     "name": "stdout",
     "output_type": "stream",
     "text": [
      "Mean of f1_scores:  0.9771237992848306\n",
      "time: 2.23 ms (started: 2021-10-18 21:12:28 +00:00)\n"
     ]
    }
   ],
   "source": [
    "f1_scores = np.array(f1_scores)\n",
    "print('Mean of f1_scores: ', np.mean(f1_scores, axis=0))"
   ]
  },
  {
   "cell_type": "markdown",
   "metadata": {
    "id": "eaprE9CYqtaX"
   },
   "source": [
    "**Test the Model**"
   ]
  },
  {
   "cell_type": "code",
   "execution_count": null,
   "metadata": {
    "colab": {
     "base_uri": "https://localhost:8080/"
    },
    "id": "7OneytVGG87v",
    "outputId": "16d83f64-1fcd-4da4-ff66-7a6f6ad1da8a"
   },
   "outputs": [
    {
     "name": "stdout",
     "output_type": "stream",
     "text": [
      "balanced_accuracy_score_test : 0.9520353064741285\n",
      "matthews_corrcoef_score_test : 0.9507118901914144\n",
      "f1_score_test : 0.9524388892809142\n",
      "time: 47.1 s (started: 2021-10-18 21:12:35 +00:00)\n"
     ]
    }
   ],
   "source": [
    "test_features_vc = vectorize_layer(test_features)\n",
    "y_pred_test = my_model.predict(test_features_vc)\n",
    "y_pred_test = np.argmax(y_pred_test,axis=1)\n",
    " \n",
    "balanced_accuracy_score_test = balanced_accuracy_score(test_targets, y_pred_test)\n",
    "print('balanced_accuracy_score_test :',balanced_accuracy_score_test)\n",
    "matthews_corrcoef_score_test = matthews_corrcoef(test_targets, y_pred_test)\n",
    "print('matthews_corrcoef_score_test :',matthews_corrcoef_score_test)\n",
    "f1_score_test = f1_score(test_targets, y_pred_test, average='weighted')\n",
    "print('f1_score_test :',f1_score_test)\n"
   ]
  },
  {
   "cell_type": "code",
   "execution_count": null,
   "metadata": {
    "colab": {
     "base_uri": "https://localhost:8080/"
    },
    "id": "5rYybVp8BydW",
    "outputId": "bc5f2808-d972-47e0-c649-80d8c80c7ced"
   },
   "outputs": [
    {
     "name": "stdout",
     "output_type": "stream",
     "text": [
      "cep-telefon-kategori\n",
      "time: 70.9 ms (started: 2021-10-18 21:13:22 +00:00)\n"
     ]
    }
   ],
   "source": [
    "new_review = \"Telefon çok kötü çıktı. Hiç memnun kalmadım.\"\n",
    "predictions=my_model.predict(vectorize_layer([new_review]))\n",
    "for pred in predictions:\n",
    "  print(id_to_category[np.argmax(pred)])"
   ]
  },
  {
   "cell_type": "code",
   "execution_count": null,
   "metadata": {
    "colab": {
     "base_uri": "https://localhost:8080/"
    },
    "id": "RTtzrck7CYKM",
    "outputId": "c1785b35-0c5c-4486-c128-8b50700363e1"
   },
   "outputs": [
    {
     "name": "stdout",
     "output_type": "stream",
     "text": [
      "cep-telefon-kategori\n",
      "spor\n",
      "ulasim\n",
      "anne-bebek\n",
      "ulasim\n",
      "time: 200 ms (started: 2021-10-18 21:15:18 +00:00)\n"
     ]
    }
   ],
   "source": [
    "examples = [\n",
    "  \"Bu telefonun şarjı kısa sürüyor.\",\n",
    "  \"Spor salonu aidatını geri iade etmediler\",\n",
    "  \"Uçak biletini iptal etmek için çok uğraştım.\",\n",
    "  \"Bebek bezi çok pahalı\",\n",
    "  \"İndikten sonra havayolu çalışanları ile kavga ettik\",\n",
    "]\n",
    "predictions=my_model.predict(vectorize_layer(examples))\n",
    "for pred in predictions:\n",
    "  print(id_to_category[np.argmax(pred)])"
   ]
  },
  {
   "cell_type": "markdown",
   "metadata": {
    "id": "lokB2NN7ce_j"
   },
   "source": [
    "# Save the Model"
   ]
  },
  {
   "cell_type": "code",
   "execution_count": null,
   "metadata": {
    "colab": {
     "base_uri": "https://localhost:8080/"
    },
    "id": "gO1H2PDTcg4a",
    "outputId": "76f0d241-723d-4be3-c83a-5bf3c07152c8"
   },
   "outputs": [
    {
     "name": "stderr",
     "output_type": "stream",
     "text": [
      "WARNING:absl:Found untraced functions such as embedding_layer_call_and_return_conditional_losses, embedding_layer_call_fn, embedding_1_layer_call_and_return_conditional_losses, embedding_1_layer_call_fn, multi_head_attention_layer_call_and_return_conditional_losses while saving (showing 5 of 120). These functions will not be directly callable after loading.\n"
     ]
    },
    {
     "name": "stdout",
     "output_type": "stream",
     "text": [
      "INFO:tensorflow:Assets written to: MultiClassTextClassifier/assets\n"
     ]
    },
    {
     "name": "stderr",
     "output_type": "stream",
     "text": [
      "INFO:tensorflow:Assets written to: MultiClassTextClassifier/assets\n"
     ]
    },
    {
     "name": "stdout",
     "output_type": "stream",
     "text": [
      "time: 13.9 s (started: 2021-10-18 21:15:25 +00:00)\n"
     ]
    }
   ],
   "source": [
    "tf.keras.models.save_model(my_model, 'MultiClassTextClassifier')"
   ]
  }
 ],
 "metadata": {
  "accelerator": "GPU",
  "colab": {
   "provenance": []
  },
  "kernelspec": {
   "display_name": "Python 3 (ipykernel)",
   "language": "python",
   "name": "python3"
  },
  "language_info": {
   "codemirror_mode": {
    "name": "ipython",
    "version": 3
   },
   "file_extension": ".py",
   "mimetype": "text/x-python",
   "name": "python",
   "nbconvert_exporter": "python",
   "pygments_lexer": "ipython3",
   "version": "3.9.7"
  }
 },
 "nbformat": 4,
 "nbformat_minor": 1
}
