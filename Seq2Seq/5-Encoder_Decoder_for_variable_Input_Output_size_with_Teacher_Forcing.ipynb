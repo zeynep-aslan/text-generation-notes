{
 "cells": [
  {
   "cell_type": "markdown",
   "metadata": {
    "id": "Gs3VPrglU5y3"
   },
   "source": [
    "# PART E: Encoder-Decoder for Variable Input And Output Sizes: Padding & Masking\n",
    "Welcome to  **Part E** of the Seq2Seq Learning Tutorial Series.\n",
    "In this tutorial, we will design an Encoder-Decoder model to handle **variable-size** input and output sequences by using three methods. First, we  will apply **Padding** to the input and output datasets. Then, we will append the **Masking** layer to the Encoder-Decoder model to efficiently process the padded data. Lastly, we design the model such that decoder will stop whenever it generates a special **STOP** symbol. To improve the training process, we will implement the **Teacher Forcing** technique which we had covered in **Part D**. \n",
    "\n",
    "\n",
    "If you would like to follow up on all Seq2Seq tutorials, please **subscribe** to [my YouTube Channel](https://www.youtube.com/channel/UCrCxCxTFL2ytaDrDYrN4_eA/playlists) or **follow** [my blog on Medium](https://medium.com/@kmkarakaya). Do not forget to turn on **Notifications** so that you will be notified when ***new parts are uploaded***.\n",
    "\n",
    "You can access this **Colab Notebook** using [the link](https://colab.research.google.com/drive/1cxDOWY7PQSx-tRy8inE2IG7-xGpVJWNP?usp=sharing) given in the video description below.\n",
    "\n",
    "If you are ready, let's get started!\n"
   ]
  },
  {
   "cell_type": "markdown",
   "metadata": {
    "id": "Mi1tgH2TAFsB"
   },
   "source": [
    "---\n",
    "# References:\n",
    "\n"
   ]
  },
  {
   "cell_type": "markdown",
   "metadata": {
    "id": "ZrU3ryISVDq8"
   },
   "source": [
    "**Blogs**:\n",
    "\n",
    "* [Tensorflow/Keras Masking Padding official website](https://www.tensorflow.org/guide/keras/masking_and_padding)\n",
    "\n",
    "* [Tensorflow/Keras LSTM official website](https://www.tensorflow.org/api_docs/python/tf/keras/layers/LSTM)\n",
    "\n",
    "* [A ten-minute introduction to sequence-to-sequence learning in Keras by Francois Chollet](https://blog.keras.io/a-ten-minute-introduction-to-sequence-to-sequence-learning-in-keras.html)\n",
    "\n",
    "* [How to Develop an Encoder-Decoder Model with Attention in Keras by Jason Brownlee](https://machinelearningmastery.com/encoder-decoder-attention-sequence-to-sequence-prediction-keras/)\n",
    "\n",
    "**Presentations:**\n",
    "\n",
    "* [LSTM from a programmer's perspective by Murat Karakaya Akademi](https://github.com/kmkarakaya/ML_tutorials/raw/bf15d1d5aebd23e05420c12f3c954abea9204b1f/ppt/HOW%20KERAS%20LSTM%20WORKS.pptx)\n",
    "\n",
    "**Videos:**\n",
    "* [LSTM from scratch by Murat Karakaya Akademi](https://youtu.be/7nnSjZBJVDs)\n",
    "\n",
    "**Notebooks**:\n",
    "* [LSTM intro by Murat Karakaya Akademi](https://colab.research.google.com/drive/1kG5pUczEtqdDtMHiNL-mvgTi-5-Y058t?usp=sharing)\n",
    "* [Recap LSTM outputs by Murat Karakaya Akademi](https://colab.research.google.com/drive/1nUazJkXcRZi-XiXCr6sEgCy2Z5Mhze1n?usp=sharing)\n",
    "\n"
   ]
  },
  {
   "cell_type": "markdown",
   "metadata": {
    "id": "lQW-e4UkraAu"
   },
   "source": [
    "---\n",
    "# Import Dependencies & Auxiliary Functions"
   ]
  },
  {
   "cell_type": "code",
   "execution_count": null,
   "metadata": {
    "cellView": "form",
    "colab": {
     "base_uri": "https://localhost:8080/"
    },
    "id": "ejlCnWNlFzdm",
    "outputId": "d9832146-fd10-412a-9996-e37782d15b59"
   },
   "outputs": [
    {
     "name": "stdout",
     "output_type": "stream",
     "text": [
      "GPU device not found\n",
      "time: 3.3 ms\n"
     ]
    }
   ],
   "source": [
    "#@title Check GPU\n",
    "%tensorflow_version 2.x\n",
    "import tensorflow as tf\n",
    "device_name = tf.test.gpu_device_name()\n",
    "if device_name != '/device:GPU:0':\n",
    "  print('GPU device not found')\n",
    "else:\n",
    "  print('Found GPU at: {}'.format(device_name))"
   ]
  },
  {
   "cell_type": "code",
   "execution_count": null,
   "metadata": {
    "cellView": "form",
    "colab": {
     "base_uri": "https://localhost:8080/"
    },
    "id": "VbUbGOuqFzUY",
    "outputId": "d27b4d16-ca5a-47ca-90c5-0b3435c6c6cc"
   },
   "outputs": [
    {
     "name": "stdout",
     "output_type": "stream",
     "text": [
      "tf version:  2.3.0\n",
      "tf.keras version: 2.4.0\n",
      "time: 4.04 ms\n"
     ]
    }
   ],
   "source": [
    "#@title Version Info\n",
    "print('tf version: ', tf.__version__)\n",
    "print('tf.keras version:', tf.keras.__version__)\n"
   ]
  },
  {
   "cell_type": "code",
   "execution_count": null,
   "metadata": {
    "cellView": "form",
    "colab": {
     "base_uri": "https://localhost:8080/"
    },
    "id": "IC4MdzOhgwRg",
    "outputId": "8f73c44b-8be0-4ca5-8e9b-28c2b1a23e51"
   },
   "outputs": [
    {
     "name": "stdout",
     "output_type": "stream",
     "text": [
      "Requirement already satisfied: ipython-autotime in /usr/local/lib/python3.6/dist-packages (0.2.0)\n",
      "Requirement already satisfied: ipython in /usr/local/lib/python3.6/dist-packages (from ipython-autotime) (5.5.0)\n",
      "Requirement already satisfied: setuptools>=18.5 in /usr/local/lib/python3.6/dist-packages (from ipython->ipython-autotime) (50.3.2)\n",
      "Requirement already satisfied: pygments in /usr/local/lib/python3.6/dist-packages (from ipython->ipython-autotime) (2.6.1)\n",
      "Requirement already satisfied: traitlets>=4.2 in /usr/local/lib/python3.6/dist-packages (from ipython->ipython-autotime) (4.3.3)\n",
      "Requirement already satisfied: pickleshare in /usr/local/lib/python3.6/dist-packages (from ipython->ipython-autotime) (0.7.5)\n",
      "Requirement already satisfied: decorator in /usr/local/lib/python3.6/dist-packages (from ipython->ipython-autotime) (4.4.2)\n",
      "Requirement already satisfied: pexpect; sys_platform != \"win32\" in /usr/local/lib/python3.6/dist-packages (from ipython->ipython-autotime) (4.8.0)\n",
      "Requirement already satisfied: prompt-toolkit<2.0.0,>=1.0.4 in /usr/local/lib/python3.6/dist-packages (from ipython->ipython-autotime) (1.0.18)\n",
      "Requirement already satisfied: simplegeneric>0.8 in /usr/local/lib/python3.6/dist-packages (from ipython->ipython-autotime) (0.8.1)\n",
      "Requirement already satisfied: six in /usr/local/lib/python3.6/dist-packages (from traitlets>=4.2->ipython->ipython-autotime) (1.15.0)\n",
      "Requirement already satisfied: ipython-genutils in /usr/local/lib/python3.6/dist-packages (from traitlets>=4.2->ipython->ipython-autotime) (0.2.0)\n",
      "Requirement already satisfied: ptyprocess>=0.5 in /usr/local/lib/python3.6/dist-packages (from pexpect; sys_platform != \"win32\"->ipython->ipython-autotime) (0.6.0)\n",
      "Requirement already satisfied: wcwidth in /usr/local/lib/python3.6/dist-packages (from prompt-toolkit<2.0.0,>=1.0.4->ipython->ipython-autotime) (0.2.5)\n",
      "The autotime extension is already loaded. To reload it, use:\n",
      "  %reload_ext autotime\n",
      "time: 2.74 s\n"
     ]
    }
   ],
   "source": [
    "#@title Time\n",
    "!pip install ipython-autotime\n",
    "\n",
    "%load_ext autotime"
   ]
  },
  {
   "cell_type": "code",
   "execution_count": null,
   "metadata": {
    "cellView": "form",
    "colab": {
     "base_uri": "https://localhost:8080/"
    },
    "id": "J9ZhrUeTDsx-",
    "outputId": "cbc37a95-b4c9-453e-d8e9-c9d80d327a01"
   },
   "outputs": [
    {
     "name": "stdout",
     "output_type": "stream",
     "text": [
      "time: 7.88 ms\n"
     ]
    }
   ],
   "source": [
    "#@title Import Libraries\n",
    "from random import randint\n",
    "from numpy import array\n",
    "from numpy import argmax\n",
    "import keras.backend as K\n",
    "from tensorflow.keras import models\n",
    "from numpy import array_equal\n",
    "import numpy as np\n",
    "from tensorflow.keras.models import Sequential, Model\n",
    "from tensorflow.keras.layers import LSTM, Bidirectional\n",
    "from tensorflow.keras.layers import Dense, Flatten\n",
    "from tensorflow.keras import Input\n",
    "from tensorflow.keras.layers import TimeDistributed\n",
    "from tensorflow.keras.layers import RepeatVector\n",
    "from tensorflow.keras.callbacks import EarlyStopping\n",
    "from tensorflow.keras.utils import plot_model\n",
    "from tensorflow.keras.models import load_model\n",
    "import matplotlib.pyplot as plt\n",
    "\n",
    "from tensorflow.keras.layers import Lambda\n",
    "from tensorflow.keras import backend as K\n",
    "\n",
    "from scipy.ndimage.interpolation import shift"
   ]
  },
  {
   "cell_type": "code",
   "execution_count": null,
   "metadata": {
    "cellView": "form",
    "colab": {
     "base_uri": "https://localhost:8080/"
    },
    "id": "feLfHoNmBeXu",
    "outputId": "b24594d0-04cc-4c25-f9a9-4eab703f5e73"
   },
   "outputs": [
    {
     "name": "stdout",
     "output_type": "stream",
     "text": [
      "time: 51.5 ms\n"
     ]
    }
   ],
   "source": [
    "#@title Functions to generate Seq2Seq Dataset, one hot encode / decode Input & Output Sequences\n",
    "\n",
    "\n",
    "# generate a sequence of random integers\n",
    "def generate_sequence(min_timesteps_in, max_timesteps_in, n_unique):\n",
    "\treturn [randint(1, n_unique-1) for _ in \n",
    "\t        range( randint(min_timesteps_in, max_timesteps_in))]\n",
    "\n",
    "# one hot encode sequence\n",
    "def one_hot_encode(sequence, n_unique):\n",
    "\tencoding = list()\n",
    "\tfor value in sequence:\n",
    "\t\tvector = [0 for _ in range(n_unique)]\n",
    "\t\tvector[value] = 1\n",
    "\t\tencoding.append(vector)\n",
    "\treturn array(encoding)\n",
    "\n",
    "# decode a one hot encoded string\n",
    "def one_hot_decode(encoded_seq):\n",
    "\treturn [argmax(vector) for vector in encoded_seq]\n",
    "\n",
    "# prepare data for the LSTM\n",
    "def get_reversed_pairs(min_timesteps_in, max_timesteps_in,vocabulary_size,verbose= False):\n",
    "\t# generate random sequence\n",
    "\tsequence_in = generate_sequence(min_timesteps_in, max_timesteps_in, vocabulary_size)\n",
    "\tsequence_out = sequence_in[::-1]\n",
    "\tsequence_out =[i for i in sequence_out if i%2 ==0 and i != 0]\n",
    "\t\n",
    "\t# one hot encode\n",
    "\tX = one_hot_encode(sequence_in, vocabulary_size)\n",
    "\ty = one_hot_encode(sequence_out, vocabulary_size)\n",
    "\n",
    "\treturn X,y\n",
    "\n",
    "\n",
    "def create_dataset(train_size, test_size, \n",
    "                   min_timesteps_in, max_timesteps_in, vocabulary_size, verbose= False):\n",
    "\tpairs = [get_reversed_pairs(min_timesteps_in, max_timesteps_in,vocabulary_size) for _ in range(train_size)]\n",
    "\t\n",
    "\tpairs=np.array(pairs).squeeze()\n",
    "\tX_train = pairs[:,0]\n",
    "\ty_train = pairs[:,1]\n",
    "\tpairs = [get_reversed_pairs(min_timesteps_in, max_timesteps_in,vocabulary_size) for _ in range(test_size)]\n",
    "\tpairs=np.array(pairs).squeeze()\n",
    "\tX_test = pairs[:,0]\n",
    "\ty_test = pairs[:,1]\t\n",
    "\n",
    "\tif(verbose):\n",
    "\t\tprint('\\nSample X and y sequences (in Raw Format)')\n",
    "\t\tfor i in range(5):\n",
    "\t\t\tprint('X[',i,']=%s' % (one_hot_decode(X_train[i])), '........ y[',i,']=%s' % (one_hot_decode(y_train[i])))\n",
    "\n",
    "\t\tprint('\\nEach input and output sequences are converted one_hot_encoded format with input_dimension = ',\n",
    "\t\t      vocabulary_size)\n",
    "\t\tprint('X[0]=\\n%s' % (X_train[0]))\n",
    "\t\tprint('y[0]=\\n%s' % (y_train[0]))\n",
    "\t\n",
    "\t\tprint('\\nGenerated sequence datasets as follows [sample_size,time_steps, input_dimension]')\n",
    "\t\tprint('X_train.shape: ', X_train.shape,'y_train.shape: ', y_train.shape)\n",
    "\t\tprint('X_test.shape: ', X_test.shape,'y_test.shape: ', y_test.shape)\n",
    "\t\n",
    "\treturn X_train, y_train, X_test, \ty_test"
   ]
  },
  {
   "cell_type": "code",
   "execution_count": null,
   "metadata": {
    "cellView": "form",
    "colab": {
     "base_uri": "https://localhost:8080/"
    },
    "id": "JHDIEj53Dj5p",
    "outputId": "d2b7204b-800f-4dc7-b5df-c341282062a7"
   },
   "outputs": [
    {
     "name": "stdout",
     "output_type": "stream",
     "text": [
      "time: 40.4 ms\n"
     ]
    }
   ],
   "source": [
    "#@title Function to Train & Test  given model (Early Stopping monitor 'val_loss')\n",
    "def train_test(model, X_train, y_train , X_test, \ty_test, epochs=500, batch_size=32, patience=5,verbose=0):\n",
    "\t# patient early stopping\n",
    "\t#es = EarlyStopping(monitor='val_accuracy', mode='max', min_delta=1, patience=20)\n",
    "\tes = EarlyStopping(monitor='val_loss', mode='min', verbose=1, patience=patience)\n",
    "\t# train model\n",
    "\tprint('training for ',epochs,' epochs begins with EarlyStopping(monitor= val_loss, patience=',patience,')....')\n",
    "\thistory=model.fit(X_train, y_train, validation_split= 0.1, epochs=epochs,batch_size=batch_size, verbose=verbose, callbacks=[es])\n",
    "\tprint(epochs,' epoch training finished...')\n",
    "\n",
    "\t# report training\n",
    "\t# list all data in history\n",
    "\t#print(history.history.keys())\n",
    "\t# evaluate the model\n",
    "\t_, train_acc = model.evaluate(X_train, y_train, batch_size=batch_size, verbose=0)\n",
    "\t_, test_acc = model.evaluate(X_test, \ty_test, batch_size=batch_size, verbose=0)\n",
    "\tprint('\\nPREDICTION ACCURACY (%):')\n",
    "\tprint('Train: %.3f, Test: %.3f' % (train_acc*100, test_acc*100))\n",
    "\t# summarize history for accuracy\n",
    "\tplt.plot(history.history['accuracy'])\n",
    "\tplt.plot(history.history['val_accuracy'])\n",
    "\tplt.title(model.name+' accuracy')\n",
    "\tplt.ylabel('accuracy')\n",
    "\tplt.xlabel('epoch')\n",
    "\tplt.legend(['train', 'val'], loc='upper left')\n",
    "\tplt.show()\n",
    "\t# summarize history for loss\n",
    "\tplt.plot(history.history['loss'])\n",
    "\tplt.plot(history.history['val_loss'])\n",
    "\tplt.title(model.name+' loss')\n",
    "\tplt.ylabel('loss')\n",
    "\tplt.xlabel('epoch')\n",
    "\tplt.legend(['train', 'val'], loc='upper left')\n",
    "\tplt.show()\n",
    "\n",
    "\n",
    "\n",
    "\n",
    "  \n",
    "\t# spot check some examples\n",
    "\tspace = 3*len(one_hot_decode(y_test[0]))\n",
    "\tprint('10 examples from test data...')\n",
    "\tprint('Input',' '*(space-4) ,'Expected',' '*(space-7) ,\n",
    "\t      'Predicted',' '*(space-5) ,'T/F')\n",
    "\tcorrect =0 \n",
    "\tsampleNo =  10\n",
    "\n",
    "\tpredicted= model.predict(X_test[:sampleNo], batch_size=batch_size)\n",
    "\tfor sample in range(0,sampleNo):\n",
    "\t\tif (one_hot_decode(y_test[sample])== one_hot_decode(predicted[sample])):\n",
    "\t\t\tcorrect+=1\n",
    "\t\tprint( one_hot_decode(X_test[0][sample]), ' ', \n",
    "\t\t\t\t\tone_hot_decode(y_test[sample]),' ', one_hot_decode(predicted[sample]),\n",
    "\t\t\t\t\t' ',one_hot_decode(y_test[sample])== one_hot_decode(predicted[sample]))\n",
    "\tprint('Accuracy: ', correct/sampleNo)\n",
    "\t\n"
   ]
  },
  {
   "cell_type": "markdown",
   "metadata": {
    "id": "GhtvO1mxWGji"
   },
   "source": [
    "---\n",
    "# SEQ2SEQ LEARNING SERIES:\n",
    "* This is the **Part E** of the Seq2Seq Learning series.\n",
    "\n",
    "* **Please check out the previous parts** to ***refresh*** the necessary background knowledge in order to follow this part with ease."
   ]
  },
  {
   "cell_type": "markdown",
   "metadata": {
    "id": "e2RqWU44WHaa"
   },
   "source": [
    "You can access all my **SEQ2SEQ Learning** videos on **[Murat Karakaya Akademi Youtube channel](https://www.youtube.com/channel/UCrCxCxTFL2ytaDrDYrN4_eA/playlists?view=1&flow=grid)** in [ENGLISH](https://www.youtube.com/playlist?list=PLQflnv_s49v-4aH-xFcTykTpcyWSY4Tww) or in [TURKISH](https://www.youtube.com/playlist?list=PLQflnv_s49v97hDXtCo4mgje_SEiJ0_hH)\n",
    "\n",
    "You can access  [my blog on Medium](https://medium.com/@kmkarakaya)\n",
    "\n",
    "**Part A: AN INTRODUCTION TO SEQ2SEQ LEARNING AND A SAMPLE SOLUTION WITH MLP NETWORK** \n",
    " \n",
    "   * YouTube Videos in [ENGLISH](https://youtu.be/9TEPkRLhgSc) or [TURKISH](https://youtu.be/p2QlkuV4ito) / [Medium Post](https://medium.com/@kmkarakaya/part-a-introduction-to-seq2seq-learning-a-sample-solution-with-mlp-network-95dc0bcb9c83?sk=2063e3c62b1989efedf6625ac626c2ee) / [Colab Notebook](https://colab.research.google.com/drive/1fffqeeJsY89LuxsEl_7Re33nCWGusjCj?usp=sharing)\n",
    "\n",
    "**Part B: SEQ2SEQ LEARNING WITH RECURRENT NEURAL NETWORKS (LSTM)** \n",
    "\n",
    "   * YouTube Video in [ENGLISH](https://youtu.be/7L5bkMu0Pgg) or [TURKISH](https://youtu.be/UA4rDcq5Cuo) / [Medium Post](https://medium.com/@kmkarakaya/seq2seq-part-b-using-lstm-layer-in-a-recurrent-neural-network-9be629bb71e2?source=friends_link&sk=0b6e0f34592100b991664c55061ca394) / [Colab Notebook](https://colab.research.google.com/drive/1DBaHgsoPJCoj8SXAqNqQtKqAtwrUc4qS?usp=sharing)\n",
    "\n",
    "\n",
    "**Part C: SEQ2SEQ LEARNING WITH A BASIC ENCODER DECODER MODEL** \n",
    "\n",
    "   * YouTube Video in [ENGLISH](https://youtu.be/iHJkfsV9cqY) or [TURKISH](https://youtu.be/SZNqENbc9f4)/ [Medium Post](https://medium.com/@kmkarakaya/seq2seq-part-c-basic-encoder-decoder-a7f536f5f510) / [Colab Notebook](https://colab.research.google.com/drive/1ErnVEZOmlu_nInxaoLStW0BHzgT4meVj?usp=sharing)\n",
    "\n",
    "**Part D: SEQ2SEQ LEARNING WITH AN ENCODER DECODER MODEL WITH TEACHER FORCING** \n",
    "\n",
    "   * YouTube Video in [ENGLISH](https://youtu.be/RRP0czWtOeM) or [TURKISH](https://youtu.be/JVIiPaCFB78) / [Medium Post](https://medium.com/@kmkarakaya/seq2seq-part-d-encoder-decoder-with-teacher-forcing-18a3a09a096) / [Colab Notebook](https://colab.research.google.com/drive/1TNUB8vsZimVZl_wktWS1ac4wyw8kaNLW?usp=sharing)\n",
    "\n",
    "\n",
    "\n",
    "**Part E: SEQ2SEQ LEARNING WITH AN ENCODER DECODER MODEL WITH TEACHER FORCING FOR VARIABLE INPUT AND OUTPUT SIZE: MASKING & PADDING** \n",
    "\n",
    "   * YouTube Video in [ENGLISH]() or [TURKISH]() / [Medium Post](https://medium.com/@kmkarakaya/seq2seq-part-e-encoder-decoder-for-variable-input-output-size-with-teacher-forcing-92c476dd9b0) / [Colab Notebook](https://colab.research.google.com/drive/1C1m-uNsWqhFOS2naFXNuxh851YkixYeZ?usp=sharing)\n",
    "\n",
    "**Part F: SEQ2SEQ LEARNING WITH AN ENCODER DECODER MODEL + BAHDANAU ATTENTION** \n",
    "\n",
    "   * YouTube Video / Medium Post / [Colab Notebook](https://colab.research.google.com/drive/1VFfeP3eiauYCRvW8vMvL0NRKaOtcGz3J?usp=sharing)\n",
    "\n",
    "\n",
    "**Part G: SEQ2SEQ LEARNING WITH AN ENCODER DECODER MODEL + LUONG ATTENTION** \n",
    "\n",
    "   * YouTube Video / Medium Post / [Colab Notebook](https://colab.research.google.com/drive/1N0ycXm7Lq3jWzbJERRy6rwL1Ux4hmlWM?usp=sharing)\n"
   ]
  },
  {
   "cell_type": "markdown",
   "metadata": {
    "id": "v3JMiNLNWO6G"
   },
   "source": [
    "---\n",
    "# WHY WE HAVE SO MANY PARTS?\n",
    "* Our aim is to code an Encoder Decoder Model with Attention. \n",
    "* However, I would like to develop the solution by showing the shortcomings of other possible approaches.\n",
    "* Therefore, in the first 2 parts, we will observe that initial models have their own weaknesses.\n",
    "* We also understand why Encoder Decoder paradigm is so successful.\n",
    "\n",
    "**So, please patiently follow the parts as we develop a better solution :)**"
   ]
  },
  {
   "cell_type": "markdown",
   "metadata": {
    "id": "6yVEATl8sPSq"
   },
   "source": [
    "---\n",
    "# A Simple Seq2Seq Problem: The reversed sequence problem\n",
    "Assume that:\n",
    "* We are given a **parallel data set** including X (input) and y (output) such that X[i] and y[i] have ***some*** relationship.\n",
    "\n",
    "* We use the **parallel data sets** to train a **seq2seq** model which would learn \n",
    "\n",
    "  * how to **convert/transform an input sequence from X \n",
    "to an output sequence in y**\n",
    "\n",
    "* For instance: we are given the **same book's text** in English (X) and in Turkish (y). Thus the **statement X[i]** in English is translated into Turkish as **y[i] statement**. We use these parallel date sets to train a **seq2seq** model which would learn how to **translate from English to Turkish**\n",
    "\n",
    "\n",
    "However, to set up an ***easily traceable*** example, I opt out to prepare a rather simple sequence learning problem. \n",
    "\n",
    "* Consider two parallel sequence datasets **X** and **y** as below:\n",
    "\n",
    " X[0]=[3, 2, 9, 4]..................................y[0]=[4, 2]\n",
    "\n",
    " X[1]=[7, 6, 5, 2, 5, 2].......................... y[1]=[2, 2, 6]\n",
    "\n",
    " X[2]=[1, 7, 5, 1, 3]...............................y[2]=[]\n",
    "\n",
    " **NOTICE THAT** input (X) and output (y) sequences have **variable lengths** \n",
    "\n",
    "* Actually, for this simple Seq2Seq Learning problem,  I formulated the **y** sequence to be **the even numbers  of the given sequence (X) in reverse order**. \n",
    "* **Assume** that you do not know that relation: You only have 2 parallel datasets X and y\n",
    "\n",
    "In this part, we will develop an encoder-decoder model for the above **variable-size** input and output sequences\n",
    "\n",
    "* To create parallel datasets X and y, I already prepare a function and an interface to configure it as below\n",
    "\n",
    "\n",
    "\n",
    "\n",
    "\n",
    "\n",
    "\n"
   ]
  },
  {
   "cell_type": "code",
   "execution_count": null,
   "metadata": {
    "cellView": "form",
    "colab": {
     "base_uri": "https://localhost:8080/"
    },
    "id": "4QW42m7LCHtO",
    "outputId": "7b48f4bd-0c9d-4715-f0a5-b64be465d113"
   },
   "outputs": [
    {
     "name": "stdout",
     "output_type": "stream",
     "text": [
      "\n",
      "Sample X and y sequences (in Raw Format)\n",
      "X[ 0 ]=[3, 5, 9, 7, 7, 6, 5, 2] ........ y[ 0 ]=[2, 6]\n",
      "X[ 1 ]=[2, 8, 9, 4, 6, 7, 7] ........ y[ 1 ]=[6, 4, 8, 2]\n",
      "X[ 2 ]=[1, 2, 9, 6, 7, 9, 7, 9] ........ y[ 2 ]=[6, 2]\n",
      "X[ 3 ]=[6, 6, 8, 3, 8, 4] ........ y[ 3 ]=[4, 8, 8, 6, 6]\n",
      "X[ 4 ]=[5, 1, 2, 2] ........ y[ 4 ]=[2, 2]\n",
      "\n",
      "Each input and output sequences are converted one_hot_encoded format with input_dimension =  10\n",
      "X[0]=\n",
      "[[0 0 0 1 0 0 0 0 0 0]\n",
      " [0 0 0 0 0 1 0 0 0 0]\n",
      " [0 0 0 0 0 0 0 0 0 1]\n",
      " [0 0 0 0 0 0 0 1 0 0]\n",
      " [0 0 0 0 0 0 0 1 0 0]\n",
      " [0 0 0 0 0 0 1 0 0 0]\n",
      " [0 0 0 0 0 1 0 0 0 0]\n",
      " [0 0 1 0 0 0 0 0 0 0]]\n",
      "y[0]=\n",
      "[[0 0 1 0 0 0 0 0 0 0]\n",
      " [0 0 0 0 0 0 1 0 0 0]]\n",
      "\n",
      "Generated sequence datasets as follows [sample_size,time_steps, input_dimension]\n",
      "X_train.shape:  (4000,) y_train.shape:  (4000,)\n",
      "X_test.shape:  (200,) y_test.shape:  (200,)\n",
      "time: 176 ms\n"
     ]
    }
   ],
   "source": [
    "#@title Configure problem\n",
    "\n",
    "min_timesteps_in =   4#@param {type:\"integer\"}\n",
    "max_timesteps_in =   8#@param {type:\"integer\"}\n",
    "\n",
    "input_dimension = 10   #@param {type:\"integer\"}\n",
    "#each value is one_hot_encoded with 10 0/1\n",
    "\n",
    "\n",
    "\n",
    "# generate datasets\n",
    "train_size= 4000 #@param {type:\"integer\"}\n",
    "test_size = 200  #@param {type:\"integer\"}\n",
    "\n",
    "X_train, y_train , X_test, \ty_test=create_dataset(train_size, test_size, min_timesteps_in, max_timesteps_in, input_dimension , verbose=True)\n",
    "\n"
   ]
  },
  {
   "cell_type": "markdown",
   "metadata": {
    "id": "2LQcud-zWaJK"
   },
   "source": [
    "**IMPORTANT**: \n",
    "1. Pay attention to **shapes** of X and y  data sets. Even though we created 3D arrays [***sample_size, time_steps, input_dimension***], above we observed  that Python reports their corresponding shapes as (**4000,**) or (**200,**). Why? Because, the **time_steps** dimension does **NOT** have a **fixed** size! *time_steps* has **variable** sizes! Therefore, TensorFlow can NOT print **the complete shape of the dataset**.\n",
    "\n",
    "2. I **reserve 0 (zero)** as a **special symbol** and therefore I do **NOT use** it in sequences as a number!"
   ]
  },
  {
   "cell_type": "markdown",
   "metadata": {
    "id": "pzZ_ld1wksgy"
   },
   "source": [
    "---\n",
    "# How to handle variable Input and Output sequence size\n",
    "* In our previous parts, we  **assumed** that input and output sequence sizes of all samples are **fixed and known in advance**\n",
    "* Now, we relax this requirement by assuming **input & output sequence sizes may vary** from sample to sample\n",
    "* However, in Artificial Neural Network models (including encoder decoder models), the first and last layers have a **fixed number of neurons** and ***during training***, we need to provide **fixed-size samples** in the input (X) and output (y) data sets.  \n",
    "* Therefore, ANN models should be trained with samples structured in a fixed-size shape.\n",
    "* However, since we have variable-size input/output samples, we need to convert them into a fixed-size shape.\n",
    "* The popular solution has two parts:\n",
    "  * **During training**: we will use **padding** and **masking** to make **all sample sequence sizes equal**.\n",
    "  * **During inference**: For variable output sequence size, we will modify the decoder such that it will work in a loop and stop generating output when a **condition is met**. This condition can be in satisfied in two ways:\n",
    "    * If the decoder generated the **maximum number** of outputs defined by the user, ***or***\n",
    "    * If the decoder generated a special \"**STOP**\" symbol\n",
    "\n",
    "Don't worry, we will implement the above solution step by step. \n",
    "\n",
    "So let's get started!\n",
    "\n"
   ]
  },
  {
   "cell_type": "markdown",
   "metadata": {
    "id": "q6srddJhWJkR"
   },
   "source": [
    "---\n",
    "#Padding\n",
    "* **Padding** means **appending a special symbol** to the *beginning* or *end* of a sequence\n",
    "* The special symbol is mostly **0 (zero)**  but ***can be any symbol which is not used as a value in the sequences***\n",
    "* We will use padding to **extend** the given sequence to a specific size\n",
    "* Assume we are given the sequence [4, 6, 8], we can pad ***two*** 0 (zeros) in two different ways:\n",
    "  * **post-padding:** We append the padding **at the end of** the sequence such that the resulting sequence becomes [4, 6, 8, 0, 0] \n",
    "  * **pre-padding:** We can also append the padding **to the beginning of** the sequence: [0, 0, 4, 6, 8]\n",
    "\n",
    "* **Notice that:** Even the original information ([4, 6, 8]) is reserved, the **size of the padded sequence** ([4, 6, 8, 0, 0] or [0, 0, 4, 6, 8] ) is **changed/incremented** to **5 instead of 3**!\n",
    "\n",
    "* **Important:** Tensorflow/Keras **recommends** using \"**post**\" padding when working with RNN layers in order to be able to use the ***CuDNN*** implementation of the layers. Thus, we will use post-padding in this tutorial."
   ]
  },
  {
   "cell_type": "code",
   "execution_count": null,
   "metadata": {
    "id": "-ebUhn8V9kDg"
   },
   "outputs": [],
   "source": []
  },
  {
   "cell_type": "markdown",
   "metadata": {
    "id": "u-CwVS8nmlAG"
   },
   "source": [
    "---\n",
    "## How to use padding in variable-size input/output sequences?\n",
    "\n",
    "* First, we will find out the **maximum number of time steps** in input/output data sets\n",
    "* Then, we will append the **necessary number** of paddings to the end of each sequence such that their number of time steps will be equal to the maximum number of time steps in the data set. \n",
    "* In the end, all the input/output sequences will have the **same** number of time steps"
   ]
  },
  {
   "cell_type": "markdown",
   "metadata": {
    "id": "0T0EuJ8dpi-A"
   },
   "source": [
    "# What would be the effect of padding in training & testing\n",
    "* Remember that we had **reserved 0 (zero)** when we created the X and y datasets\n",
    "* We reserved 0 (zero) for padding\n",
    "* **In training** \n",
    "  * encoder will consume all the sequence and the paddings \n",
    "  * decoder will learn to produce 0 (zero) when the output sequence finishes \n",
    "* **In testing**\n",
    "  * encoder will consume all the sequence and the paddings\n",
    "  * decoder will stop predicting \n",
    "    * when it generates \"**STOP**\" symbol (0 zero) as output, or\n",
    "    * when it exceeds the **number of maximum outputs** defined by the user "
   ]
  },
  {
   "cell_type": "markdown",
   "metadata": {
    "id": "IldmF1rFpoiW"
   },
   "source": [
    "---\n",
    "## Let's apply paddings to input/output datasets\n",
    "\n"
   ]
  },
  {
   "cell_type": "markdown",
   "metadata": {
    "id": "KRAWwsKWpwH1"
   },
   "source": [
    "First we will find out the **maximum** sequence size for input/output sequences in the **train** data set:\n"
   ]
  },
  {
   "cell_type": "code",
   "execution_count": null,
   "metadata": {
    "colab": {
     "base_uri": "https://localhost:8080/"
    },
    "id": "Q9RnQ1H2qb2l",
    "outputId": "aace7984-bb80-4d19-a212-79a160d32345"
   },
   "outputs": [
    {
     "name": "stdout",
     "output_type": "stream",
     "text": [
      "max_input_sequence:  8\n",
      "max_output_sequence:  8\n",
      "time: 4.5 ms\n"
     ]
    }
   ],
   "source": [
    "max_input_sequence= max(len(seq) for seq in X_train)\n",
    "max_output_sequence= max(len(seq) for seq in y_train)\n",
    "\n",
    "print('max_input_sequence: ', max_input_sequence)\n",
    "print('max_output_sequence: ', max_output_sequence)  # train ve test arasinda sonuclar ayni olmasa da olur"
   ]
  },
  {
   "cell_type": "markdown",
   "metadata": {
    "id": "YyswjIMSXHgo"
   },
   "source": [
    "In this example, `max_input_sequence` and `max_ouput_sequence` are **equal** but they could be different for your datasets. The point is you need to handle input and output sequences **separately**!\n",
    "\n",
    "Then, we will append **necessary number** of paddings to the end of each input sequence such that their number of time steps will be equal to the maximum number of time steps in the data set.\n",
    "\n",
    "We can use `pad_sequences()` function from Keras preprocessing library as below.\n",
    "\n",
    "  `pad_sequences(sequences, maxlen=None, dtype='int32', padding='pre', truncating='pre', value=0.0)`\n",
    "\n",
    "**Note that**: \n",
    "1. If the `maxlen` argument is NOT provided, the function automatically sets `maxlen` to the maximum sequence size in the samples. However, for the sake of clarity, I will provide `max_input_sequence` and `max_ouput_sequence` to the `pad_sequences()` function. \n",
    "\n",
    "2. I will provide the padding  `value` as `[1, 0, 0, 0, 0, 0, 0, 0, 0, 0]` which is the **one-hot-encoded representation** of ***0 (zero) padding***!"
   ]
  },
  {
   "cell_type": "code",
   "execution_count": null,
   "metadata": {
    "colab": {
     "base_uri": "https://localhost:8080/"
    },
    "id": "rVkt299XXQtb",
    "outputId": "a227735a-e671-45d0-f344-0a98e5926c0d"
   },
   "outputs": [
    {
     "name": "stdout",
     "output_type": "stream",
     "text": [
      "X_train shape:  (4000,)\n",
      "X_train_padded shape:  (4000, 8, 10)\n",
      "y_train shape:  (4000,)\n",
      "y_train_padded shape:  (4000, 8, 10)\n",
      "time: 47.5 ms\n"
     ]
    }
   ],
   "source": [
    "from keras.preprocessing.sequence import pad_sequences\n",
    "X_train_padded = pad_sequences(X_train, maxlen= max_input_sequence, \n",
    "                               padding='post', value=[1, 0, 0, 0, 0, 0, 0, 0, 0, 0])\n",
    "print(\"X_train shape: \",X_train.shape)  # ne train de ne testte time steps ve input dimension lari göremiyoruz, timesteps her ornekte farkli old icin keras bunu bize raporlayamiyor\n",
    "print(\"X_train_padded shape: \",X_train_padded.shape)  # 3 boyutun da sabit olmasini istiyor, bu X_train i lstm e verirsek calismaz, lstm 3d istiyor\n",
    "\n",
    "y_train_padded = pad_sequences(y_train, maxlen= max_output_sequence, \n",
    "                               padding='post', value=[1, 0, 0, 0, 0, 0, 0, 0, 0, 0])  # urettigimiz rakamlar arasinda 0 yok, 1-9 arasinda\n",
    "print(\"y_train shape: \",y_train.shape)\n",
    "print(\"y_train_padded shape: \",y_train_padded.shape)"
   ]
  },
  {
   "cell_type": "markdown",
   "metadata": {
    "id": "s3TkuSV8XVep"
   },
   "source": [
    "**Important:** After padding, each sequence in X_train_padded has the same shape: (4000, **8, 10**): 8 time steps with a 10-dimension representation! That is, we have **fixed-size** input data set!\n",
    "\n",
    "Let's see an example input before  and after padding:"
   ]
  },
  {
   "cell_type": "code",
   "execution_count": null,
   "metadata": {
    "colab": {
     "base_uri": "https://localhost:8080/"
    },
    "id": "ICjRf7yPXdC6",
    "outputId": "c91c50dc-cd78-4b76-caea-e1e56be18562"
   },
   "outputs": [
    {
     "name": "stdout",
     "output_type": "stream",
     "text": [
      "____Sample Input (Raw Format)____\n",
      "Original:\n",
      " [3, 5, 9, 7, 7, 6, 5, 2]\n",
      "Padded:\n",
      " [3, 5, 9, 7, 7, 6, 5, 2]\n",
      "____Corresponding Output (Raw Format)____\n",
      "Original:\n",
      " [2, 6]\n",
      "Padded:\n",
      " [2, 6, 0, 0, 0, 0, 0, 0]\n",
      "time: 7.21 ms\n"
     ]
    }
   ],
   "source": [
    "i=0\n",
    "print(\"____Sample Input (Raw Format)____\")\n",
    "print(\"Original:\\n\", one_hot_decode(X_train[i]))\n",
    "print(\"Padded:\\n\",one_hot_decode(X_train_padded[i]))\n",
    "print(\"____Corresponding Output (Raw Format)____\")\n",
    "print(\"Original:\\n\", one_hot_decode(y_train[i]))\n",
    "print(\"Padded:\\n\",one_hot_decode(y_train_padded[i]))"
   ]
  },
  {
   "cell_type": "markdown",
   "metadata": {
    "id": "FK02loK2XgB0"
   },
   "source": [
    "Let's apply padding to the **test** data set as well"
   ]
  },
  {
   "cell_type": "code",
   "execution_count": null,
   "metadata": {
    "colab": {
     "base_uri": "https://localhost:8080/"
    },
    "id": "U7JNegGNXjFb",
    "outputId": "6d3b38db-d5d2-4518-d564-2aaa44ced103"
   },
   "outputs": [
    {
     "name": "stdout",
     "output_type": "stream",
     "text": [
      "X_test shape:  (200,)\n",
      "X_test_padded shape:  (200, 8, 10)\n",
      "y_test shape:  (200,)\n",
      "y_test_padded shape:  (200, 8, 10)\n",
      "time: 11 ms\n"
     ]
    }
   ],
   "source": [
    "X_test_padded = pad_sequences(X_test, maxlen= max_input_sequence, padding='post', \n",
    "                              value=[1, 0, 0, 0, 0, 0, 0, 0, 0, 0])\n",
    "print(\"X_test shape: \",X_test.shape)\n",
    "print(\"X_test_padded shape: \",X_test_padded.shape)\n",
    "\n",
    "y_test_padded = pad_sequences(y_test, maxlen= max_output_sequence, padding='post', \n",
    "                              value=[1, 0, 0, 0, 0, 0, 0, 0, 0, 0])\n",
    "print(\"y_test shape: \",y_test.shape)\n",
    "print(\"y_test_padded shape: \",y_test_padded.shape)"
   ]
  },
  {
   "cell_type": "markdown",
   "metadata": {
    "id": "ou9pgQkCX489"
   },
   "source": [
    "---\n",
    "# Masking\n",
    "\n",
    "* **Masking** is a way to tell ***sequence-processing layers*** that certain timesteps in an input are **missing**, and thus should be **skipped** when processing the data.\n",
    "* Above we applied padding and all samples have a uniform sequence length. \n",
    "* Now, we need to inform the model that **some part of the data** is actually ***padding*** and should be **ignored** during processing. \n",
    "* That mechanism is called \"**masking**\".\n",
    "* There are three ways to introduce input masks in Keras models:\n",
    "\n",
    "  1. Add a  `keras.layers.Masking` layer.\n",
    "  2. Configure a  `keras.layers.Embedding` layer with mask_zero=True.\n",
    "  3. Pass a mask argument manually when calling layers that support this argument (e.g. RNN layers).\n",
    "\n",
    "* In this tutorial, I will use **Masking layer**. As you remember, we **padded** the sequences with **0 (zero)** value. However, 0 value is converted ***one-hot encoding***. Thus, the mask value is the one-hot-encoded representation of `0` (zero) which is  `[1 0 0 0 0 0 0 0 0 0]` \n",
    "\n",
    "Therefore, we will create a **Masking layer** as below: \n",
    "\n",
    "`masking = tf.keras.layers.Masking(mask_value= [1, 0, 0, 0, 0, 0, 0, 0, 0, 0])` "
   ]
  },
  {
   "cell_type": "markdown",
   "metadata": {
    "id": "896tAu6Rue5G"
   },
   "source": [
    "#Encoder-Decoder model with Teacher Forcing\n",
    "\n",
    "I **assume** that you have already studied previous parts and you have got familiar with **Encoder-Decoder model with Teacher Forcing**. \n",
    "\n",
    "If you have not, **please review at least Part D before continue**.\n",
    "\n",
    "\n",
    "\n"
   ]
  },
  {
   "cell_type": "markdown",
   "metadata": {
    "id": "7cv23bnVmSD2"
   },
   "source": [
    "### A QUICK REMINDER: HOW TO TRAIN AN ENCODER - DECODER  WITH TEACHER FORCING  \n",
    "The generic steps are as follows:\n",
    "* Decoder produces the output sequence one by one \n",
    "* For each output, the decoder consumes a context vector and an input\n",
    "* The **initial** **context** vector is created by the encoder\n",
    "* The **initial input** is a special symbol for decoder to make it start, e.g. '***start***'\n",
    "* Using initial context and initial input, decoder will generate the **first output**\n",
    "\n",
    "However, the input to the decoder during the loop is different\n",
    "* For the next output, \n",
    "  * decoder will use its **current state** ***as the context vector*** \n",
    "  * we (*the teacher!*) provide **the correct output** to the decoder  as ***input***\n",
    "* Decoder will work in such a **loop** using its state and the **provided correct output** as the next step context vector and input **until** the generated output is a special symbol '***stop***' or the ***pre-defined maximum steps*** (length of output) is reached.\n",
    "\n",
    "\n",
    "Therefore, we need to provide 2 input sequence TRAIN AN ENCODER - DECODER  WITH TEACHER FORCING such that\n",
    "1. input to encoder: [4 7 2 0 0 0 0 0]\n",
    "2. input to decoder: [0 2 4 0 0 0 0 0]\n",
    "\n",
    "**Note that**: \n",
    "* Expected output is [2 4 0 0 0 0 0 0] ----even numbers in reverse order of input to encoder\n",
    "* 0 (zero) is selected as special symbol for '**start**' and '**padding**'\n",
    "* **input to decoder** is created by **shifting** the expected output by one time steps and  **adding** '*start*' token as the first token: [2 4 0 0 0 0 0 0] ------> [0 2 4 0 0 0 0 0]\n",
    "* At the **first** cycle, decoder will use encoder's state and its first input which is 0 ([1 0 0 0 0 0 0 0] ) from [**0** 2 4 0 0 0 0 0] to generate the first expected output which is 2 from [2 4 0 0 0 0 0 0]\n",
    "* Assume that decoder predicts 5 \n",
    "  * in **generic** Encoder-Decoder model decoder will use 5 to generate/predict next token \n",
    "  * in **teacher forcing**, we (the teacher!) provide the second input from [0 **2** 4 0 0 0 0 0] which is **2** to the decoder to generate/predict next token \n",
    "\n",
    "Thus,  **during training**,  ***teacher*** enforces the decoder to condition itself to generate/predict next token according to the given correct input!\n",
    " \n"
   ]
  },
  {
   "cell_type": "markdown",
   "metadata": {
    "id": "Xmd9BNzD8Sgb"
   },
   "source": [
    "### HOW TO USE AN ENCODER - DECODER MODEL TRAINED WITH TEACHER FORCING FOR INFERENCE (PREDICTION)\n",
    "\n",
    "* We need 2 input sequences:\n",
    "1. Input for encoder: ***encoder_inputs***\n",
    "2. Input for decoder: ***decoder_inputs***\n",
    "\n",
    "* The ***encoder_inputs*** is given \n",
    "* However, this time we do not have correct outputs\n",
    "* Therefore,  we will provide the **predicted output** as the input. \n",
    "* The first input is '*start*' and the other inputs will be the outputs from previous cycle"
   ]
  },
  {
   "cell_type": "markdown",
   "metadata": {
    "id": "awBCSEhYlZb9"
   },
   "source": [
    "## PREPARE TRAINING DATA SETS\n",
    "* To train the Encoder Decoder model we need to work on train data set such that we will prepare 3 data sets:\n",
    "\n",
    "1. Input for encoder (***encoder_inputs***): training input data (X)\n",
    "2. Input for decoder (***decoder_inputs***): shifted and appended START output data (y)\n",
    "3. Target for decoder (***decoder_target_data***): output data (y)\n"
   ]
  },
  {
   "cell_type": "code",
   "execution_count": null,
   "metadata": {
    "colab": {
     "base_uri": "https://localhost:8080/"
    },
    "id": "naoOilC07-7M",
    "outputId": "a79737f7-20f8-4b5c-c0a2-0e830be7e9fc"
   },
   "outputs": [
    {
     "name": "stdout",
     "output_type": "stream",
     "text": [
      "Data for Train\n",
      "encoder_input_data (X):  [2, 8, 9, 4, 6, 7, 7, 0]\n",
      "decoder_input_data (teacher forcing):  [0, 6, 4, 8, 2, 0, 0, 0]\n",
      "decoder_target_data (y): [6, 4, 8, 2, 0, 0, 0, 0]\n",
      "(4000, 8, 10)\n",
      "time: 379 ms\n"
     ]
    }
   ],
   "source": [
    "#Prepare TRAIN data set\n",
    "encoder_input_data = X_train_padded.copy()\n",
    "decoder_target_data = y_train_padded.copy()\n",
    "decoder_input_data = decoder_target_data.copy()\n",
    "for i, samples in enumerate(decoder_target_data):\n",
    "  seq = one_hot_decode(samples)\n",
    "  shifted= shift(seq, 1, cval=0)\n",
    "  decoder_input_data[i]=one_hot_encode(shifted,input_dimension)\n",
    "print(\"Data for Train\")\n",
    "print('encoder_input_data (X): ', one_hot_decode(encoder_input_data[1]))\n",
    "print('decoder_input_data (teacher forcing): ',one_hot_decode(decoder_input_data[1]))\n",
    "print('decoder_target_data (y):',one_hot_decode(decoder_target_data[1]))\n",
    "print(encoder_input_data.shape)\n",
    "\n",
    "#Prepare TEST data set\n",
    "encoder_input_test = X_test_padded.copy()\n",
    "decoder_target_test = y_test_padded.copy()\n",
    "decoder_input_test= decoder_target_test.copy()\n",
    "for i, samples in enumerate(decoder_target_test):\n",
    "  seq = one_hot_decode(samples)\n",
    "  shifted= shift(seq, 1, cval=0)\n",
    "  decoder_input_test[i]=one_hot_encode(shifted,input_dimension)"
   ]
  },
  {
   "cell_type": "markdown",
   "metadata": {
    "id": "_NiljzZERf65"
   },
   "source": [
    "#### CREATE AN ENCODER - DECODER MODEL WITH TEACHER FORCING TO TRAIN\n",
    "* Define the model that will turn `encoder_input_data` & `decoder_input_data` into `decoder_target_data`\n",
    "\n",
    "* complete the decoder model by adding a **Dense** layer with **Softmax** activation function for prediction of the next output\n",
    "* Dense layer will output **one-hot encoded representation** as we did for input\n",
    "* Therefore, we will use **input_dimension** number of neurons\n"
   ]
  },
  {
   "cell_type": "code",
   "execution_count": null,
   "metadata": {
    "cellView": "form",
    "colab": {
     "base_uri": "https://localhost:8080/"
    },
    "id": "hLsUZm32wEm9",
    "outputId": "05d84199-a4a5-4f00-f630-aca6a8b3433d"
   },
   "outputs": [
    {
     "name": "stdout",
     "output_type": "stream",
     "text": [
      "time: 3.39 ms\n"
     ]
    }
   ],
   "source": [
    "#@title LSTMoutputDimension\n",
    "LSTMoutputDimension = 32 #@param {type:\"integer\"}\n"
   ]
  },
  {
   "cell_type": "code",
   "execution_count": null,
   "metadata": {
    "colab": {
     "base_uri": "https://localhost:8080/"
    },
    "id": "c8APiln9hECa",
    "outputId": "ac856c6a-b91c-4e52-b128-684ed4b323fd"
   },
   "outputs": [
    {
     "name": "stdout",
     "output_type": "stream",
     "text": [
      "time: 542 ms\n"
     ]
    }
   ],
   "source": [
    "# Define an input sequence and process it.\n",
    "encoder_inputs= Input(shape=(max_input_sequence, input_dimension), name='encoder_inputs')\n",
    "\n",
    "masking = tf.keras.layers.Masking(mask_value= [1, 0, 0, 0, 0, 0, 0, 0, 0, 0])\n",
    "encoder_inputs_masked = masking(encoder_inputs)\n",
    "\n",
    "\n",
    "encoder_lstm=LSTM(LSTMoutputDimension, return_state=True, name='encoder_lstm')\n",
    "LSTM_outputs, state_h, state_c = encoder_lstm(encoder_inputs_masked)\n",
    "\n",
    "\n",
    "# We discard `LSTM_outputs` and only keep the other states.\n",
    "encoder_states = [state_h, state_c]\n",
    "\n",
    "\n",
    "# units i none verdik cunku biz burada batch train edicez ama testte 1 tane sample verip run edicez\n",
    "# biz buraya bir rakam verirsek testte 1 tane verip calistiramaz hata aliriz !!!!!!!!\n",
    "# None burada herhangi bir sayi buraya gelebilir demek\n",
    "decoder_inputs = Input(shape=(None, input_dimension), name='decoder_inputs')\n",
    "decoder_lstm = LSTM(LSTMoutputDimension, return_sequences=True, return_state=True, name='decoder_lstm')\n",
    "\n",
    "# Set up the decoder, using `context vector` as initial state.\n",
    "decoder_outputs, _, _ = decoder_lstm(decoder_inputs,\n",
    "                                     initial_state=encoder_states)\n",
    "\n",
    "#complete the decoder model by adding a Dense layer with Softmax activation function \n",
    "#for prediction of the next output\n",
    "#Dense layer will output one-hot encoded representation as we did for input\n",
    "#Therefore, we will use input_dimension number of neurons\n",
    "decoder_dense = Dense(input_dimension, activation='softmax', name='decoder_dense')\n",
    "decoder_outputs = decoder_dense(decoder_outputs)\n",
    "\n",
    "# put together\n",
    "model_encoder_training = Model([encoder_inputs, decoder_inputs], \n",
    "                               decoder_outputs, name='model_encoder_training')"
   ]
  },
  {
   "cell_type": "markdown",
   "metadata": {
    "id": "Bar9GXP8lK03"
   },
   "source": [
    "* compile the model"
   ]
  },
  {
   "cell_type": "code",
   "execution_count": null,
   "metadata": {
    "colab": {
     "base_uri": "https://localhost:8080/",
     "height": 786
    },
    "id": "chIhj-6flP8x",
    "outputId": "3a5c5e45-7cfa-4310-f367-abd558cb17e4"
   },
   "outputs": [
    {
     "name": "stdout",
     "output_type": "stream",
     "text": [
      "Model: \"model_encoder_training\"\n",
      "__________________________________________________________________________________________________\n",
      "Layer (type)                    Output Shape         Param #     Connected to                     \n",
      "==================================================================================================\n",
      "encoder_inputs (InputLayer)     [(None, 8, 10)]      0                                            \n",
      "__________________________________________________________________________________________________\n",
      "decoder_inputs (InputLayer)     [(None, None, 10)]   0                                            \n",
      "__________________________________________________________________________________________________\n",
      "encoder_lstm (LSTM)             [(None, 32), (None,  5504        encoder_inputs[0][0]             \n",
      "__________________________________________________________________________________________________\n",
      "decoder_lstm (LSTM)             [(None, None, 32), ( 5504        decoder_inputs[0][0]             \n",
      "                                                                 encoder_lstm[0][1]               \n",
      "                                                                 encoder_lstm[0][2]               \n",
      "__________________________________________________________________________________________________\n",
      "decoder_dense (Dense)           (None, None, 10)     330         decoder_lstm[0][0]               \n",
      "==================================================================================================\n",
      "Total params: 11,338\n",
      "Trainable params: 11,338\n",
      "Non-trainable params: 0\n",
      "__________________________________________________________________________________________________\n"
     ]
    },
    {
     "data": {
      "image/png": "[encoded data removed]",
      "text/plain": [
       "<IPython.core.display.Image object>"
      ]
     },
     "execution_count": 102,
     "metadata": {
      "tags": []
     },
     "output_type": "execute_result"
    },
    {
     "name": "stdout",
     "output_type": "stream",
     "text": [
      "time: 96.3 ms\n"
     ]
    }
   ],
   "source": [
    "model_encoder_training.compile(optimizer='adam', loss='categorical_crossentropy', \n",
    "                               metrics=['accuracy'])\n",
    "model_encoder_training.summary()\n",
    "plot_model(model_encoder_training, show_shapes=True)"
   ]
  },
  {
   "cell_type": "markdown",
   "metadata": {
    "id": "SOgl-XW3lAI1"
   },
   "source": [
    "* We train the model while monitoring the loss on a held-out set of 20% of the samples as below.\n",
    "\n",
    "* However, I prepared a custom `train_test` function for getting a detail report of training and testing.\n",
    "\n",
    "``` python\n",
    "# Run training\n",
    "model_encoder_training.fit([encoder_input_data, decoder_input_data], decoder_target_data,\n",
    "          batch_size=32,\n",
    "          epochs=50,\n",
    "          validation_split=0.2)\n",
    "```\n",
    "\n"
   ]
  },
  {
   "cell_type": "code",
   "execution_count": null,
   "metadata": {
    "colab": {
     "base_uri": "https://localhost:8080/",
     "height": 1000
    },
    "id": "MNqTy_Aut89e",
    "outputId": "b7050af4-3692-4d93-9928-277b37078000"
   },
   "outputs": [
    {
     "name": "stdout",
     "output_type": "stream",
     "text": [
      "training for  50  epochs begins with EarlyStopping(monitor= val_loss, patience= 3 )....\n",
      "Epoch 1/50\n",
      "57/57 - 1s - loss: 1.6547 - accuracy: 0.5807 - val_loss: 0.9844 - val_accuracy: 0.6538\n",
      "Epoch 2/50\n",
      "57/57 - 0s - loss: 0.7958 - accuracy: 0.6839 - val_loss: 0.6615 - val_accuracy: 0.7113\n",
      "Epoch 3/50\n",
      "57/57 - 0s - loss: 0.5580 - accuracy: 0.7606 - val_loss: 0.5019 - val_accuracy: 0.7816\n",
      "Epoch 4/50\n",
      "57/57 - 0s - loss: 0.4580 - accuracy: 0.8041 - val_loss: 0.4504 - val_accuracy: 0.8066\n",
      "Epoch 5/50\n",
      "57/57 - 0s - loss: 0.4165 - accuracy: 0.8277 - val_loss: 0.4173 - val_accuracy: 0.8338\n",
      "Epoch 6/50\n",
      "57/57 - 0s - loss: 0.3771 - accuracy: 0.8532 - val_loss: 0.3737 - val_accuracy: 0.8512\n",
      "Epoch 7/50\n",
      "57/57 - 0s - loss: 0.3354 - accuracy: 0.8680 - val_loss: 0.3345 - val_accuracy: 0.8763\n",
      "Epoch 8/50\n",
      "57/57 - 0s - loss: 0.2965 - accuracy: 0.8816 - val_loss: 0.2963 - val_accuracy: 0.8766\n",
      "Epoch 9/50\n",
      "57/57 - 0s - loss: 0.2640 - accuracy: 0.8920 - val_loss: 0.2730 - val_accuracy: 0.8872\n",
      "Epoch 10/50\n",
      "57/57 - 0s - loss: 0.2393 - accuracy: 0.9054 - val_loss: 0.2432 - val_accuracy: 0.9031\n",
      "Epoch 11/50\n",
      "57/57 - 0s - loss: 0.2162 - accuracy: 0.9186 - val_loss: 0.2231 - val_accuracy: 0.9128\n",
      "Epoch 12/50\n",
      "57/57 - 0s - loss: 0.1956 - accuracy: 0.9315 - val_loss: 0.1968 - val_accuracy: 0.9319\n",
      "Epoch 13/50\n",
      "57/57 - 0s - loss: 0.1755 - accuracy: 0.9451 - val_loss: 0.1772 - val_accuracy: 0.9444\n",
      "Epoch 14/50\n",
      "57/57 - 0s - loss: 0.1585 - accuracy: 0.9535 - val_loss: 0.1599 - val_accuracy: 0.9497\n",
      "Epoch 15/50\n",
      "57/57 - 0s - loss: 0.1428 - accuracy: 0.9598 - val_loss: 0.1428 - val_accuracy: 0.9566\n",
      "Epoch 16/50\n",
      "57/57 - 0s - loss: 0.1274 - accuracy: 0.9662 - val_loss: 0.1319 - val_accuracy: 0.9622\n",
      "Epoch 17/50\n",
      "57/57 - 0s - loss: 0.1162 - accuracy: 0.9700 - val_loss: 0.1185 - val_accuracy: 0.9703\n",
      "Epoch 18/50\n",
      "57/57 - 0s - loss: 0.1050 - accuracy: 0.9748 - val_loss: 0.1056 - val_accuracy: 0.9762\n",
      "Epoch 19/50\n",
      "57/57 - 0s - loss: 0.0948 - accuracy: 0.9774 - val_loss: 0.1017 - val_accuracy: 0.9753\n",
      "Epoch 20/50\n",
      "57/57 - 0s - loss: 0.0869 - accuracy: 0.9804 - val_loss: 0.0884 - val_accuracy: 0.9828\n",
      "Epoch 21/50\n",
      "57/57 - 0s - loss: 0.0798 - accuracy: 0.9830 - val_loss: 0.0802 - val_accuracy: 0.9856\n",
      "Epoch 22/50\n",
      "57/57 - 0s - loss: 0.0712 - accuracy: 0.9863 - val_loss: 0.0758 - val_accuracy: 0.9872\n",
      "Epoch 23/50\n",
      "57/57 - 0s - loss: 0.0664 - accuracy: 0.9870 - val_loss: 0.0712 - val_accuracy: 0.9887\n",
      "Epoch 24/50\n",
      "57/57 - 0s - loss: 0.0603 - accuracy: 0.9902 - val_loss: 0.0672 - val_accuracy: 0.9872\n",
      "Epoch 25/50\n",
      "57/57 - 0s - loss: 0.0572 - accuracy: 0.9904 - val_loss: 0.0611 - val_accuracy: 0.9891\n",
      "Epoch 26/50\n",
      "57/57 - 0s - loss: 0.0512 - accuracy: 0.9917 - val_loss: 0.0525 - val_accuracy: 0.9925\n",
      "Epoch 27/50\n",
      "57/57 - 0s - loss: 0.0460 - accuracy: 0.9936 - val_loss: 0.0484 - val_accuracy: 0.9937\n",
      "Epoch 28/50\n",
      "57/57 - 0s - loss: 0.0428 - accuracy: 0.9937 - val_loss: 0.0470 - val_accuracy: 0.9937\n",
      "Epoch 29/50\n",
      "57/57 - 0s - loss: 0.0406 - accuracy: 0.9949 - val_loss: 0.0421 - val_accuracy: 0.9950\n",
      "Epoch 30/50\n",
      "57/57 - 0s - loss: 0.0375 - accuracy: 0.9945 - val_loss: 0.0400 - val_accuracy: 0.9950\n",
      "Epoch 31/50\n",
      "57/57 - 0s - loss: 0.0363 - accuracy: 0.9948 - val_loss: 0.0433 - val_accuracy: 0.9916\n",
      "Epoch 32/50\n",
      "57/57 - 0s - loss: 0.0332 - accuracy: 0.9952 - val_loss: 0.0372 - val_accuracy: 0.9947\n",
      "Epoch 33/50\n",
      "57/57 - 0s - loss: 0.0335 - accuracy: 0.9951 - val_loss: 0.0360 - val_accuracy: 0.9962\n",
      "Epoch 34/50\n",
      "57/57 - 0s - loss: 0.0290 - accuracy: 0.9962 - val_loss: 0.0307 - val_accuracy: 0.9959\n",
      "Epoch 35/50\n",
      "57/57 - 0s - loss: 0.0287 - accuracy: 0.9960 - val_loss: 0.0283 - val_accuracy: 0.9972\n",
      "Epoch 36/50\n",
      "57/57 - 0s - loss: 0.0270 - accuracy: 0.9963 - val_loss: 0.0292 - val_accuracy: 0.9975\n",
      "Epoch 37/50\n",
      "57/57 - 0s - loss: 0.0233 - accuracy: 0.9973 - val_loss: 0.0263 - val_accuracy: 0.9953\n",
      "Epoch 38/50\n",
      "57/57 - 0s - loss: 0.0219 - accuracy: 0.9976 - val_loss: 0.0255 - val_accuracy: 0.9969\n",
      "Epoch 39/50\n",
      "57/57 - 0s - loss: 0.0202 - accuracy: 0.9980 - val_loss: 0.0225 - val_accuracy: 0.9969\n",
      "Epoch 40/50\n",
      "57/57 - 0s - loss: 0.0205 - accuracy: 0.9977 - val_loss: 0.0243 - val_accuracy: 0.9966\n",
      "Epoch 41/50\n",
      "57/57 - 0s - loss: 0.0213 - accuracy: 0.9968 - val_loss: 0.0240 - val_accuracy: 0.9962\n",
      "Epoch 42/50\n",
      "57/57 - 0s - loss: 0.0189 - accuracy: 0.9975 - val_loss: 0.0206 - val_accuracy: 0.9969\n",
      "Epoch 43/50\n",
      "57/57 - 0s - loss: 0.0174 - accuracy: 0.9980 - val_loss: 0.0187 - val_accuracy: 0.9978\n",
      "Epoch 44/50\n",
      "57/57 - 0s - loss: 0.0154 - accuracy: 0.9984 - val_loss: 0.0199 - val_accuracy: 0.9972\n",
      "Epoch 45/50\n",
      "57/57 - 0s - loss: 0.0155 - accuracy: 0.9984 - val_loss: 0.0171 - val_accuracy: 0.9978\n",
      "Epoch 46/50\n",
      "57/57 - 0s - loss: 0.0139 - accuracy: 0.9987 - val_loss: 0.0174 - val_accuracy: 0.9978\n",
      "Epoch 47/50\n",
      "57/57 - 0s - loss: 0.0148 - accuracy: 0.9984 - val_loss: 0.0169 - val_accuracy: 0.9975\n",
      "Epoch 48/50\n",
      "57/57 - 0s - loss: 0.0130 - accuracy: 0.9989 - val_loss: 0.0166 - val_accuracy: 0.9975\n",
      "Epoch 49/50\n",
      "57/57 - 0s - loss: 0.0129 - accuracy: 0.9989 - val_loss: 0.0176 - val_accuracy: 0.9966\n",
      "Epoch 50/50\n",
      "57/57 - 0s - loss: 0.0131 - accuracy: 0.9985 - val_loss: 0.0158 - val_accuracy: 0.9975\n",
      "50  epoch training finished...\n",
      "\n",
      "PREDICTION ACCURACY (%):\n",
      "Train: 99.856, Test: 99.875\n"
     ]
    },
    {
     "data": {
      "image/png": "[encoded data removed]",
      "text/plain": [
       "<Figure size 432x288 with 1 Axes>"
      ]
     },
     "metadata": {
      "needs_background": "light",
      "tags": []
     },
     "output_type": "display_data"
    },
    {
     "data": {
      "image/png": "[encoded data removed]",
      "text/plain": [
       "<Figure size 432x288 with 1 Axes>"
      ]
     },
     "metadata": {
      "needs_background": "light",
      "tags": []
     },
     "output_type": "display_data"
    },
    {
     "name": "stdout",
     "output_type": "stream",
     "text": [
      "10 examples from test data...\n",
      "Input                      Expected                   Predicted                     T/F\n",
      "[3, 8, 7, 1, 7, 8, 6, 8]   [8, 6, 8, 8, 0, 0, 0, 0]   [8, 6, 8, 8, 0, 0, 0, 0]   True\n",
      "[9, 4, 3, 3, 5, 2, 1, 7]   [2, 4, 0, 0, 0, 0, 0, 0]   [2, 4, 0, 0, 0, 0, 0, 0]   True\n",
      "[2, 6, 9, 6, 2, 2, 7, 0]   [2, 2, 6, 6, 2, 0, 0, 0]   [2, 2, 6, 6, 2, 0, 0, 0]   True\n",
      "[1, 9, 4, 7, 2, 0, 0, 0]   [2, 4, 0, 0, 0, 0, 0, 0]   [2, 4, 0, 0, 0, 0, 0, 0]   True\n",
      "[6, 5, 9, 4, 7, 6, 0, 0]   [6, 4, 6, 0, 0, 0, 0, 0]   [6, 4, 6, 0, 0, 0, 0, 0]   True\n",
      "[2, 2, 9, 6, 7, 0, 0, 0]   [6, 2, 2, 0, 0, 0, 0, 0]   [6, 2, 2, 0, 0, 0, 0, 0]   True\n",
      "[9, 5, 2, 2, 9, 7, 4, 5]   [4, 2, 2, 0, 0, 0, 0, 0]   [4, 2, 2, 0, 0, 0, 0, 0]   True\n",
      "[7, 2, 2, 6, 9, 4, 9, 8]   [8, 4, 6, 2, 2, 0, 0, 0]   [8, 4, 6, 2, 2, 0, 0, 0]   True\n",
      "[7, 4, 1, 9, 0, 0, 0, 0]   [4, 0, 0, 0, 0, 0, 0, 0]   [4, 0, 0, 0, 0, 0, 0, 0]   True\n",
      "[5, 7, 9, 6, 7, 0, 0, 0]   [6, 0, 0, 0, 0, 0, 0, 0]   [6, 0, 0, 0, 0, 0, 0, 0]   True\n",
      "Accuracy:  1.0\n",
      "time: 26.9 s\n"
     ]
    }
   ],
   "source": [
    "train_test(model_encoder_training, [encoder_input_data, decoder_input_data], decoder_target_data ,\n",
    "           [encoder_input_test, decoder_input_test], \n",
    "           decoder_target_test, epochs=50, batch_size=64, patience=3,verbose=2)"
   ]
  },
  {
   "cell_type": "markdown",
   "metadata": {
    "id": "akzeTYxMJEx0"
   },
   "source": [
    "**IMPORTANT**: \n",
    "\n",
    "The above model is **ONLY** for Training. **WHY?**\n",
    "\n",
    "**Because**:\n",
    "* Teacher Forcing needs to know the correct output beforehand\n",
    "* Teacher Forcing is a method for improving the training process\n",
    "* The model employing Teacher Forcing CAN NOT BE USED in inference/testing\n",
    "\n",
    "**Therefore**, \n",
    "\n",
    "* The model that we trained above **CAN NOT BE DIRECTLY USED** in **Inference/Testing**\n",
    "* We will use some layers (with their weights) of the trained model to create a new model\n",
    "* ***The new model will not use Teacher Forcing***\n",
    "* Thus, the input to the new model will NOT BE  `[encoder_input_data, decoder_input_data]` as the way we designed in `model_encoder_training`\n",
    "\n",
    "**Remember:** \n",
    "\n",
    "In Teacher Forcing, we set `decoder_input_data` such that it begins with a special symbol `start` and continues with the target sequence data except for the last time step.\n",
    "* Now, during inference (testing), we do not know the correct (expected) target data before hand!\n",
    "* We define the `decoder_input_data` as follows:\n",
    "  * it begins with a special symbol `start`\n",
    "  * it will continue with an input created by the decoder at the previous time step\n",
    "  * in other words, the **decoder's output at time step t** will be used **decoder's input at time step t+1**\n",
    "\n"
   ]
  },
  {
   "cell_type": "markdown",
   "metadata": {
    "id": "w6wWdH7hMTHK"
   },
   "source": [
    "# Encoder-Decoder Model for Inference\n"
   ]
  },
  {
   "cell_type": "markdown",
   "metadata": {
    "id": "NqdZeuXCQcIf"
   },
   "source": [
    "**IMPORTANT**: \n",
    "\n",
    "We create **a separate encoder model** by using the trained layers in the above model.\n",
    "For example, in the following model, we will use `encoder_inputs, encoder_states` for encoding which are parts of the encoder model, we trained above. That is, these layers come with its **trained weights** with Teacher Forcing "
   ]
  },
  {
   "cell_type": "code",
   "execution_count": null,
   "metadata": {
    "colab": {
     "base_uri": "https://localhost:8080/"
    },
    "id": "2VJ0oxqz-VdE",
    "outputId": "daafceba-c2ed-4c7b-d18d-7fb49338c40a"
   },
   "outputs": [
    {
     "name": "stdout",
     "output_type": "stream",
     "text": [
      "time: 11 ms\n"
     ]
    }
   ],
   "source": [
    "encoder_model = Model(encoder_inputs, encoder_states)  # modelin yukaridaki kodunda olan ilk 6 satiri komple aldik, tekrar egitmeyecegiz"
   ]
  },
  {
   "cell_type": "markdown",
   "metadata": {
    "id": "x24hpoudQsHo"
   },
   "source": [
    "## Then we create **a separate decoder model** by using the trained layers in the above model"
   ]
  },
  {
   "cell_type": "markdown",
   "metadata": {
    "id": "LYAEzEyvMu3F"
   },
   "source": [
    "* then design the decoder model by defining layers for:\n",
    "  * inputs\n",
    "  * decoding (LSTM)\n",
    "  * outputs\n",
    "\n",
    "**IMPORTANT**: pay attention that in this model we use `decoder_lstm` for decoding which is a part of the decoder model we trained above. That is this layer comes with its trained weights with Teacher Forcing "
   ]
  },
  {
   "cell_type": "code",
   "execution_count": null,
   "metadata": {
    "colab": {
     "base_uri": "https://localhost:8080/"
    },
    "id": "MVD0ebVFMvKr",
    "outputId": "c627c675-c746-4b58-b44b-d80ac752d078"
   },
   "outputs": [
    {
     "name": "stdout",
     "output_type": "stream",
     "text": [
      "time: 244 ms\n"
     ]
    }
   ],
   "source": [
    "decoder_state_input_h = Input(shape=(LSTMoutputDimension,))\n",
    "decoder_state_input_c = Input(shape=(LSTMoutputDimension,))\n",
    "decoder_states_inputs = [decoder_state_input_h, decoder_state_input_c]\n",
    "\n",
    "decoder_outputs, state_h, state_c = decoder_lstm(  # yukarida egittigimiz decoder_lstm, direkt aliyoruz isimleri ayni\n",
    "    decoder_inputs, initial_state=decoder_states_inputs)\n",
    "decoder_states = [state_h, state_c]\n",
    "decoder_outputs = decoder_dense(decoder_outputs)\n",
    "decoder_model = Model(\n",
    "    [decoder_inputs] + decoder_states_inputs,\n",
    "    [decoder_outputs] + decoder_states)  # + burada concetenate islemi yapiyor"
   ]
  },
  {
   "cell_type": "markdown",
   "metadata": {
    "id": "ICQQExFvN7EQ"
   },
   "source": [
    "* Even though we define the encoder and decoder models we still need to dynamically provide the `decoder_input_data` as follows:\n",
    "  * it begins with a special symbol `start`\n",
    "  * it will continue with an input created by the decoder at previous time step\n",
    "  * in other words, **decoder's output at time step t** will be used **decoder's input at time step t+1**\n",
    "\n"
   ]
  },
  {
   "cell_type": "markdown",
   "metadata": {
    "id": "9QoROI-qJ1p0"
   },
   "source": [
    "## Let's code Encoder-Decoder model for Inference as a function"
   ]
  },
  {
   "cell_type": "code",
   "execution_count": null,
   "metadata": {
    "colab": {
     "base_uri": "https://localhost:8080/"
    },
    "id": "GJwXXDTN-oNe",
    "outputId": "7747862a-3893-41c7-d3ea-20ed431653ed"
   },
   "outputs": [
    {
     "name": "stdout",
     "output_type": "stream",
     "text": [
      "time: 20.9 ms\n"
     ]
    }
   ],
   "source": [
    "def decode_sequence(input_seq):  # encoder decoder modellerini birlestiriyoruz\n",
    "    # Encode the input as state vectors.\n",
    "    states_value = encoder_model.predict(input_seq)  # en son hidden ve cell state i doner\n",
    "\n",
    "    # Generate empty target sequence of length 1.\n",
    "    target_seq = np.zeros((1, 1, input_dimension))  # 10 tane 0\n",
    "    # Populate the first character of target sequence with the start character.\n",
    "    target_seq[0, 0, 0] = 1  # ilk basa 1 koyduk\n",
    "    # START (0 zero) in one-hot-encoding --> [1, 0, 0, 0, 0, 0, 0, 0, 0, 0]\n",
    "\n",
    "    # Sampling loop for a batch of sequences\n",
    "    # (to simplify, here we assume a batch of size 1).\n",
    "    stop_condition = False\n",
    "    decoded_seq = list()\n",
    "    while not stop_condition:\n",
    "\n",
    "        # in a loop\n",
    "        # decode the input to a token/output prediction + required states for context vector\n",
    "        output_tokens, h, c = decoder_model.predict(\n",
    "            [target_seq] + states_value)\n",
    "\n",
    "        # convert the token/output prediction to a token/output\n",
    "        sampled_token_index = np.argmax(output_tokens[0, -1, :])  # en fazla 1 olabiliyor zaten 1 olan pozisyonu dondurur\n",
    "        sampled_char = sampled_token_index\n",
    "        # add the predicted token/output to output sequence\n",
    "        decoded_seq.append(sampled_char)\n",
    "        \n",
    "\n",
    "        # Exit condition: either hit max length\n",
    "        # or find stop character.\n",
    "        if (sampled_char == 0 or  # decoder 0 urettiginde durmasini soyluyoruz, 0 dur isaretimiz cunku\n",
    "           len(decoded_seq) == max_output_sequence):\n",
    "            stop_condition = True\n",
    "\n",
    "        # Update the input target sequence (of length 1) \n",
    "        # with the predicted token/output \n",
    "        target_seq = np.zeros((1, 1, input_dimension))  #  modelimin bir sonraki inputunu suan yaptigim tahmin olarak veriyorum\n",
    "        target_seq[0, 0, sampled_token_index] = 1.  # mesela 5.indexte, 5 in oldugu yere 1 koyuyoruz\n",
    "\n",
    "        # Update input states (context vector) \n",
    "        # with the ouputed states\n",
    "        states_value = [h, c]\n",
    "\n",
    "        # loop back.....\n",
    "        \n",
    "    # when loop exists return the output sequence\n",
    "    return decoded_seq"
   ]
  },
  {
   "cell_type": "markdown",
   "metadata": {
    "id": "asQ3o3uNTQdM"
   },
   "source": [
    "## Let's call the function above for inference as below.\n",
    "\n",
    "**IMPORTANT**: Since we used the trained layers in here we do NOT need to train recently created models."
   ]
  },
  {
   "cell_type": "code",
   "execution_count": null,
   "metadata": {
    "colab": {
     "base_uri": "https://localhost:8080/"
    },
    "id": "raoWf2mW-rAB",
    "outputId": "36dc0217-b340-437a-d310-d745f11b5e8e"
   },
   "outputs": [
    {
     "name": "stdout",
     "output_type": "stream",
     "text": [
      "Input \t\t\t\t\t  Expected  \t\t\t   Predicted \t\tT/F\n",
      "[3, 5, 9, 7, 7, 6, 5, 2] \t\t [2, 6, 0, 0, 0, 0, 0, 0] \t [2, 6, 0] \t\t True\n",
      "[2, 8, 9, 4, 6, 7, 7, 0] \t\t [6, 4, 8, 2, 0, 0, 0, 0] \t [6, 4, 8, 2, 0] \t\t True\n",
      "[1, 2, 9, 6, 7, 9, 7, 9] \t\t [6, 2, 0, 0, 0, 0, 0, 0] \t [6, 2, 0] \t\t True\n",
      "[6, 6, 8, 3, 8, 4, 0, 0] \t\t [4, 8, 8, 6, 6, 0, 0, 0] \t [4, 8, 8, 6, 6, 0] \t\t True\n",
      "[5, 1, 2, 2, 0, 0, 0, 0] \t\t [2, 2, 0, 0, 0, 0, 0, 0] \t [2, 2, 0] \t\t True\n",
      "[6, 4, 3, 3, 6, 4, 1, 0] \t\t [4, 6, 4, 6, 0, 0, 0, 0] \t [4, 6, 4, 6, 0] \t\t True\n",
      "[4, 9, 8, 7, 8, 5, 7, 0] \t\t [8, 8, 4, 0, 0, 0, 0, 0] \t [8, 8, 4, 0] \t\t True\n",
      "[3, 8, 4, 2, 3, 3, 0, 0] \t\t [2, 4, 8, 0, 0, 0, 0, 0] \t [2, 4, 8, 0] \t\t True\n",
      "[3, 2, 5, 6, 0, 0, 0, 0] \t\t [6, 2, 0, 0, 0, 0, 0, 0] \t [6, 2, 0] \t\t True\n",
      "[5, 4, 4, 2, 6, 4, 9, 8] \t\t [8, 4, 6, 2, 4, 4, 0, 0] \t [8, 4, 6, 2, 4, 4, 0] \t\t True\n",
      "Accuracy:  1.0\n",
      "time: 3.27 s\n"
     ]
    }
   ],
   "source": [
    "print('Input \\t\\t\\t\\t\\t  Expected  \\t\\t\\t   Predicted \\t\\tT/F')\n",
    "correct =0 \n",
    "sampleNo =  10\n",
    "for sample in range(0,sampleNo):  # datalari sirayla 0.data, 1.data olarak tek tek vericez\n",
    "    predicted= decode_sequence(encoder_input_data[sample].  # yukarida units ini None yapma sebebimiz, burada tahmin yaparken 1 sample veriyorum\n",
    "                             reshape(1,max_input_sequence,input_dimension))\n",
    "    if (one_hot_decode(decoder_target_data[sample])== predicted+ [0] * \n",
    "      (max_output_sequence- len(predicted))):\n",
    "    correct+=1\n",
    "    print( one_hot_decode(encoder_input_data[sample]), '\\t\\t', \n",
    "        one_hot_decode(decoder_target_data[sample]),'\\t', predicted,\n",
    "        '\\t\\t',one_hot_decode(decoder_target_data[sample])== predicted+ [0] * \n",
    "        (max_output_sequence- len(predicted)))\n",
    "print('Accuracy: ', correct/sampleNo)  # 0 bizim dur isaretimiz"
   ]
  },
  {
   "cell_type": "markdown",
   "metadata": {
    "id": "ygUZeUnUKOgh"
   },
   "source": [
    "**Notice that:** Decoder stops whenever it generates 0 (zero)"
   ]
  },
  {
   "cell_type": "markdown",
   "metadata": {
    "id": "Fhj5iqYkV94_"
   },
   "source": [
    "# Observations:\n",
    "* Data set (X or y) can have samples whose lengths (time steps) can be different (variable)\n",
    "* We use padding for appending a special symbol to sequences.\n",
    "* We can pad as many as needed for a sequence to make its length equal to the maximum length in the data set.\n",
    "* We use masking to tell the layer to skip these time steps since they hold padding values.\n",
    "* Teacher Forcing is a method to train encoder-decoder models in Seq2Seq model to **accelerate training**\n",
    "* Teacher Forcing can **ONLY** be used at Training\n",
    "* We need to handle how to use the model in **inference**\n"
   ]
  },
  {
   "cell_type": "markdown",
   "metadata": {
    "id": "YZxYWKBbLgLz"
   },
   "source": [
    "# NEXT:\n",
    "**Part F: SEQ2SEQ LEARNING WITH AN ENCODER DECODER MODEL ENHANCED BY (BAHDANAU & LUONG) ATTENTION MECHANISM**"
   ]
  }
 ],
 "metadata": {
  "accelerator": "TPU",
  "colab": {
   "provenance": []
  },
  "kernelspec": {
   "display_name": "Python 3 (ipykernel)",
   "language": "python",
   "name": "python3"
  },
  "language_info": {
   "codemirror_mode": {
    "name": "ipython",
    "version": 3
   },
   "file_extension": ".py",
   "mimetype": "text/x-python",
   "name": "python",
   "nbconvert_exporter": "python",
   "pygments_lexer": "ipython3",
   "version": "3.9.7"
  }
 },
 "nbformat": 4,
 "nbformat_minor": 1
}
